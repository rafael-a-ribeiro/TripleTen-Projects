{
 "cells": [
  {
   "cell_type": "markdown",
   "metadata": {},
   "source": [
    "## Descrição do Projeto \n",
    "\n",
    "\n",
    "Você trabalha para a loja online Ice, que vende videogames no mundo todo. As avaliações de usuários e especialistas, gêneros, plataformas (por exemplo, Xbox ou PlayStation) e dados históricos sobre vendas de jogos estão disponíveis em fontes abertas. Você precisa identificar padrões que determinam se um jogo tem sucesso ou não. Isso permitirá que você identifique potenciais grandes vencedores e planeje campanhas publicitárias.\n",
    "Na sua frente estão dados que remontam a 2016. Vamos imaginar que estamos em dezembro de 2016 e você está planejando uma campanha para 2017.\n",
    "(O importante é ter experiência trabalhando com dados. Realmente não importa se você está prevendo as vendas de 2017 com base nos dados de 2016 ou as vendas de 2027 com base nos dados de 2026.)\n",
    "O conjunto de dados contém a abreviatura ESRB. O Entertainment Software Rating Board avalia o conteúdo de um jogo e atribui uma classificação etária, como Adolescente ou Maduro. (E: Todos, M: 17+, T: Adolescente, E10+: Todos 10+, K-A: 6 anos + Crianças a adultos (mudou para E), AO: Apenas Adultos 18+, EC: 3 anos+ (a ESRB mudou para E em 2018), RP: Pendente de Avaliação)\n",
    "\n"
   ]
  },
  {
   "cell_type": "markdown",
   "metadata": {},
   "source": [
    "## Qual a melhor plataforma, gênero, mercado e classificação para um jogo?\n",
    "\n",
    "Com os dados da loja online Ice, desejamos identificar as tendências do mercado, onde é o melhor investimento para o ano de 2017, quais são considerações sobre a plataforma mais lucrativa, como os mercados recebem as plataformas e gêneros diferentes. Como a nota dos críticos e dos usuários influenciam nas vendas. E se a classificação ESRB tem algum impacto\n",
    "\n",
    "\n"
   ]
  },
  {
   "cell_type": "markdown",
   "metadata": {},
   "source": [
    "### Inicialização dos dados\n"
   ]
  },
  {
   "cell_type": "code",
   "execution_count": 1,
   "metadata": {},
   "outputs": [],
   "source": [
    "#Carrgando as bibliotecas\n",
    "import pandas as pd\n",
    "import numpy as np\n",
    "import matplotlib.pyplot as plt\n",
    "from scipy import stats as st\n",
    "import seaborn as sns"
   ]
  },
  {
   "cell_type": "code",
   "execution_count": 2,
   "metadata": {},
   "outputs": [],
   "source": [
    "# Carregando Dataframe\n",
    "games_data = pd.read_csv('/datasets/games.csv')"
   ]
  },
  {
   "cell_type": "code",
   "execution_count": 3,
   "metadata": {
    "scrolled": true
   },
   "outputs": [
    {
     "name": "stdout",
     "output_type": "stream",
     "text": [
      "<class 'pandas.core.frame.DataFrame'>\n",
      "RangeIndex: 16715 entries, 0 to 16714\n",
      "Data columns (total 11 columns):\n",
      " #   Column           Non-Null Count  Dtype  \n",
      "---  ------           --------------  -----  \n",
      " 0   Name             16713 non-null  object \n",
      " 1   Platform         16715 non-null  object \n",
      " 2   Year_of_Release  16446 non-null  float64\n",
      " 3   Genre            16713 non-null  object \n",
      " 4   NA_sales         16715 non-null  float64\n",
      " 5   EU_sales         16715 non-null  float64\n",
      " 6   JP_sales         16715 non-null  float64\n",
      " 7   Other_sales      16715 non-null  float64\n",
      " 8   Critic_Score     8137 non-null   float64\n",
      " 9   User_Score       10014 non-null  object \n",
      " 10  Rating           9949 non-null   object \n",
      "dtypes: float64(6), object(5)\n",
      "memory usage: 1.4+ MB\n"
     ]
    }
   ],
   "source": [
    "# Informações do Dataframe\n",
    "games_data.info()"
   ]
  },
  {
   "cell_type": "code",
   "execution_count": 4,
   "metadata": {},
   "outputs": [
    {
     "data": {
      "text/html": [
       "<div>\n",
       "<style scoped>\n",
       "    .dataframe tbody tr th:only-of-type {\n",
       "        vertical-align: middle;\n",
       "    }\n",
       "\n",
       "    .dataframe tbody tr th {\n",
       "        vertical-align: top;\n",
       "    }\n",
       "\n",
       "    .dataframe thead th {\n",
       "        text-align: right;\n",
       "    }\n",
       "</style>\n",
       "<table border=\"1\" class=\"dataframe\">\n",
       "  <thead>\n",
       "    <tr style=\"text-align: right;\">\n",
       "      <th></th>\n",
       "      <th>Name</th>\n",
       "      <th>Platform</th>\n",
       "      <th>Year_of_Release</th>\n",
       "      <th>Genre</th>\n",
       "      <th>NA_sales</th>\n",
       "      <th>EU_sales</th>\n",
       "      <th>JP_sales</th>\n",
       "      <th>Other_sales</th>\n",
       "      <th>Critic_Score</th>\n",
       "      <th>User_Score</th>\n",
       "      <th>Rating</th>\n",
       "    </tr>\n",
       "  </thead>\n",
       "  <tbody>\n",
       "    <tr>\n",
       "      <th>0</th>\n",
       "      <td>Wii Sports</td>\n",
       "      <td>Wii</td>\n",
       "      <td>2006.0</td>\n",
       "      <td>Sports</td>\n",
       "      <td>41.36</td>\n",
       "      <td>28.96</td>\n",
       "      <td>3.77</td>\n",
       "      <td>8.45</td>\n",
       "      <td>76.0</td>\n",
       "      <td>8</td>\n",
       "      <td>E</td>\n",
       "    </tr>\n",
       "    <tr>\n",
       "      <th>1</th>\n",
       "      <td>Super Mario Bros.</td>\n",
       "      <td>NES</td>\n",
       "      <td>1985.0</td>\n",
       "      <td>Platform</td>\n",
       "      <td>29.08</td>\n",
       "      <td>3.58</td>\n",
       "      <td>6.81</td>\n",
       "      <td>0.77</td>\n",
       "      <td>NaN</td>\n",
       "      <td>NaN</td>\n",
       "      <td>NaN</td>\n",
       "    </tr>\n",
       "    <tr>\n",
       "      <th>2</th>\n",
       "      <td>Mario Kart Wii</td>\n",
       "      <td>Wii</td>\n",
       "      <td>2008.0</td>\n",
       "      <td>Racing</td>\n",
       "      <td>15.68</td>\n",
       "      <td>12.76</td>\n",
       "      <td>3.79</td>\n",
       "      <td>3.29</td>\n",
       "      <td>82.0</td>\n",
       "      <td>8.3</td>\n",
       "      <td>E</td>\n",
       "    </tr>\n",
       "    <tr>\n",
       "      <th>3</th>\n",
       "      <td>Wii Sports Resort</td>\n",
       "      <td>Wii</td>\n",
       "      <td>2009.0</td>\n",
       "      <td>Sports</td>\n",
       "      <td>15.61</td>\n",
       "      <td>10.93</td>\n",
       "      <td>3.28</td>\n",
       "      <td>2.95</td>\n",
       "      <td>80.0</td>\n",
       "      <td>8</td>\n",
       "      <td>E</td>\n",
       "    </tr>\n",
       "    <tr>\n",
       "      <th>4</th>\n",
       "      <td>Pokemon Red/Pokemon Blue</td>\n",
       "      <td>GB</td>\n",
       "      <td>1996.0</td>\n",
       "      <td>Role-Playing</td>\n",
       "      <td>11.27</td>\n",
       "      <td>8.89</td>\n",
       "      <td>10.22</td>\n",
       "      <td>1.00</td>\n",
       "      <td>NaN</td>\n",
       "      <td>NaN</td>\n",
       "      <td>NaN</td>\n",
       "    </tr>\n",
       "  </tbody>\n",
       "</table>\n",
       "</div>"
      ],
      "text/plain": [
       "                       Name Platform  Year_of_Release         Genre  NA_sales  \\\n",
       "0                Wii Sports      Wii           2006.0        Sports     41.36   \n",
       "1         Super Mario Bros.      NES           1985.0      Platform     29.08   \n",
       "2            Mario Kart Wii      Wii           2008.0        Racing     15.68   \n",
       "3         Wii Sports Resort      Wii           2009.0        Sports     15.61   \n",
       "4  Pokemon Red/Pokemon Blue       GB           1996.0  Role-Playing     11.27   \n",
       "\n",
       "   EU_sales  JP_sales  Other_sales  Critic_Score User_Score Rating  \n",
       "0     28.96      3.77         8.45          76.0          8      E  \n",
       "1      3.58      6.81         0.77           NaN        NaN    NaN  \n",
       "2     12.76      3.79         3.29          82.0        8.3      E  \n",
       "3     10.93      3.28         2.95          80.0          8      E  \n",
       "4      8.89     10.22         1.00           NaN        NaN    NaN  "
      ]
     },
     "execution_count": 4,
     "metadata": {},
     "output_type": "execute_result"
    }
   ],
   "source": [
    "# Amostra dos dados\n",
    "games_data.head()"
   ]
  },
  {
   "cell_type": "markdown",
   "metadata": {},
   "source": [
    "### Preparação dos dados\n"
   ]
  },
  {
   "cell_type": "code",
   "execution_count": 5,
   "metadata": {},
   "outputs": [
    {
     "name": "stdout",
     "output_type": "stream",
     "text": [
      "<class 'pandas.core.frame.DataFrame'>\n",
      "RangeIndex: 16715 entries, 0 to 16714\n",
      "Data columns (total 11 columns):\n",
      " #   Column           Non-Null Count  Dtype  \n",
      "---  ------           --------------  -----  \n",
      " 0   name             16713 non-null  object \n",
      " 1   platform         16715 non-null  object \n",
      " 2   year_of_release  16446 non-null  float64\n",
      " 3   genre            16713 non-null  object \n",
      " 4   na_sales         16715 non-null  float64\n",
      " 5   eu_sales         16715 non-null  float64\n",
      " 6   jp_sales         16715 non-null  float64\n",
      " 7   other_sales      16715 non-null  float64\n",
      " 8   critic_score     8137 non-null   float64\n",
      " 9   user_score       10014 non-null  object \n",
      " 10  rating           9949 non-null   object \n",
      "dtypes: float64(6), object(5)\n",
      "memory usage: 1.4+ MB\n"
     ]
    }
   ],
   "source": [
    "# Substituir os nomes das colunas (transformar tudo em minúsculos).\n",
    "games_data.columns = list(map(lambda x: x.lower(), games_data.columns))\n",
    "games_data.info()"
   ]
  },
  {
   "cell_type": "code",
   "execution_count": 6,
   "metadata": {},
   "outputs": [
    {
     "data": {
      "text/plain": [
       "array(['8', nan, '8.3', '8.5', '6.6', '8.4', '8.6', '7.7', '6.3', '7.4',\n",
       "       '8.2', '9', '7.9', '8.1', '8.7', '7.1', '3.4', '5.3', '4.8', '3.2',\n",
       "       '8.9', '6.4', '7.8', '7.5', '2.6', '7.2', '9.2', '7', '7.3', '4.3',\n",
       "       '7.6', '5.7', '5', '9.1', '6.5', 'tbd', '8.8', '6.9', '9.4', '6.8',\n",
       "       '6.1', '6.7', '5.4', '4', '4.9', '4.5', '9.3', '6.2', '4.2', '6',\n",
       "       '3.7', '4.1', '5.8', '5.6', '5.5', '4.4', '4.6', '5.9', '3.9',\n",
       "       '3.1', '2.9', '5.2', '3.3', '4.7', '5.1', '3.5', '2.5', '1.9', '3',\n",
       "       '2.7', '2.2', '2', '9.5', '2.1', '3.6', '2.8', '1.8', '3.8', '0',\n",
       "       '1.6', '9.6', '2.4', '1.7', '1.1', '0.3', '1.5', '0.7', '1.2',\n",
       "       '2.3', '0.5', '1.3', '0.2', '0.6', '1.4', '0.9', '1', '9.7'],\n",
       "      dtype=object)"
      ]
     },
     "execution_count": 6,
     "metadata": {},
     "output_type": "execute_result"
    }
   ],
   "source": [
    "# Verificando valores da coluna user_score\n",
    "games_data['user_score'].unique()"
   ]
  },
  {
   "cell_type": "code",
   "execution_count": 7,
   "metadata": {},
   "outputs": [
    {
     "data": {
      "text/plain": [
       "array([2006., 1985., 2008., 2009., 1996., 1989., 1984., 2005., 1999.,\n",
       "       2007., 2010., 2013., 2004., 1990., 1988., 2002., 2001., 2011.,\n",
       "       1998., 2015., 2012., 2014., 1992., 1997., 1993., 1994., 1982.,\n",
       "       2016., 2003., 1986., 2000.,   nan, 1995., 1991., 1981., 1987.,\n",
       "       1980., 1983.])"
      ]
     },
     "execution_count": 7,
     "metadata": {},
     "output_type": "execute_result"
    }
   ],
   "source": [
    "# Verificando valores da coluna year_of_release\n",
    "games_data['year_of_release'].unique()"
   ]
  },
  {
   "cell_type": "code",
   "execution_count": 8,
   "metadata": {},
   "outputs": [
    {
     "name": "stdout",
     "output_type": "stream",
     "text": [
      "<class 'pandas.core.frame.DataFrame'>\n",
      "RangeIndex: 16715 entries, 0 to 16714\n",
      "Data columns (total 11 columns):\n",
      " #   Column           Non-Null Count  Dtype  \n",
      "---  ------           --------------  -----  \n",
      " 0   name             16713 non-null  object \n",
      " 1   platform         16715 non-null  object \n",
      " 2   year_of_release  16446 non-null  float64\n",
      " 3   genre            16713 non-null  object \n",
      " 4   na_sales         16715 non-null  float64\n",
      " 5   eu_sales         16715 non-null  float64\n",
      " 6   jp_sales         16715 non-null  float64\n",
      " 7   other_sales      16715 non-null  float64\n",
      " 8   critic_score     8137 non-null   float64\n",
      " 9   user_score       7590 non-null   float64\n",
      " 10  rating           9949 non-null   object \n",
      "dtypes: float64(7), object(4)\n",
      "memory usage: 1.4+ MB\n"
     ]
    }
   ],
   "source": [
    "# Converta os dados para os tipos necessários.\n",
    "games_data['user_score'] = pd.to_numeric(games_data['user_score'], errors='coerce') # As linhas 'tbd' viraram nulos\n",
    "games_data.info()"
   ]
  },
  {
   "cell_type": "markdown",
   "metadata": {},
   "source": [
    "[Descreva as colunas onde os tipos de dados foram alterados e por quê.]\n",
    "\n",
    "Os dados foram alterados em user_score pois são notas, e tranformados em valores numéricos é possível fazer análises de média, mediana, máximo, mínimo, enfim análises impossíveis para dados categóricos e que vão enriquecer o entendimento dos dados.\n",
    "\n",
    "Os dados da coluna 'year_of_release' foram mantidos como float por ter valores nulos não é possível transformar em int, e não há ano que tenha valor diferente de 0 após o '.', portanto o tipo não interferirá na análise dos dados"
   ]
  },
  {
   "cell_type": "markdown",
   "metadata": {},
   "source": [
    "### Tratando valores ausentes"
   ]
  },
  {
   "cell_type": "code",
   "execution_count": 9,
   "metadata": {},
   "outputs": [
    {
     "data": {
      "text/html": [
       "<div>\n",
       "<style scoped>\n",
       "    .dataframe tbody tr th:only-of-type {\n",
       "        vertical-align: middle;\n",
       "    }\n",
       "\n",
       "    .dataframe tbody tr th {\n",
       "        vertical-align: top;\n",
       "    }\n",
       "\n",
       "    .dataframe thead th {\n",
       "        text-align: right;\n",
       "    }\n",
       "</style>\n",
       "<table border=\"1\" class=\"dataframe\">\n",
       "  <thead>\n",
       "    <tr style=\"text-align: right;\">\n",
       "      <th></th>\n",
       "      <th>name</th>\n",
       "      <th>platform</th>\n",
       "      <th>year_of_release</th>\n",
       "      <th>genre</th>\n",
       "      <th>na_sales</th>\n",
       "      <th>eu_sales</th>\n",
       "      <th>jp_sales</th>\n",
       "      <th>other_sales</th>\n",
       "      <th>critic_score</th>\n",
       "      <th>user_score</th>\n",
       "      <th>rating</th>\n",
       "    </tr>\n",
       "  </thead>\n",
       "  <tbody>\n",
       "    <tr>\n",
       "      <th>659</th>\n",
       "      <td>NaN</td>\n",
       "      <td>GEN</td>\n",
       "      <td>1993.0</td>\n",
       "      <td>NaN</td>\n",
       "      <td>1.78</td>\n",
       "      <td>0.53</td>\n",
       "      <td>0.00</td>\n",
       "      <td>0.08</td>\n",
       "      <td>NaN</td>\n",
       "      <td>NaN</td>\n",
       "      <td>NaN</td>\n",
       "    </tr>\n",
       "    <tr>\n",
       "      <th>14244</th>\n",
       "      <td>NaN</td>\n",
       "      <td>GEN</td>\n",
       "      <td>1993.0</td>\n",
       "      <td>NaN</td>\n",
       "      <td>0.00</td>\n",
       "      <td>0.00</td>\n",
       "      <td>0.03</td>\n",
       "      <td>0.00</td>\n",
       "      <td>NaN</td>\n",
       "      <td>NaN</td>\n",
       "      <td>NaN</td>\n",
       "    </tr>\n",
       "  </tbody>\n",
       "</table>\n",
       "</div>"
      ],
      "text/plain": [
       "      name platform  year_of_release genre  na_sales  eu_sales  jp_sales  \\\n",
       "659    NaN      GEN           1993.0   NaN      1.78      0.53      0.00   \n",
       "14244  NaN      GEN           1993.0   NaN      0.00      0.00      0.03   \n",
       "\n",
       "       other_sales  critic_score  user_score rating  \n",
       "659           0.08           NaN         NaN    NaN  \n",
       "14244         0.00           NaN         NaN    NaN  "
      ]
     },
     "execution_count": 9,
     "metadata": {},
     "output_type": "execute_result"
    }
   ],
   "source": [
    "# Valores ausentes em 'name'\n",
    "games_data[games_data['name'].isna()]"
   ]
  },
  {
   "cell_type": "code",
   "execution_count": 10,
   "metadata": {},
   "outputs": [],
   "source": [
    "# Substituindo valores nulos por 'Unknown'\n",
    "games_data['name'].fillna('Unknown', inplace=True)"
   ]
  },
  {
   "cell_type": "code",
   "execution_count": 11,
   "metadata": {},
   "outputs": [
    {
     "data": {
      "text/html": [
       "<div>\n",
       "<style scoped>\n",
       "    .dataframe tbody tr th:only-of-type {\n",
       "        vertical-align: middle;\n",
       "    }\n",
       "\n",
       "    .dataframe tbody tr th {\n",
       "        vertical-align: top;\n",
       "    }\n",
       "\n",
       "    .dataframe thead th {\n",
       "        text-align: right;\n",
       "    }\n",
       "</style>\n",
       "<table border=\"1\" class=\"dataframe\">\n",
       "  <thead>\n",
       "    <tr style=\"text-align: right;\">\n",
       "      <th></th>\n",
       "      <th>name</th>\n",
       "      <th>platform</th>\n",
       "      <th>year_of_release</th>\n",
       "      <th>genre</th>\n",
       "      <th>na_sales</th>\n",
       "      <th>eu_sales</th>\n",
       "      <th>jp_sales</th>\n",
       "      <th>other_sales</th>\n",
       "      <th>critic_score</th>\n",
       "      <th>user_score</th>\n",
       "      <th>rating</th>\n",
       "    </tr>\n",
       "  </thead>\n",
       "  <tbody>\n",
       "    <tr>\n",
       "      <th>659</th>\n",
       "      <td>Unknown</td>\n",
       "      <td>GEN</td>\n",
       "      <td>1993.0</td>\n",
       "      <td>NaN</td>\n",
       "      <td>1.78</td>\n",
       "      <td>0.53</td>\n",
       "      <td>0.00</td>\n",
       "      <td>0.08</td>\n",
       "      <td>NaN</td>\n",
       "      <td>NaN</td>\n",
       "      <td>NaN</td>\n",
       "    </tr>\n",
       "    <tr>\n",
       "      <th>14244</th>\n",
       "      <td>Unknown</td>\n",
       "      <td>GEN</td>\n",
       "      <td>1993.0</td>\n",
       "      <td>NaN</td>\n",
       "      <td>0.00</td>\n",
       "      <td>0.00</td>\n",
       "      <td>0.03</td>\n",
       "      <td>0.00</td>\n",
       "      <td>NaN</td>\n",
       "      <td>NaN</td>\n",
       "      <td>NaN</td>\n",
       "    </tr>\n",
       "  </tbody>\n",
       "</table>\n",
       "</div>"
      ],
      "text/plain": [
       "          name platform  year_of_release genre  na_sales  eu_sales  jp_sales  \\\n",
       "659    Unknown      GEN           1993.0   NaN      1.78      0.53      0.00   \n",
       "14244  Unknown      GEN           1993.0   NaN      0.00      0.00      0.03   \n",
       "\n",
       "       other_sales  critic_score  user_score rating  \n",
       "659           0.08           NaN         NaN    NaN  \n",
       "14244         0.00           NaN         NaN    NaN  "
      ]
     },
     "execution_count": 11,
     "metadata": {},
     "output_type": "execute_result"
    }
   ],
   "source": [
    "# Valores ausentes em 'genre'\n",
    "games_data[games_data['genre'].isna()]"
   ]
  },
  {
   "cell_type": "code",
   "execution_count": 12,
   "metadata": {},
   "outputs": [],
   "source": [
    "# Substituindo valores nulos por 'Unknown'\n",
    "games_data['genre'].fillna('Unknown', inplace=True)"
   ]
  },
  {
   "cell_type": "code",
   "execution_count": 13,
   "metadata": {},
   "outputs": [
    {
     "data": {
      "text/html": [
       "<div>\n",
       "<style scoped>\n",
       "    .dataframe tbody tr th:only-of-type {\n",
       "        vertical-align: middle;\n",
       "    }\n",
       "\n",
       "    .dataframe tbody tr th {\n",
       "        vertical-align: top;\n",
       "    }\n",
       "\n",
       "    .dataframe thead th {\n",
       "        text-align: right;\n",
       "    }\n",
       "</style>\n",
       "<table border=\"1\" class=\"dataframe\">\n",
       "  <thead>\n",
       "    <tr style=\"text-align: right;\">\n",
       "      <th></th>\n",
       "      <th>name</th>\n",
       "      <th>platform</th>\n",
       "      <th>year_of_release</th>\n",
       "      <th>genre</th>\n",
       "      <th>na_sales</th>\n",
       "      <th>eu_sales</th>\n",
       "      <th>jp_sales</th>\n",
       "      <th>other_sales</th>\n",
       "      <th>critic_score</th>\n",
       "      <th>user_score</th>\n",
       "      <th>rating</th>\n",
       "    </tr>\n",
       "  </thead>\n",
       "  <tbody>\n",
       "    <tr>\n",
       "      <th>183</th>\n",
       "      <td>Madden NFL 2004</td>\n",
       "      <td>PS2</td>\n",
       "      <td>NaN</td>\n",
       "      <td>Sports</td>\n",
       "      <td>4.26</td>\n",
       "      <td>0.26</td>\n",
       "      <td>0.01</td>\n",
       "      <td>0.71</td>\n",
       "      <td>94.0</td>\n",
       "      <td>8.5</td>\n",
       "      <td>E</td>\n",
       "    </tr>\n",
       "    <tr>\n",
       "      <th>377</th>\n",
       "      <td>FIFA Soccer 2004</td>\n",
       "      <td>PS2</td>\n",
       "      <td>NaN</td>\n",
       "      <td>Sports</td>\n",
       "      <td>0.59</td>\n",
       "      <td>2.36</td>\n",
       "      <td>0.04</td>\n",
       "      <td>0.51</td>\n",
       "      <td>84.0</td>\n",
       "      <td>6.4</td>\n",
       "      <td>E</td>\n",
       "    </tr>\n",
       "    <tr>\n",
       "      <th>456</th>\n",
       "      <td>LEGO Batman: The Videogame</td>\n",
       "      <td>Wii</td>\n",
       "      <td>NaN</td>\n",
       "      <td>Action</td>\n",
       "      <td>1.80</td>\n",
       "      <td>0.97</td>\n",
       "      <td>0.00</td>\n",
       "      <td>0.29</td>\n",
       "      <td>74.0</td>\n",
       "      <td>7.9</td>\n",
       "      <td>E10+</td>\n",
       "    </tr>\n",
       "    <tr>\n",
       "      <th>475</th>\n",
       "      <td>wwe Smackdown vs. Raw 2006</td>\n",
       "      <td>PS2</td>\n",
       "      <td>NaN</td>\n",
       "      <td>Fighting</td>\n",
       "      <td>1.57</td>\n",
       "      <td>1.02</td>\n",
       "      <td>0.00</td>\n",
       "      <td>0.41</td>\n",
       "      <td>NaN</td>\n",
       "      <td>NaN</td>\n",
       "      <td>NaN</td>\n",
       "    </tr>\n",
       "    <tr>\n",
       "      <th>609</th>\n",
       "      <td>Space Invaders</td>\n",
       "      <td>2600</td>\n",
       "      <td>NaN</td>\n",
       "      <td>Shooter</td>\n",
       "      <td>2.36</td>\n",
       "      <td>0.14</td>\n",
       "      <td>0.00</td>\n",
       "      <td>0.03</td>\n",
       "      <td>NaN</td>\n",
       "      <td>NaN</td>\n",
       "      <td>NaN</td>\n",
       "    </tr>\n",
       "    <tr>\n",
       "      <th>...</th>\n",
       "      <td>...</td>\n",
       "      <td>...</td>\n",
       "      <td>...</td>\n",
       "      <td>...</td>\n",
       "      <td>...</td>\n",
       "      <td>...</td>\n",
       "      <td>...</td>\n",
       "      <td>...</td>\n",
       "      <td>...</td>\n",
       "      <td>...</td>\n",
       "      <td>...</td>\n",
       "    </tr>\n",
       "    <tr>\n",
       "      <th>16373</th>\n",
       "      <td>PDC World Championship Darts 2008</td>\n",
       "      <td>PSP</td>\n",
       "      <td>NaN</td>\n",
       "      <td>Sports</td>\n",
       "      <td>0.01</td>\n",
       "      <td>0.00</td>\n",
       "      <td>0.00</td>\n",
       "      <td>0.00</td>\n",
       "      <td>43.0</td>\n",
       "      <td>NaN</td>\n",
       "      <td>E10+</td>\n",
       "    </tr>\n",
       "    <tr>\n",
       "      <th>16405</th>\n",
       "      <td>Freaky Flyers</td>\n",
       "      <td>GC</td>\n",
       "      <td>NaN</td>\n",
       "      <td>Racing</td>\n",
       "      <td>0.01</td>\n",
       "      <td>0.00</td>\n",
       "      <td>0.00</td>\n",
       "      <td>0.00</td>\n",
       "      <td>69.0</td>\n",
       "      <td>6.5</td>\n",
       "      <td>T</td>\n",
       "    </tr>\n",
       "    <tr>\n",
       "      <th>16448</th>\n",
       "      <td>Inversion</td>\n",
       "      <td>PC</td>\n",
       "      <td>NaN</td>\n",
       "      <td>Shooter</td>\n",
       "      <td>0.01</td>\n",
       "      <td>0.00</td>\n",
       "      <td>0.00</td>\n",
       "      <td>0.00</td>\n",
       "      <td>59.0</td>\n",
       "      <td>6.7</td>\n",
       "      <td>M</td>\n",
       "    </tr>\n",
       "    <tr>\n",
       "      <th>16458</th>\n",
       "      <td>Hakuouki: Shinsengumi Kitan</td>\n",
       "      <td>PS3</td>\n",
       "      <td>NaN</td>\n",
       "      <td>Adventure</td>\n",
       "      <td>0.01</td>\n",
       "      <td>0.00</td>\n",
       "      <td>0.00</td>\n",
       "      <td>0.00</td>\n",
       "      <td>NaN</td>\n",
       "      <td>NaN</td>\n",
       "      <td>NaN</td>\n",
       "    </tr>\n",
       "    <tr>\n",
       "      <th>16522</th>\n",
       "      <td>Virtua Quest</td>\n",
       "      <td>GC</td>\n",
       "      <td>NaN</td>\n",
       "      <td>Role-Playing</td>\n",
       "      <td>0.01</td>\n",
       "      <td>0.00</td>\n",
       "      <td>0.00</td>\n",
       "      <td>0.00</td>\n",
       "      <td>55.0</td>\n",
       "      <td>5.5</td>\n",
       "      <td>T</td>\n",
       "    </tr>\n",
       "  </tbody>\n",
       "</table>\n",
       "<p>269 rows × 11 columns</p>\n",
       "</div>"
      ],
      "text/plain": [
       "                                    name platform  year_of_release  \\\n",
       "183                      Madden NFL 2004      PS2              NaN   \n",
       "377                     FIFA Soccer 2004      PS2              NaN   \n",
       "456           LEGO Batman: The Videogame      Wii              NaN   \n",
       "475           wwe Smackdown vs. Raw 2006      PS2              NaN   \n",
       "609                       Space Invaders     2600              NaN   \n",
       "...                                  ...      ...              ...   \n",
       "16373  PDC World Championship Darts 2008      PSP              NaN   \n",
       "16405                      Freaky Flyers       GC              NaN   \n",
       "16448                          Inversion       PC              NaN   \n",
       "16458        Hakuouki: Shinsengumi Kitan      PS3              NaN   \n",
       "16522                       Virtua Quest       GC              NaN   \n",
       "\n",
       "              genre  na_sales  eu_sales  jp_sales  other_sales  critic_score  \\\n",
       "183          Sports      4.26      0.26      0.01         0.71          94.0   \n",
       "377          Sports      0.59      2.36      0.04         0.51          84.0   \n",
       "456          Action      1.80      0.97      0.00         0.29          74.0   \n",
       "475        Fighting      1.57      1.02      0.00         0.41           NaN   \n",
       "609         Shooter      2.36      0.14      0.00         0.03           NaN   \n",
       "...             ...       ...       ...       ...          ...           ...   \n",
       "16373        Sports      0.01      0.00      0.00         0.00          43.0   \n",
       "16405        Racing      0.01      0.00      0.00         0.00          69.0   \n",
       "16448       Shooter      0.01      0.00      0.00         0.00          59.0   \n",
       "16458     Adventure      0.01      0.00      0.00         0.00           NaN   \n",
       "16522  Role-Playing      0.01      0.00      0.00         0.00          55.0   \n",
       "\n",
       "       user_score rating  \n",
       "183           8.5      E  \n",
       "377           6.4      E  \n",
       "456           7.9   E10+  \n",
       "475           NaN    NaN  \n",
       "609           NaN    NaN  \n",
       "...           ...    ...  \n",
       "16373         NaN   E10+  \n",
       "16405         6.5      T  \n",
       "16448         6.7      M  \n",
       "16458         NaN    NaN  \n",
       "16522         5.5      T  \n",
       "\n",
       "[269 rows x 11 columns]"
      ]
     },
     "execution_count": 13,
     "metadata": {},
     "output_type": "execute_result"
    }
   ],
   "source": [
    "# Valores ausentes em 'year_of_release'\n",
    "games_data[games_data['year_of_release'].isna()]"
   ]
  },
  {
   "cell_type": "code",
   "execution_count": 14,
   "metadata": {},
   "outputs": [
    {
     "data": {
      "text/html": [
       "<div>\n",
       "<style scoped>\n",
       "    .dataframe tbody tr th:only-of-type {\n",
       "        vertical-align: middle;\n",
       "    }\n",
       "\n",
       "    .dataframe tbody tr th {\n",
       "        vertical-align: top;\n",
       "    }\n",
       "\n",
       "    .dataframe thead th {\n",
       "        text-align: right;\n",
       "    }\n",
       "</style>\n",
       "<table border=\"1\" class=\"dataframe\">\n",
       "  <thead>\n",
       "    <tr style=\"text-align: right;\">\n",
       "      <th></th>\n",
       "      <th>name</th>\n",
       "      <th>platform</th>\n",
       "      <th>year_of_release</th>\n",
       "      <th>genre</th>\n",
       "      <th>na_sales</th>\n",
       "      <th>eu_sales</th>\n",
       "      <th>jp_sales</th>\n",
       "      <th>other_sales</th>\n",
       "      <th>critic_score</th>\n",
       "      <th>user_score</th>\n",
       "      <th>rating</th>\n",
       "    </tr>\n",
       "  </thead>\n",
       "  <tbody>\n",
       "    <tr>\n",
       "      <th>1</th>\n",
       "      <td>Super Mario Bros.</td>\n",
       "      <td>NES</td>\n",
       "      <td>1985.0</td>\n",
       "      <td>Platform</td>\n",
       "      <td>29.08</td>\n",
       "      <td>3.58</td>\n",
       "      <td>6.81</td>\n",
       "      <td>0.77</td>\n",
       "      <td>NaN</td>\n",
       "      <td>NaN</td>\n",
       "      <td>NaN</td>\n",
       "    </tr>\n",
       "    <tr>\n",
       "      <th>4</th>\n",
       "      <td>Pokemon Red/Pokemon Blue</td>\n",
       "      <td>GB</td>\n",
       "      <td>1996.0</td>\n",
       "      <td>Role-Playing</td>\n",
       "      <td>11.27</td>\n",
       "      <td>8.89</td>\n",
       "      <td>10.22</td>\n",
       "      <td>1.00</td>\n",
       "      <td>NaN</td>\n",
       "      <td>NaN</td>\n",
       "      <td>NaN</td>\n",
       "    </tr>\n",
       "    <tr>\n",
       "      <th>5</th>\n",
       "      <td>Tetris</td>\n",
       "      <td>GB</td>\n",
       "      <td>1989.0</td>\n",
       "      <td>Puzzle</td>\n",
       "      <td>23.20</td>\n",
       "      <td>2.26</td>\n",
       "      <td>4.22</td>\n",
       "      <td>0.58</td>\n",
       "      <td>NaN</td>\n",
       "      <td>NaN</td>\n",
       "      <td>NaN</td>\n",
       "    </tr>\n",
       "    <tr>\n",
       "      <th>9</th>\n",
       "      <td>Duck Hunt</td>\n",
       "      <td>NES</td>\n",
       "      <td>1984.0</td>\n",
       "      <td>Shooter</td>\n",
       "      <td>26.93</td>\n",
       "      <td>0.63</td>\n",
       "      <td>0.28</td>\n",
       "      <td>0.47</td>\n",
       "      <td>NaN</td>\n",
       "      <td>NaN</td>\n",
       "      <td>NaN</td>\n",
       "    </tr>\n",
       "    <tr>\n",
       "      <th>10</th>\n",
       "      <td>Nintendogs</td>\n",
       "      <td>DS</td>\n",
       "      <td>2005.0</td>\n",
       "      <td>Simulation</td>\n",
       "      <td>9.05</td>\n",
       "      <td>10.95</td>\n",
       "      <td>1.93</td>\n",
       "      <td>2.74</td>\n",
       "      <td>NaN</td>\n",
       "      <td>NaN</td>\n",
       "      <td>NaN</td>\n",
       "    </tr>\n",
       "    <tr>\n",
       "      <th>...</th>\n",
       "      <td>...</td>\n",
       "      <td>...</td>\n",
       "      <td>...</td>\n",
       "      <td>...</td>\n",
       "      <td>...</td>\n",
       "      <td>...</td>\n",
       "      <td>...</td>\n",
       "      <td>...</td>\n",
       "      <td>...</td>\n",
       "      <td>...</td>\n",
       "      <td>...</td>\n",
       "    </tr>\n",
       "    <tr>\n",
       "      <th>16710</th>\n",
       "      <td>Samurai Warriors: Sanada Maru</td>\n",
       "      <td>PS3</td>\n",
       "      <td>2016.0</td>\n",
       "      <td>Action</td>\n",
       "      <td>0.00</td>\n",
       "      <td>0.00</td>\n",
       "      <td>0.01</td>\n",
       "      <td>0.00</td>\n",
       "      <td>NaN</td>\n",
       "      <td>NaN</td>\n",
       "      <td>NaN</td>\n",
       "    </tr>\n",
       "    <tr>\n",
       "      <th>16711</th>\n",
       "      <td>LMA Manager 2007</td>\n",
       "      <td>X360</td>\n",
       "      <td>2006.0</td>\n",
       "      <td>Sports</td>\n",
       "      <td>0.00</td>\n",
       "      <td>0.01</td>\n",
       "      <td>0.00</td>\n",
       "      <td>0.00</td>\n",
       "      <td>NaN</td>\n",
       "      <td>NaN</td>\n",
       "      <td>NaN</td>\n",
       "    </tr>\n",
       "    <tr>\n",
       "      <th>16712</th>\n",
       "      <td>Haitaka no Psychedelica</td>\n",
       "      <td>PSV</td>\n",
       "      <td>2016.0</td>\n",
       "      <td>Adventure</td>\n",
       "      <td>0.00</td>\n",
       "      <td>0.00</td>\n",
       "      <td>0.01</td>\n",
       "      <td>0.00</td>\n",
       "      <td>NaN</td>\n",
       "      <td>NaN</td>\n",
       "      <td>NaN</td>\n",
       "    </tr>\n",
       "    <tr>\n",
       "      <th>16713</th>\n",
       "      <td>Spirits &amp; Spells</td>\n",
       "      <td>GBA</td>\n",
       "      <td>2003.0</td>\n",
       "      <td>Platform</td>\n",
       "      <td>0.01</td>\n",
       "      <td>0.00</td>\n",
       "      <td>0.00</td>\n",
       "      <td>0.00</td>\n",
       "      <td>NaN</td>\n",
       "      <td>NaN</td>\n",
       "      <td>NaN</td>\n",
       "    </tr>\n",
       "    <tr>\n",
       "      <th>16714</th>\n",
       "      <td>Winning Post 8 2016</td>\n",
       "      <td>PSV</td>\n",
       "      <td>2016.0</td>\n",
       "      <td>Simulation</td>\n",
       "      <td>0.00</td>\n",
       "      <td>0.00</td>\n",
       "      <td>0.01</td>\n",
       "      <td>0.00</td>\n",
       "      <td>NaN</td>\n",
       "      <td>NaN</td>\n",
       "      <td>NaN</td>\n",
       "    </tr>\n",
       "  </tbody>\n",
       "</table>\n",
       "<p>6766 rows × 11 columns</p>\n",
       "</div>"
      ],
      "text/plain": [
       "                                name platform  year_of_release         genre  \\\n",
       "1                  Super Mario Bros.      NES           1985.0      Platform   \n",
       "4           Pokemon Red/Pokemon Blue       GB           1996.0  Role-Playing   \n",
       "5                             Tetris       GB           1989.0        Puzzle   \n",
       "9                          Duck Hunt      NES           1984.0       Shooter   \n",
       "10                        Nintendogs       DS           2005.0    Simulation   \n",
       "...                              ...      ...              ...           ...   \n",
       "16710  Samurai Warriors: Sanada Maru      PS3           2016.0        Action   \n",
       "16711               LMA Manager 2007     X360           2006.0        Sports   \n",
       "16712        Haitaka no Psychedelica      PSV           2016.0     Adventure   \n",
       "16713               Spirits & Spells      GBA           2003.0      Platform   \n",
       "16714            Winning Post 8 2016      PSV           2016.0    Simulation   \n",
       "\n",
       "       na_sales  eu_sales  jp_sales  other_sales  critic_score  user_score  \\\n",
       "1         29.08      3.58      6.81         0.77           NaN         NaN   \n",
       "4         11.27      8.89     10.22         1.00           NaN         NaN   \n",
       "5         23.20      2.26      4.22         0.58           NaN         NaN   \n",
       "9         26.93      0.63      0.28         0.47           NaN         NaN   \n",
       "10         9.05     10.95      1.93         2.74           NaN         NaN   \n",
       "...         ...       ...       ...          ...           ...         ...   \n",
       "16710      0.00      0.00      0.01         0.00           NaN         NaN   \n",
       "16711      0.00      0.01      0.00         0.00           NaN         NaN   \n",
       "16712      0.00      0.00      0.01         0.00           NaN         NaN   \n",
       "16713      0.01      0.00      0.00         0.00           NaN         NaN   \n",
       "16714      0.00      0.00      0.01         0.00           NaN         NaN   \n",
       "\n",
       "      rating  \n",
       "1        NaN  \n",
       "4        NaN  \n",
       "5        NaN  \n",
       "9        NaN  \n",
       "10       NaN  \n",
       "...      ...  \n",
       "16710    NaN  \n",
       "16711    NaN  \n",
       "16712    NaN  \n",
       "16713    NaN  \n",
       "16714    NaN  \n",
       "\n",
       "[6766 rows x 11 columns]"
      ]
     },
     "execution_count": 14,
     "metadata": {},
     "output_type": "execute_result"
    }
   ],
   "source": [
    "# Valores ausentes em 'rating'\n",
    "games_data[games_data['rating'].isna()]"
   ]
  },
  {
   "cell_type": "code",
   "execution_count": 15,
   "metadata": {},
   "outputs": [],
   "source": [
    "#Substituindo valores ausentes em 'rating' por 'RP'\n",
    "games_data['rating'].fillna('RP', inplace=True)"
   ]
  },
  {
   "cell_type": "markdown",
   "metadata": {},
   "source": [
    "[Explique por que você preencheu os valores ausentes da forma que você fez ou por que você decidiu deixá-los em branco.]\n",
    "As colunas 'name' e 'genre' tiveram os valores substituídos por 'Unknown' para preencher os valores nulos sem impactar na análise. A coluna 'year_of_release' permaneceu com os valores nulos por não ser possível preenche=la com algum valor numérico que não impacte a análise e o tipo de dado não poder ser inferido através de médias, medianas ou outro tipo de medida. Mesmo que em geral os jogos que tenham no nome um ano referência sejam lançados no ano anterior, ainda é relevante a quantidade de exceções a regra.\n",
    "\n",
    "[Por que acha que os valores estão ausentes? Dê possíveis razões.]\n",
    "Os dados estão ausentes devido ao registro na loja não ter sido registrado corretamente, no caso do nome pode ter algum caractere que deu erro, no caso do gênero pode ter acontecido de não saber categorizar, no caso do ano de lançamento pode ser que a pessoa não tinha certeza do ano de lançamento. Nas colunas de notas é possível que o jogo ainda não tenha uma nota. E na classificação indicativa a ERSB ainda não classificou o jogo.\n",
    "\n",
    "[Preste atenção à abreviação TBD (a ser determinada). Especifique como pretende lidar com esses casos.]\n",
    "Não há diferença prática entre um valor nulo ou 'tbd' portanto ao transformar o tipo do dado da coluna 'user_score' os valores tbd foram transformados em nulos para facilitar a análise dos jogos que possuem nota\n"
   ]
  },
  {
   "cell_type": "markdown",
   "metadata": {},
   "source": [
    "### Enriquecimento dos dados"
   ]
  },
  {
   "cell_type": "code",
   "execution_count": 16,
   "metadata": {},
   "outputs": [
    {
     "name": "stdout",
     "output_type": "stream",
     "text": [
      "<class 'pandas.core.frame.DataFrame'>\n",
      "RangeIndex: 16715 entries, 0 to 16714\n",
      "Data columns (total 12 columns):\n",
      " #   Column           Non-Null Count  Dtype  \n",
      "---  ------           --------------  -----  \n",
      " 0   name             16715 non-null  object \n",
      " 1   platform         16715 non-null  object \n",
      " 2   year_of_release  16446 non-null  float64\n",
      " 3   genre            16715 non-null  object \n",
      " 4   na_sales         16715 non-null  float64\n",
      " 5   eu_sales         16715 non-null  float64\n",
      " 6   jp_sales         16715 non-null  float64\n",
      " 7   other_sales      16715 non-null  float64\n",
      " 8   critic_score     8137 non-null   float64\n",
      " 9   user_score       7590 non-null   float64\n",
      " 10  rating           16715 non-null  object \n",
      " 11  total_sales      16715 non-null  float64\n",
      "dtypes: float64(8), object(4)\n",
      "memory usage: 1.5+ MB\n"
     ]
    }
   ],
   "source": [
    "# Calcule o total de vendas (a soma das vendas em todas as regiões) \n",
    "# para cada jogo e coloque esses valores em uma coluna separada.\n",
    "\n",
    "games_data['total_sales'] = games_data['eu_sales']+games_data['na_sales']+games_data['jp_sales']+games_data['other_sales']\n",
    "games_data.info()"
   ]
  },
  {
   "cell_type": "markdown",
   "metadata": {},
   "source": [
    "## Análise dos dados\n"
   ]
  },
  {
   "cell_type": "markdown",
   "metadata": {},
   "source": [
    "### Análise lançamento de jogos"
   ]
  },
  {
   "cell_type": "code",
   "execution_count": 17,
   "metadata": {
    "scrolled": true
   },
   "outputs": [
    {
     "data": {
      "text/plain": [
       "year_of_release\n",
       "1980.0       9\n",
       "1981.0      46\n",
       "1982.0      36\n",
       "1983.0      17\n",
       "1984.0      14\n",
       "1985.0      14\n",
       "1986.0      21\n",
       "1987.0      16\n",
       "1988.0      15\n",
       "1989.0      17\n",
       "1990.0      16\n",
       "1991.0      41\n",
       "1992.0      43\n",
       "1993.0      62\n",
       "1994.0     121\n",
       "1995.0     219\n",
       "1996.0     263\n",
       "1997.0     289\n",
       "1998.0     379\n",
       "1999.0     338\n",
       "2000.0     350\n",
       "2001.0     482\n",
       "2002.0     829\n",
       "2003.0     775\n",
       "2004.0     762\n",
       "2005.0     939\n",
       "2006.0    1006\n",
       "2007.0    1197\n",
       "2008.0    1427\n",
       "2009.0    1426\n",
       "2010.0    1255\n",
       "2011.0    1136\n",
       "2012.0     653\n",
       "2013.0     544\n",
       "2014.0     581\n",
       "2015.0     606\n",
       "2016.0     502\n",
       "Name: name, dtype: int64"
      ]
     },
     "execution_count": 17,
     "metadata": {},
     "output_type": "execute_result"
    }
   ],
   "source": [
    "# Veja quantos jogos foram lançados em anos diferentes Os dados de cada período são significativos?\n",
    "games_data.groupby('year_of_release')['name'].count()"
   ]
  },
  {
   "cell_type": "markdown",
   "metadata": {},
   "source": [
    "[O mercado apresentou um crescimento significativo na quantidade de jogos lançados do ano 1980 até 2008, a partir de então estabilizou em 2009, a quantidade de jogos diminuiu até 2013 e desde então aparenta estar mais estável mesmo com 2016 sendo o ano com o menor número de lançamentos. ]"
   ]
  },
  {
   "cell_type": "markdown",
   "metadata": {},
   "source": [
    "### Análise Plataformas de jogos"
   ]
  },
  {
   "cell_type": "markdown",
   "metadata": {},
   "source": [
    "#### Vendas Totais de Cada Plataforma"
   ]
  },
  {
   "cell_type": "code",
   "execution_count": 18,
   "metadata": {},
   "outputs": [
    {
     "data": {
      "text/html": [
       "<div>\n",
       "<style scoped>\n",
       "    .dataframe tbody tr th:only-of-type {\n",
       "        vertical-align: middle;\n",
       "    }\n",
       "\n",
       "    .dataframe tbody tr th {\n",
       "        vertical-align: top;\n",
       "    }\n",
       "\n",
       "    .dataframe thead th {\n",
       "        text-align: right;\n",
       "    }\n",
       "</style>\n",
       "<table border=\"1\" class=\"dataframe\">\n",
       "  <thead>\n",
       "    <tr style=\"text-align: right;\">\n",
       "      <th></th>\n",
       "      <th>platform</th>\n",
       "      <th>total_sales</th>\n",
       "    </tr>\n",
       "  </thead>\n",
       "  <tbody>\n",
       "    <tr>\n",
       "      <th>0</th>\n",
       "      <td>PS2</td>\n",
       "      <td>1255.77</td>\n",
       "    </tr>\n",
       "    <tr>\n",
       "      <th>1</th>\n",
       "      <td>X360</td>\n",
       "      <td>971.42</td>\n",
       "    </tr>\n",
       "    <tr>\n",
       "      <th>2</th>\n",
       "      <td>PS3</td>\n",
       "      <td>939.65</td>\n",
       "    </tr>\n",
       "    <tr>\n",
       "      <th>3</th>\n",
       "      <td>Wii</td>\n",
       "      <td>907.51</td>\n",
       "    </tr>\n",
       "    <tr>\n",
       "      <th>4</th>\n",
       "      <td>DS</td>\n",
       "      <td>806.12</td>\n",
       "    </tr>\n",
       "    <tr>\n",
       "      <th>5</th>\n",
       "      <td>PS</td>\n",
       "      <td>730.86</td>\n",
       "    </tr>\n",
       "    <tr>\n",
       "      <th>6</th>\n",
       "      <td>GBA</td>\n",
       "      <td>317.85</td>\n",
       "    </tr>\n",
       "    <tr>\n",
       "      <th>7</th>\n",
       "      <td>PS4</td>\n",
       "      <td>314.14</td>\n",
       "    </tr>\n",
       "    <tr>\n",
       "      <th>8</th>\n",
       "      <td>PSP</td>\n",
       "      <td>294.05</td>\n",
       "    </tr>\n",
       "    <tr>\n",
       "      <th>9</th>\n",
       "      <td>PC</td>\n",
       "      <td>259.52</td>\n",
       "    </tr>\n",
       "    <tr>\n",
       "      <th>10</th>\n",
       "      <td>3DS</td>\n",
       "      <td>259.00</td>\n",
       "    </tr>\n",
       "    <tr>\n",
       "      <th>11</th>\n",
       "      <td>XB</td>\n",
       "      <td>257.74</td>\n",
       "    </tr>\n",
       "    <tr>\n",
       "      <th>12</th>\n",
       "      <td>GB</td>\n",
       "      <td>255.46</td>\n",
       "    </tr>\n",
       "    <tr>\n",
       "      <th>13</th>\n",
       "      <td>NES</td>\n",
       "      <td>251.05</td>\n",
       "    </tr>\n",
       "    <tr>\n",
       "      <th>14</th>\n",
       "      <td>N64</td>\n",
       "      <td>218.68</td>\n",
       "    </tr>\n",
       "    <tr>\n",
       "      <th>15</th>\n",
       "      <td>SNES</td>\n",
       "      <td>200.04</td>\n",
       "    </tr>\n",
       "    <tr>\n",
       "      <th>16</th>\n",
       "      <td>GC</td>\n",
       "      <td>198.93</td>\n",
       "    </tr>\n",
       "    <tr>\n",
       "      <th>17</th>\n",
       "      <td>XOne</td>\n",
       "      <td>159.32</td>\n",
       "    </tr>\n",
       "    <tr>\n",
       "      <th>18</th>\n",
       "      <td>2600</td>\n",
       "      <td>96.98</td>\n",
       "    </tr>\n",
       "    <tr>\n",
       "      <th>19</th>\n",
       "      <td>WiiU</td>\n",
       "      <td>82.19</td>\n",
       "    </tr>\n",
       "    <tr>\n",
       "      <th>20</th>\n",
       "      <td>PSV</td>\n",
       "      <td>54.07</td>\n",
       "    </tr>\n",
       "    <tr>\n",
       "      <th>21</th>\n",
       "      <td>SAT</td>\n",
       "      <td>33.59</td>\n",
       "    </tr>\n",
       "    <tr>\n",
       "      <th>22</th>\n",
       "      <td>GEN</td>\n",
       "      <td>30.77</td>\n",
       "    </tr>\n",
       "    <tr>\n",
       "      <th>23</th>\n",
       "      <td>DC</td>\n",
       "      <td>15.95</td>\n",
       "    </tr>\n",
       "    <tr>\n",
       "      <th>24</th>\n",
       "      <td>SCD</td>\n",
       "      <td>1.86</td>\n",
       "    </tr>\n",
       "    <tr>\n",
       "      <th>25</th>\n",
       "      <td>NG</td>\n",
       "      <td>1.44</td>\n",
       "    </tr>\n",
       "    <tr>\n",
       "      <th>26</th>\n",
       "      <td>WS</td>\n",
       "      <td>1.42</td>\n",
       "    </tr>\n",
       "    <tr>\n",
       "      <th>27</th>\n",
       "      <td>TG16</td>\n",
       "      <td>0.16</td>\n",
       "    </tr>\n",
       "    <tr>\n",
       "      <th>28</th>\n",
       "      <td>3DO</td>\n",
       "      <td>0.10</td>\n",
       "    </tr>\n",
       "    <tr>\n",
       "      <th>29</th>\n",
       "      <td>GG</td>\n",
       "      <td>0.04</td>\n",
       "    </tr>\n",
       "    <tr>\n",
       "      <th>30</th>\n",
       "      <td>PCFX</td>\n",
       "      <td>0.03</td>\n",
       "    </tr>\n",
       "  </tbody>\n",
       "</table>\n",
       "</div>"
      ],
      "text/plain": [
       "   platform  total_sales\n",
       "0       PS2      1255.77\n",
       "1      X360       971.42\n",
       "2       PS3       939.65\n",
       "3       Wii       907.51\n",
       "4        DS       806.12\n",
       "5        PS       730.86\n",
       "6       GBA       317.85\n",
       "7       PS4       314.14\n",
       "8       PSP       294.05\n",
       "9        PC       259.52\n",
       "10      3DS       259.00\n",
       "11       XB       257.74\n",
       "12       GB       255.46\n",
       "13      NES       251.05\n",
       "14      N64       218.68\n",
       "15     SNES       200.04\n",
       "16       GC       198.93\n",
       "17     XOne       159.32\n",
       "18     2600        96.98\n",
       "19     WiiU        82.19\n",
       "20      PSV        54.07\n",
       "21      SAT        33.59\n",
       "22      GEN        30.77\n",
       "23       DC        15.95\n",
       "24      SCD         1.86\n",
       "25       NG         1.44\n",
       "26       WS         1.42\n",
       "27     TG16         0.16\n",
       "28      3DO         0.10\n",
       "29       GG         0.04\n",
       "30     PCFX         0.03"
      ]
     },
     "execution_count": 18,
     "metadata": {},
     "output_type": "execute_result"
    }
   ],
   "source": [
    "# Veja como as vendas variaram de plataforma para plataforma. \n",
    "sales_rank_platforms = games_data.groupby('platform')['total_sales'].sum().sort_values(ascending=False)\n",
    "sales_rank_platforms = sales_rank_platforms.reset_index()\n",
    "sales_rank_platforms"
   ]
  },
  {
   "cell_type": "markdown",
   "metadata": {},
   "source": [
    "#### Distribuição de Vendas das plataformas mais vendidas por ano"
   ]
  },
  {
   "cell_type": "code",
   "execution_count": 19,
   "metadata": {},
   "outputs": [
    {
     "data": {
      "text/plain": [
       "<AxesSubplot:xlabel='year_of_release'>"
      ]
     },
     "execution_count": 19,
     "metadata": {},
     "output_type": "execute_result"
    },
    {
     "data": {
      "image/png": "[encoded data removed]",
      "text/plain": [
       "<Figure size 1152x432 with 1 Axes>"
      ]
     },
     "metadata": {
      "needs_background": "light"
     },
     "output_type": "display_data"
    }
   ],
   "source": [
    "# Escolha as plataformas com as maiores vendas totais e construa uma distribuição com base em dados para cada ano.\n",
    "top_10_platforms = sales_rank_platforms.iloc[0:10]['platform']\n",
    "platform_sales_by_year = games_data[games_data['platform'].isin(top_10_platforms)].groupby(['year_of_release','platform'])['total_sales'].sum()\n",
    "platform_sales_by_year.unstack().plot.bar(stacked=True, figsize=(16,6))"
   ]
  },
  {
   "cell_type": "markdown",
   "metadata": {},
   "source": [
    "#### Plataformas Populares que não são mais vendidas"
   ]
  },
  {
   "cell_type": "code",
   "execution_count": 20,
   "metadata": {},
   "outputs": [
    {
     "name": "stdout",
     "output_type": "stream",
     "text": [
      "Plataformas populares que não tem vendas: PS, GB, PS2, GBA, XB, GC, DS, NES, SNES, N64, GEN, 2600, SAT\n"
     ]
    }
   ],
   "source": [
    "# Encontre as plataformas que costumavam ser populares, mas agora não têm vendas.\n",
    "# Total de vendas de cada plataforma por ano\n",
    "platform_sales_by_year = games_data.groupby(['year_of_release','platform'])['total_sales'].sum()\n",
    "platform_sales_by_year = platform_sales_by_year.reset_index()\n",
    "\n",
    "# Filtrando as plataformas que tiveram jogos vendidos em 2016\n",
    "salings_platforms = platform_sales_by_year[(platform_sales_by_year['year_of_release'] == 2016)]['platform']\n",
    "\n",
    "# Filtrando as plataformas que não estavam na lista de plataformas de 2016\n",
    "discontinued_platforms = platform_sales_by_year[~platform_sales_by_year['platform'].isin(salings_platforms)]['platform'].unique()\n",
    "\n",
    "# Criando a coluna 'rank' para saber que posição de vendas uma plataforma ocupou em cada ano\n",
    "platform_sales_by_year['rank'] = platform_sales_by_year.groupby('year_of_release')['total_sales'].rank(ascending=False, method='min').astype(int)\n",
    "\n",
    "#Filtrando plataformas que já estiveram entre as 3 mais vendidas em algum ano\n",
    "popular_platforms = platform_sales_by_year[platform_sales_by_year['rank'].isin([1, 2, 3])]['platform'].unique()\n",
    "\n",
    "# Com as informações das plataformas que não vendem e as que já foram populares geramos a lista com a informação\n",
    "discontinued_pop_platforms = list(set(discontinued_platforms) & set(popular_platforms))\n",
    "\n",
    "print(\"Plataformas populares que não tem vendas:\", ', '.join(discontinued_pop_platforms))\n"
   ]
  },
  {
   "cell_type": "markdown",
   "metadata": {},
   "source": [
    "#### Quanto tempo leva para um plataforma desaparecer"
   ]
  },
  {
   "cell_type": "code",
   "execution_count": 21,
   "metadata": {},
   "outputs": [],
   "source": [
    "# Quanto tempo leva para as novas plataformas aparecerem e as antigas desaparecerem?\n",
    "# Função para achar o ano do primeiro jogo de uma plataforma\n",
    "def get_launch_year(platform):\n",
    "    year = games_data[games_data['platform'] == platform]['year_of_release'].min()    \n",
    "    return year\n",
    "\n",
    "#Função para achar o último ano de lançamento de um jogo para uma plataforma\n",
    "def get_last_year(platform):\n",
    "    year = games_data[games_data['platform'] == platform]['year_of_release'].max()    \n",
    "    return year"
   ]
  },
  {
   "cell_type": "code",
   "execution_count": 22,
   "metadata": {
    "scrolled": true
   },
   "outputs": [
    {
     "data": {
      "text/html": [
       "<div>\n",
       "<style scoped>\n",
       "    .dataframe tbody tr th:only-of-type {\n",
       "        vertical-align: middle;\n",
       "    }\n",
       "\n",
       "    .dataframe tbody tr th {\n",
       "        vertical-align: top;\n",
       "    }\n",
       "\n",
       "    .dataframe thead th {\n",
       "        text-align: right;\n",
       "    }\n",
       "</style>\n",
       "<table border=\"1\" class=\"dataframe\">\n",
       "  <thead>\n",
       "    <tr style=\"text-align: right;\">\n",
       "      <th></th>\n",
       "      <th>platform</th>\n",
       "      <th>launch</th>\n",
       "      <th>last_year</th>\n",
       "      <th>total_life</th>\n",
       "    </tr>\n",
       "  </thead>\n",
       "  <tbody>\n",
       "    <tr>\n",
       "      <th>0</th>\n",
       "      <td>Wii</td>\n",
       "      <td>2006.0</td>\n",
       "      <td>2016.0</td>\n",
       "      <td>10.0</td>\n",
       "    </tr>\n",
       "    <tr>\n",
       "      <th>1</th>\n",
       "      <td>NES</td>\n",
       "      <td>1983.0</td>\n",
       "      <td>1994.0</td>\n",
       "      <td>11.0</td>\n",
       "    </tr>\n",
       "    <tr>\n",
       "      <th>2</th>\n",
       "      <td>GB</td>\n",
       "      <td>1988.0</td>\n",
       "      <td>2001.0</td>\n",
       "      <td>13.0</td>\n",
       "    </tr>\n",
       "    <tr>\n",
       "      <th>3</th>\n",
       "      <td>DS</td>\n",
       "      <td>1985.0</td>\n",
       "      <td>2013.0</td>\n",
       "      <td>28.0</td>\n",
       "    </tr>\n",
       "    <tr>\n",
       "      <th>4</th>\n",
       "      <td>X360</td>\n",
       "      <td>2005.0</td>\n",
       "      <td>2016.0</td>\n",
       "      <td>11.0</td>\n",
       "    </tr>\n",
       "    <tr>\n",
       "      <th>5</th>\n",
       "      <td>PS3</td>\n",
       "      <td>2006.0</td>\n",
       "      <td>2016.0</td>\n",
       "      <td>10.0</td>\n",
       "    </tr>\n",
       "    <tr>\n",
       "      <th>6</th>\n",
       "      <td>PS2</td>\n",
       "      <td>2000.0</td>\n",
       "      <td>2011.0</td>\n",
       "      <td>11.0</td>\n",
       "    </tr>\n",
       "    <tr>\n",
       "      <th>7</th>\n",
       "      <td>SNES</td>\n",
       "      <td>1990.0</td>\n",
       "      <td>1999.0</td>\n",
       "      <td>9.0</td>\n",
       "    </tr>\n",
       "    <tr>\n",
       "      <th>8</th>\n",
       "      <td>GBA</td>\n",
       "      <td>2000.0</td>\n",
       "      <td>2007.0</td>\n",
       "      <td>7.0</td>\n",
       "    </tr>\n",
       "    <tr>\n",
       "      <th>9</th>\n",
       "      <td>PS4</td>\n",
       "      <td>2013.0</td>\n",
       "      <td>2016.0</td>\n",
       "      <td>3.0</td>\n",
       "    </tr>\n",
       "    <tr>\n",
       "      <th>10</th>\n",
       "      <td>3DS</td>\n",
       "      <td>2011.0</td>\n",
       "      <td>2016.0</td>\n",
       "      <td>5.0</td>\n",
       "    </tr>\n",
       "    <tr>\n",
       "      <th>11</th>\n",
       "      <td>N64</td>\n",
       "      <td>1996.0</td>\n",
       "      <td>2002.0</td>\n",
       "      <td>6.0</td>\n",
       "    </tr>\n",
       "    <tr>\n",
       "      <th>12</th>\n",
       "      <td>PS</td>\n",
       "      <td>1994.0</td>\n",
       "      <td>2003.0</td>\n",
       "      <td>9.0</td>\n",
       "    </tr>\n",
       "    <tr>\n",
       "      <th>13</th>\n",
       "      <td>XB</td>\n",
       "      <td>2000.0</td>\n",
       "      <td>2008.0</td>\n",
       "      <td>8.0</td>\n",
       "    </tr>\n",
       "    <tr>\n",
       "      <th>14</th>\n",
       "      <td>PC</td>\n",
       "      <td>1985.0</td>\n",
       "      <td>2016.0</td>\n",
       "      <td>31.0</td>\n",
       "    </tr>\n",
       "    <tr>\n",
       "      <th>15</th>\n",
       "      <td>2600</td>\n",
       "      <td>1980.0</td>\n",
       "      <td>1989.0</td>\n",
       "      <td>9.0</td>\n",
       "    </tr>\n",
       "    <tr>\n",
       "      <th>16</th>\n",
       "      <td>PSP</td>\n",
       "      <td>2004.0</td>\n",
       "      <td>2015.0</td>\n",
       "      <td>11.0</td>\n",
       "    </tr>\n",
       "    <tr>\n",
       "      <th>17</th>\n",
       "      <td>XOne</td>\n",
       "      <td>2013.0</td>\n",
       "      <td>2016.0</td>\n",
       "      <td>3.0</td>\n",
       "    </tr>\n",
       "    <tr>\n",
       "      <th>18</th>\n",
       "      <td>WiiU</td>\n",
       "      <td>2012.0</td>\n",
       "      <td>2016.0</td>\n",
       "      <td>4.0</td>\n",
       "    </tr>\n",
       "    <tr>\n",
       "      <th>19</th>\n",
       "      <td>GC</td>\n",
       "      <td>2001.0</td>\n",
       "      <td>2007.0</td>\n",
       "      <td>6.0</td>\n",
       "    </tr>\n",
       "    <tr>\n",
       "      <th>20</th>\n",
       "      <td>GEN</td>\n",
       "      <td>1990.0</td>\n",
       "      <td>1994.0</td>\n",
       "      <td>4.0</td>\n",
       "    </tr>\n",
       "    <tr>\n",
       "      <th>21</th>\n",
       "      <td>DC</td>\n",
       "      <td>1998.0</td>\n",
       "      <td>2008.0</td>\n",
       "      <td>10.0</td>\n",
       "    </tr>\n",
       "    <tr>\n",
       "      <th>22</th>\n",
       "      <td>PSV</td>\n",
       "      <td>2011.0</td>\n",
       "      <td>2016.0</td>\n",
       "      <td>5.0</td>\n",
       "    </tr>\n",
       "    <tr>\n",
       "      <th>23</th>\n",
       "      <td>SAT</td>\n",
       "      <td>1994.0</td>\n",
       "      <td>1999.0</td>\n",
       "      <td>5.0</td>\n",
       "    </tr>\n",
       "    <tr>\n",
       "      <th>24</th>\n",
       "      <td>SCD</td>\n",
       "      <td>1993.0</td>\n",
       "      <td>1994.0</td>\n",
       "      <td>1.0</td>\n",
       "    </tr>\n",
       "    <tr>\n",
       "      <th>25</th>\n",
       "      <td>WS</td>\n",
       "      <td>1999.0</td>\n",
       "      <td>2001.0</td>\n",
       "      <td>2.0</td>\n",
       "    </tr>\n",
       "    <tr>\n",
       "      <th>26</th>\n",
       "      <td>NG</td>\n",
       "      <td>1993.0</td>\n",
       "      <td>1996.0</td>\n",
       "      <td>3.0</td>\n",
       "    </tr>\n",
       "    <tr>\n",
       "      <th>27</th>\n",
       "      <td>TG16</td>\n",
       "      <td>1995.0</td>\n",
       "      <td>1995.0</td>\n",
       "      <td>0.0</td>\n",
       "    </tr>\n",
       "    <tr>\n",
       "      <th>28</th>\n",
       "      <td>3DO</td>\n",
       "      <td>1994.0</td>\n",
       "      <td>1995.0</td>\n",
       "      <td>1.0</td>\n",
       "    </tr>\n",
       "    <tr>\n",
       "      <th>29</th>\n",
       "      <td>GG</td>\n",
       "      <td>1992.0</td>\n",
       "      <td>1992.0</td>\n",
       "      <td>0.0</td>\n",
       "    </tr>\n",
       "    <tr>\n",
       "      <th>30</th>\n",
       "      <td>PCFX</td>\n",
       "      <td>1996.0</td>\n",
       "      <td>1996.0</td>\n",
       "      <td>0.0</td>\n",
       "    </tr>\n",
       "  </tbody>\n",
       "</table>\n",
       "</div>"
      ],
      "text/plain": [
       "   platform  launch  last_year  total_life\n",
       "0       Wii  2006.0     2016.0        10.0\n",
       "1       NES  1983.0     1994.0        11.0\n",
       "2        GB  1988.0     2001.0        13.0\n",
       "3        DS  1985.0     2013.0        28.0\n",
       "4      X360  2005.0     2016.0        11.0\n",
       "5       PS3  2006.0     2016.0        10.0\n",
       "6       PS2  2000.0     2011.0        11.0\n",
       "7      SNES  1990.0     1999.0         9.0\n",
       "8       GBA  2000.0     2007.0         7.0\n",
       "9       PS4  2013.0     2016.0         3.0\n",
       "10      3DS  2011.0     2016.0         5.0\n",
       "11      N64  1996.0     2002.0         6.0\n",
       "12       PS  1994.0     2003.0         9.0\n",
       "13       XB  2000.0     2008.0         8.0\n",
       "14       PC  1985.0     2016.0        31.0\n",
       "15     2600  1980.0     1989.0         9.0\n",
       "16      PSP  2004.0     2015.0        11.0\n",
       "17     XOne  2013.0     2016.0         3.0\n",
       "18     WiiU  2012.0     2016.0         4.0\n",
       "19       GC  2001.0     2007.0         6.0\n",
       "20      GEN  1990.0     1994.0         4.0\n",
       "21       DC  1998.0     2008.0        10.0\n",
       "22      PSV  2011.0     2016.0         5.0\n",
       "23      SAT  1994.0     1999.0         5.0\n",
       "24      SCD  1993.0     1994.0         1.0\n",
       "25       WS  1999.0     2001.0         2.0\n",
       "26       NG  1993.0     1996.0         3.0\n",
       "27     TG16  1995.0     1995.0         0.0\n",
       "28      3DO  1994.0     1995.0         1.0\n",
       "29       GG  1992.0     1992.0         0.0\n",
       "30     PCFX  1996.0     1996.0         0.0"
      ]
     },
     "execution_count": 22,
     "metadata": {},
     "output_type": "execute_result"
    }
   ],
   "source": [
    "# Dataframe que contem que o tempo de vida de uma plataforma\n",
    "platform_launch_end = pd.DataFrame()\n",
    "platform_launch_end['platform'] = games_data['platform'].unique()\n",
    "platform_launch_end['launch'] = platform_launch_end['platform'].apply(get_launch_year)\n",
    "platform_launch_end['last_year'] = platform_launch_end['platform'].apply(get_last_year)\n",
    "platform_launch_end['total_life'] = platform_launch_end['last_year'] - platform_launch_end['launch']\n",
    "platform_launch_end"
   ]
  },
  {
   "cell_type": "code",
   "execution_count": 23,
   "metadata": {},
   "outputs": [
    {
     "name": "stdout",
     "output_type": "stream",
     "text": [
      "Uma plataforma leva por volta de 6.0 anos para desaparecer\n"
     ]
    }
   ],
   "source": [
    "# Tempo para uma plataforma desaparecer\n",
    "# Devido à presença de outliers, como PC que tem uma vida útil que não vai acabar \n",
    "#e plataformas que só tem registro de vendas em um ano, a mediana será utilizar para calcular o tempo de vida de uma plataforma\n",
    "print(f\"Uma plataforma leva por volta de {platform_launch_end['total_life'].median()} anos para desaparecer\")"
   ]
  },
  {
   "cell_type": "markdown",
   "metadata": {},
   "source": [
    "#### Filtrando os anos relevantes do conjunto de dados para modelar 2017"
   ]
  },
  {
   "cell_type": "markdown",
   "metadata": {},
   "source": [
    "[Determine para qual período você deve pegar dados. Para fazê-lo, olhe para suas respostas para as perguntas anteriores.]<br>\n",
    "Para criar um modelo para 2017, vou pegar os dados de 2012 para frente, tendo em vista que as vendas começaram a diminuir nesse período e 2011 ainda teve um número alto de vendas que podem influenciar no modelo do futuro. 5 anos já é mais ou menos a metade da vida de uma plataforma e a tendencia já é perceptível.\n",
    "\n",
    "[Os dados te deveriam permitir construir um modelo para 2017.]\n",
    "\n",
    "[Trabalhar apenas com os dados que você decidiu que são relevantes. Desconsidere os dados de anos anteriores.]"
   ]
  },
  {
   "cell_type": "code",
   "execution_count": 24,
   "metadata": {},
   "outputs": [],
   "source": [
    "# Selecionando dados de 2012-2016\n",
    "games_data_filtered = games_data[games_data['year_of_release'] > 2011]"
   ]
  },
  {
   "cell_type": "code",
   "execution_count": 25,
   "metadata": {},
   "outputs": [
    {
     "data": {
      "text/plain": [
       "platform\n",
       "PS4     314.14\n",
       "PS3     288.79\n",
       "X360    236.54\n",
       "3DS     194.61\n",
       "XOne    159.32\n",
       "WiiU     82.19\n",
       "PC       62.65\n",
       "PSV      49.18\n",
       "Wii      35.37\n",
       "DS       12.55\n",
       "PSP      11.19\n",
       "Name: total_sales, dtype: float64"
      ]
     },
     "execution_count": 25,
     "metadata": {},
     "output_type": "execute_result"
    }
   ],
   "source": [
    "# Quais plataformas estão liderando em vendas?\n",
    "hottest_platforms = games_data_filtered.groupby('platform')['total_sales'].sum().sort_values(ascending=False)\n",
    "hottest_platforms"
   ]
  },
  {
   "cell_type": "markdown",
   "metadata": {},
   "source": [
    "#### Plataformas que estão crescendo ou diminuindo"
   ]
  },
  {
   "cell_type": "markdown",
   "metadata": {},
   "source": [
    "##### Em números totais de venda"
   ]
  },
  {
   "cell_type": "code",
   "execution_count": 26,
   "metadata": {},
   "outputs": [
    {
     "data": {
      "image/png": "[encoded data removed]",
      "text/plain": [
       "<Figure size 1008x360 with 1 Axes>"
      ]
     },
     "metadata": {
      "needs_background": "light"
     },
     "output_type": "display_data"
    }
   ],
   "source": [
    "# Quais estão crescendo ou diminuindo?\n",
    "sales_evolution = games_data_filtered.groupby(['year_of_release', 'platform'])['total_sales'].sum()\n",
    "sales_evolution = sales_evolution.reset_index()\n",
    "sales_evolution['year_of_release'] = sales_evolution['year_of_release'].astype(int)\n",
    "years = [2012, 2013, 2014, 2015, 2016]\n",
    "\n",
    "# Pivotando os dados para que as plataformas se tornem colunas\n",
    "table_sales = sales_evolution.pivot(index='year_of_release', columns='platform', values='total_sales')\n",
    "\n",
    "# Plotando o gráfico\n",
    "ax = table_sales.plot(marker='o', colormap='Paired', figsize=(14,5))\n",
    "\n",
    "# Personalizando o gráfico\n",
    "plt.title('Vendas Totais por Plataforma e Ano')\n",
    "plt.xlabel('Ano')\n",
    "plt.xticks(years)\n",
    "plt.ylabel('Vendas Totais')\n",
    "plt.legend(title='Plataforma')\n",
    "\n",
    "\n",
    "# Exibindo o gráfico\n",
    "plt.show()"
   ]
  },
  {
   "cell_type": "markdown",
   "metadata": {},
   "source": [
    "##### Em relação às outras plataformas"
   ]
  },
  {
   "cell_type": "code",
   "execution_count": 27,
   "metadata": {},
   "outputs": [
    {
     "data": {
      "image/png": "[encoded data removed]",
      "text/plain": [
       "<Figure size 1152x360 with 1 Axes>"
      ]
     },
     "metadata": {
      "needs_background": "light"
     },
     "output_type": "display_data"
    }
   ],
   "source": [
    "# Calculando a posição de cada plataforma em cada ano\n",
    "sales_evolution['rank'] = sales_evolution.groupby('year_of_release')['total_sales'].rank(ascending=False, method='min').astype(int)\n",
    "\n",
    "# Criando um DataFrame pivotado para o gráfico de barras agrupadas\n",
    "table_rank = sales_evolution.pivot(index='year_of_release', columns='platform', values='rank')\n",
    "\n",
    "# Plotando o gráfico de barras agrupadas\n",
    "ax = table_rank.plot(marker='o', linestyle='-', colormap='Paired', figsize=(16,5))\n",
    "ax.invert_yaxis()\n",
    "# Personalizando o gráfico\n",
    "plt.title('Rank de Vendas por Plataforma e Ano')\n",
    "plt.xlabel('Ano')\n",
    "plt.xticks(years)\n",
    "plt.ylabel('Rank de Vendas')\n",
    "plt.legend(title='Plataforma')\n",
    "\n",
    "\n",
    "# Exibindo o gráfico\n",
    "plt.show()"
   ]
  },
  {
   "cell_type": "code",
   "execution_count": 28,
   "metadata": {},
   "outputs": [
    {
     "data": {
      "text/html": [
       "<div>\n",
       "<style scoped>\n",
       "    .dataframe tbody tr th:only-of-type {\n",
       "        vertical-align: middle;\n",
       "    }\n",
       "\n",
       "    .dataframe tbody tr th {\n",
       "        vertical-align: top;\n",
       "    }\n",
       "\n",
       "    .dataframe thead th {\n",
       "        text-align: right;\n",
       "    }\n",
       "</style>\n",
       "<table border=\"1\" class=\"dataframe\">\n",
       "  <thead>\n",
       "    <tr style=\"text-align: right;\">\n",
       "      <th>platform</th>\n",
       "      <th>3DS</th>\n",
       "      <th>DS</th>\n",
       "      <th>PC</th>\n",
       "      <th>PS3</th>\n",
       "      <th>PS4</th>\n",
       "      <th>PSP</th>\n",
       "      <th>PSV</th>\n",
       "      <th>Wii</th>\n",
       "      <th>WiiU</th>\n",
       "      <th>X360</th>\n",
       "      <th>XOne</th>\n",
       "    </tr>\n",
       "    <tr>\n",
       "      <th>year_of_release</th>\n",
       "      <th></th>\n",
       "      <th></th>\n",
       "      <th></th>\n",
       "      <th></th>\n",
       "      <th></th>\n",
       "      <th></th>\n",
       "      <th></th>\n",
       "      <th></th>\n",
       "      <th></th>\n",
       "      <th></th>\n",
       "      <th></th>\n",
       "    </tr>\n",
       "  </thead>\n",
       "  <tbody>\n",
       "    <tr>\n",
       "      <th>2012</th>\n",
       "      <td>51.36</td>\n",
       "      <td>11.01</td>\n",
       "      <td>23.22</td>\n",
       "      <td>107.36</td>\n",
       "      <td>NaN</td>\n",
       "      <td>7.69</td>\n",
       "      <td>16.19</td>\n",
       "      <td>21.71</td>\n",
       "      <td>17.56</td>\n",
       "      <td>99.74</td>\n",
       "      <td>NaN</td>\n",
       "    </tr>\n",
       "    <tr>\n",
       "      <th>2013</th>\n",
       "      <td>56.57</td>\n",
       "      <td>1.54</td>\n",
       "      <td>12.38</td>\n",
       "      <td>113.25</td>\n",
       "      <td>25.99</td>\n",
       "      <td>3.14</td>\n",
       "      <td>10.59</td>\n",
       "      <td>8.59</td>\n",
       "      <td>21.65</td>\n",
       "      <td>88.58</td>\n",
       "      <td>18.96</td>\n",
       "    </tr>\n",
       "    <tr>\n",
       "      <th>2014</th>\n",
       "      <td>43.76</td>\n",
       "      <td>NaN</td>\n",
       "      <td>13.28</td>\n",
       "      <td>47.76</td>\n",
       "      <td>100.00</td>\n",
       "      <td>0.24</td>\n",
       "      <td>11.90</td>\n",
       "      <td>3.75</td>\n",
       "      <td>22.03</td>\n",
       "      <td>34.74</td>\n",
       "      <td>54.07</td>\n",
       "    </tr>\n",
       "    <tr>\n",
       "      <th>2015</th>\n",
       "      <td>27.78</td>\n",
       "      <td>NaN</td>\n",
       "      <td>8.52</td>\n",
       "      <td>16.82</td>\n",
       "      <td>118.90</td>\n",
       "      <td>0.12</td>\n",
       "      <td>6.25</td>\n",
       "      <td>1.14</td>\n",
       "      <td>16.35</td>\n",
       "      <td>11.96</td>\n",
       "      <td>60.14</td>\n",
       "    </tr>\n",
       "    <tr>\n",
       "      <th>2016</th>\n",
       "      <td>15.14</td>\n",
       "      <td>NaN</td>\n",
       "      <td>5.25</td>\n",
       "      <td>3.60</td>\n",
       "      <td>69.25</td>\n",
       "      <td>NaN</td>\n",
       "      <td>4.25</td>\n",
       "      <td>0.18</td>\n",
       "      <td>4.60</td>\n",
       "      <td>1.52</td>\n",
       "      <td>26.15</td>\n",
       "    </tr>\n",
       "  </tbody>\n",
       "</table>\n",
       "</div>"
      ],
      "text/plain": [
       "platform           3DS     DS     PC     PS3     PS4   PSP    PSV    Wii  \\\n",
       "year_of_release                                                            \n",
       "2012             51.36  11.01  23.22  107.36     NaN  7.69  16.19  21.71   \n",
       "2013             56.57   1.54  12.38  113.25   25.99  3.14  10.59   8.59   \n",
       "2014             43.76    NaN  13.28   47.76  100.00  0.24  11.90   3.75   \n",
       "2015             27.78    NaN   8.52   16.82  118.90  0.12   6.25   1.14   \n",
       "2016             15.14    NaN   5.25    3.60   69.25   NaN   4.25   0.18   \n",
       "\n",
       "platform          WiiU   X360   XOne  \n",
       "year_of_release                       \n",
       "2012             17.56  99.74    NaN  \n",
       "2013             21.65  88.58  18.96  \n",
       "2014             22.03  34.74  54.07  \n",
       "2015             16.35  11.96  60.14  \n",
       "2016              4.60   1.52  26.15  "
      ]
     },
     "execution_count": 28,
     "metadata": {},
     "output_type": "execute_result"
    }
   ],
   "source": [
    "# Selecione várias plataformas potencialmente lucrativas.\n",
    "table_sales"
   ]
  },
  {
   "cell_type": "markdown",
   "metadata": {},
   "source": [
    "Todas as plataformas tiveram queda nas vendas em 2016, mas considerando a posição no rank e o histórico de plataformas, as plataformas potencialmente lucrativas são PS4, Xbox One, 3DS e PC."
   ]
  },
  {
   "cell_type": "markdown",
   "metadata": {},
   "source": [
    "#### Gráfico Vendas plataformas"
   ]
  },
  {
   "cell_type": "markdown",
   "metadata": {},
   "source": [
    "##### Boxplot das Plataformas"
   ]
  },
  {
   "cell_type": "code",
   "execution_count": 29,
   "metadata": {},
   "outputs": [
    {
     "data": {
      "image/png": "[encoded data removed]",
      "text/plain": [
       "<Figure size 1008x360 with 1 Axes>"
      ]
     },
     "metadata": {
      "needs_background": "light"
     },
     "output_type": "display_data"
    }
   ],
   "source": [
    "# Construa um diagrama de caixa para as vendas globais de todos os jogos, divididos por plataforma. \n",
    "plt.subplots(figsize=(14,5))\n",
    "table_sales.boxplot()\n",
    "plt.show()"
   ]
  },
  {
   "cell_type": "markdown",
   "metadata": {},
   "source": [
    "[As diferenças nas vendas são significativas?]<br>\n",
    "A diferença entre as plataformas é significativa, as plataformas mais velhas têm caixas maiores que suas sucessoras, devido a estarem no final do ciclo de vida e também do mercado estar mais aquecido no ápice delas.\n",
    "\n",
    "[E quanto às vendas médias em várias plataformas? Descreva suas descobertas.] <br>\n",
    "As vendas médias são diferentes também, mas a diferença é muito menor, o público de determinada plataforma parece se manter na mesma plataforma mudando apenas a geração. Com exceção do Xbox 360 e Xbox One que teve uma queda brusca na média de vendas."
   ]
  },
  {
   "cell_type": "markdown",
   "metadata": {},
   "source": [
    "##### Gráfico de dispersão avaliações de usuários e profissionais"
   ]
  },
  {
   "cell_type": "code",
   "execution_count": 30,
   "metadata": {
    "scrolled": true
   },
   "outputs": [
    {
     "data": {
      "image/png": "[encoded data removed]",
      "text/plain": [
       "<Figure size 1560x480 with 1 Axes>"
      ]
     },
     "metadata": {
      "needs_background": "light"
     },
     "output_type": "display_data"
    }
   ],
   "source": [
    "# Veja como as avaliações de usuários e profissionais afetam as vendas de uma plataforma popular (você escolhe).\n",
    "\n",
    "# Construa um gráfico de dispersão e calcule a correlação entre revisões e vendas. Tire conclusões.\n",
    "\n",
    "ps4_sales = games_data[games_data['platform'] == 'PS4']\n",
    "plt.subplots(figsize=(13,4), dpi=120)\n",
    "plt.scatter(ps4_sales['critic_score'], ps4_sales['total_sales'], color='blue', \n",
    "            label='Nota da Crítica', alpha=0.6)\n",
    "plt.scatter(ps4_sales['user_score']*10, ps4_sales['total_sales'], color='red', \n",
    "            label='Nota do Usuário', alpha=0.4)\n",
    "plt.title('Gráfico de dispersão de Vendas por Notas de Usuário e Crítica')\n",
    "plt.xlabel('Nota')\n",
    "plt.ylabel('Vendas (milhões USD)')\n",
    "\n",
    "plt.legend()\n",
    "\n",
    "plt.show()"
   ]
  },
  {
   "cell_type": "code",
   "execution_count": 31,
   "metadata": {},
   "outputs": [
    {
     "name": "stdout",
     "output_type": "stream",
     "text": [
      "Correlação entre vendas e Nota do usuário:  -0.031957110204556424\n",
      "Correlação entre vendas e Nota da crítica:  0.406567902061781\n"
     ]
    }
   ],
   "source": [
    "print('Correlação entre vendas e Nota do usuário: ', ps4_sales['total_sales'].corr(ps4_sales['user_score']))\n",
    "print('Correlação entre vendas e Nota da crítica: ',ps4_sales['total_sales'].corr(ps4_sales['critic_score']))"
   ]
  },
  {
   "cell_type": "markdown",
   "metadata": {},
   "source": [
    "Levando em conta os dados para a plataforma PS4, o gráfico e o valor de correlação anteriores demostram que a nota dos críticos tem uma boa correlação com as vendas de um jogo, porém a avaliação dos usuários não tem uma interferência relevante na venda de um jogo."
   ]
  },
  {
   "cell_type": "markdown",
   "metadata": {},
   "source": [
    "##### Gráfico de venda de jogos em diferentes plataformas"
   ]
  },
  {
   "cell_type": "code",
   "execution_count": 32,
   "metadata": {
    "scrolled": true
   },
   "outputs": [],
   "source": [
    "# Tendo suas conclusões em mente, compare as vendas dos mesmos jogos em outras plataformas.\n",
    "# Agrupando os dados de vendas para um jogo e a plataforma onde ele está\n",
    "games_platform_sales = games_data.groupby(['name', 'platform'])['total_sales'].sum()\n",
    "games_platform_sales = games_platform_sales.reset_index()\n",
    "\n"
   ]
  },
  {
   "cell_type": "code",
   "execution_count": 33,
   "metadata": {},
   "outputs": [],
   "source": [
    "# Selecionando as plataformas da análise\n",
    "platforms = ['PS4', 'XOne', '3DS']\n",
    "\n",
    "# Filtrando os jogos que estão presentes nas plataformas desejadas\n",
    "filtered_data = games_platform_sales[games_platform_sales['platform'].isin(platforms)]\n",
    "\n",
    "# Contador de plataformas únicas para cada jogo\n",
    "platform_counts = filtered_data.groupby('name')['platform'].nunique()\n",
    "\n",
    "#Jogos que estão em todas as plataformas desejadas\n",
    "games_in_all_platforms = platform_counts[platform_counts == len(platforms)].index.tolist()\n",
    "\n",
    "# Dataframe filtrado apenas com os jogos em todas as plataformas desejadas\n",
    "games_cross_platforms = games_platform_sales[games_platform_sales['name'].isin(games_in_all_platforms)]\n",
    "\n",
    "games_cross_platforms = games_cross_platforms[games_cross_platforms['platform'].isin(platforms)]\n"
   ]
  },
  {
   "cell_type": "code",
   "execution_count": 34,
   "metadata": {},
   "outputs": [
    {
     "data": {
      "image/png": "[encoded data removed]",
      "text/plain": [
       "<Figure size 864x432 with 1 Axes>"
      ]
     },
     "metadata": {
      "needs_background": "light"
     },
     "output_type": "display_data"
    }
   ],
   "source": [
    "# Gráfico com as vendas dos jogos presentes em todas as plataformas selecionadas\n",
    "plt.figure(figsize=(12, 6))\n",
    "sns.barplot(data=games_cross_platforms, x='name', y='total_sales', hue='platform', ci=None)\n",
    "\n",
    "# Personalizando o gráfico\n",
    "plt.title('Vendas Totais por Jogo e Plataforma')\n",
    "plt.xlabel('Nome do Jogo')\n",
    "plt.ylabel('Vendas Totais (milhões USD)')\n",
    "plt.xticks(rotation=45, ha='right')  # Rotacionando os rótulos do eixo x para melhor legibilidade\n",
    "plt.legend(title='Plataforma')\n",
    "\n",
    "# Exibindo o gráfico\n",
    "plt.show()"
   ]
  },
  {
   "cell_type": "markdown",
   "metadata": {},
   "source": [
    "Em geral um jogo vende mais no PS4, com o Xbox One ficando em segundo lugar e por último o 3DS"
   ]
  },
  {
   "cell_type": "markdown",
   "metadata": {},
   "source": [
    "### Análise por gênero do jogo"
   ]
  },
  {
   "cell_type": "code",
   "execution_count": 35,
   "metadata": {},
   "outputs": [
    {
     "data": {
      "text/html": [
       "<div>\n",
       "<style scoped>\n",
       "    .dataframe tbody tr th:only-of-type {\n",
       "        vertical-align: middle;\n",
       "    }\n",
       "\n",
       "    .dataframe tbody tr th {\n",
       "        vertical-align: top;\n",
       "    }\n",
       "\n",
       "    .dataframe thead th {\n",
       "        text-align: right;\n",
       "    }\n",
       "</style>\n",
       "<table border=\"1\" class=\"dataframe\">\n",
       "  <thead>\n",
       "    <tr style=\"text-align: right;\">\n",
       "      <th></th>\n",
       "      <th>genre</th>\n",
       "      <th>total_sales</th>\n",
       "      <th>total_launch</th>\n",
       "    </tr>\n",
       "  </thead>\n",
       "  <tbody>\n",
       "    <tr>\n",
       "      <th>0</th>\n",
       "      <td>Action</td>\n",
       "      <td>1744.17</td>\n",
       "      <td>3369</td>\n",
       "    </tr>\n",
       "    <tr>\n",
       "      <th>1</th>\n",
       "      <td>Sports</td>\n",
       "      <td>1331.27</td>\n",
       "      <td>2348</td>\n",
       "    </tr>\n",
       "    <tr>\n",
       "      <th>2</th>\n",
       "      <td>Shooter</td>\n",
       "      <td>1052.45</td>\n",
       "      <td>1323</td>\n",
       "    </tr>\n",
       "    <tr>\n",
       "      <th>3</th>\n",
       "      <td>Role-Playing</td>\n",
       "      <td>934.56</td>\n",
       "      <td>1498</td>\n",
       "    </tr>\n",
       "    <tr>\n",
       "      <th>4</th>\n",
       "      <td>Platform</td>\n",
       "      <td>827.77</td>\n",
       "      <td>888</td>\n",
       "    </tr>\n",
       "    <tr>\n",
       "      <th>5</th>\n",
       "      <td>Misc</td>\n",
       "      <td>802.51</td>\n",
       "      <td>1750</td>\n",
       "    </tr>\n",
       "    <tr>\n",
       "      <th>6</th>\n",
       "      <td>Racing</td>\n",
       "      <td>728.67</td>\n",
       "      <td>1249</td>\n",
       "    </tr>\n",
       "    <tr>\n",
       "      <th>7</th>\n",
       "      <td>Fighting</td>\n",
       "      <td>447.53</td>\n",
       "      <td>849</td>\n",
       "    </tr>\n",
       "    <tr>\n",
       "      <th>8</th>\n",
       "      <td>Simulation</td>\n",
       "      <td>389.97</td>\n",
       "      <td>873</td>\n",
       "    </tr>\n",
       "    <tr>\n",
       "      <th>9</th>\n",
       "      <td>Puzzle</td>\n",
       "      <td>242.57</td>\n",
       "      <td>580</td>\n",
       "    </tr>\n",
       "    <tr>\n",
       "      <th>10</th>\n",
       "      <td>Adventure</td>\n",
       "      <td>237.59</td>\n",
       "      <td>1303</td>\n",
       "    </tr>\n",
       "    <tr>\n",
       "      <th>11</th>\n",
       "      <td>Strategy</td>\n",
       "      <td>174.23</td>\n",
       "      <td>683</td>\n",
       "    </tr>\n",
       "    <tr>\n",
       "      <th>12</th>\n",
       "      <td>Unknown</td>\n",
       "      <td>2.42</td>\n",
       "      <td>2</td>\n",
       "    </tr>\n",
       "  </tbody>\n",
       "</table>\n",
       "</div>"
      ],
      "text/plain": [
       "           genre  total_sales  total_launch\n",
       "0         Action      1744.17          3369\n",
       "1         Sports      1331.27          2348\n",
       "2        Shooter      1052.45          1323\n",
       "3   Role-Playing       934.56          1498\n",
       "4       Platform       827.77           888\n",
       "5           Misc       802.51          1750\n",
       "6         Racing       728.67          1249\n",
       "7       Fighting       447.53           849\n",
       "8     Simulation       389.97           873\n",
       "9         Puzzle       242.57           580\n",
       "10     Adventure       237.59          1303\n",
       "11      Strategy       174.23           683\n",
       "12       Unknown         2.42             2"
      ]
     },
     "execution_count": 35,
     "metadata": {},
     "output_type": "execute_result"
    }
   ],
   "source": [
    "# Dê uma olhada na distribuição geral de jogos por gênero. O que podemos dizer sobre os gêneros mais lucrativos? \n",
    "# Você pode generalizar sobre gêneros com vendas altas e baixas?\n",
    "games_per_genre = games_data.groupby('genre')['name'].count().sort_values(ascending=False)\n",
    "games_per_genre = games_per_genre.reset_index()\n",
    "games_per_genre.rename(columns={'name': 'total_launch'}, inplace=True)\n",
    "\n",
    "sales_rank_genres = games_data.groupby('genre')['total_sales'].sum().sort_values(ascending=False)\n",
    "sales_rank_genres = sales_rank_genres.reset_index()\n",
    "sales_rank_genres = sales_rank_genres.merge(games_per_genre, how='inner', on='genre')\n",
    "sales_rank_genres"
   ]
  },
  {
   "cell_type": "markdown",
   "metadata": {},
   "source": [
    "Os dois gêneros de jogos mais vendidos também são os que possuem mais jogos lançados, mas em relação ao restante dos gêneros não há uma uniformidade entre o número de jogos e a lucratividade."
   ]
  },
  {
   "cell_type": "markdown",
   "metadata": {},
   "source": [
    "### Análise por Região\n",
    "\n",
    "Crie um perfil de usuário para cada região <br>\n",
    "Para cada região (AN, UE, JP), determine: <br>\n",
    "•\tAs cinco plataformas principais. Descreva as variações das suas quotas de mercado de região para região.<br>\n",
    "•\tOs cinco principais gêneros. Explique a diferença.<br>\n",
    "•\tAs classificações do ESRB afetam as vendas em regiões individuais?<br>\n"
   ]
  },
  {
   "cell_type": "code",
   "execution_count": 36,
   "metadata": {},
   "outputs": [],
   "source": [
    "# Definindo uma classe com os atributos necessários para a análise de cada região\n",
    "class Region:\n",
    "    def __init__(self, name, df, region_sales):\n",
    "        \"\"\" Classe com os atributos necesários para analisar uma região\"\"\"\n",
    "        self.name = name # Nome da Região\n",
    "        self.sales = df[region_sales].sum() # Total de vendas na região\n",
    "        # Método para filtrar do Dataframe apenas os dados da Região\n",
    "        self.set_market(df, region_sales)\n",
    "        # Método para extrair as 5 principais plataformas da região\n",
    "        self.set_main_platforms(df, region_sales)\n",
    "        # Método para extrair os 5 principais gêneros da região\n",
    "        self.set_main_genres(df, region_sales)       \n",
    "    \n",
    "    def set_market(self, df, region_sales):\n",
    "        # Filtra quais jogos tiveram alguma venda na região\n",
    "        self.market = df[df[region_sales]>0]\n",
    "        # Elimina as colunas que contem as informações sobre os valores de outras regiões\n",
    "        self.drop_columns = df.columns[df.columns.str.contains('_sales')]\n",
    "        self.drop_columns = self.drop_columns.drop(region_sales)\n",
    "        self.market = self.market.drop(columns=self.drop_columns)\n",
    "        \n",
    "        \n",
    "    def set_main_platforms(self, df, region_sales):\n",
    "        self.main_platforms = self.market.groupby('platform')[region_sales].sum().sort_values(ascending=False).head()\n",
    "        self.main_platforms = self.main_platforms.reset_index()\n",
    "        self.main_platforms['share'] = self.main_platforms[region_sales]/self.sales\n",
    "        \n",
    "    def set_main_genres(self, df, region_sales):\n",
    "        self.main_genres = self.market.groupby('genre')[region_sales].sum().sort_values(ascending=False).head()\n",
    "        self.main_genres = self.main_genres.reset_index()\n",
    "        self.main_genres['share'] = self.main_genres[region_sales]/self.sales"
   ]
  },
  {
   "cell_type": "code",
   "execution_count": 37,
   "metadata": {},
   "outputs": [],
   "source": [
    "# Criar perfil de usuário para cada região\n",
    "jp_profile = Region('Japão', games_data, 'jp_sales')\n",
    "na_profile = Region('América do Norte', games_data, 'na_sales')\n",
    "eu_profile = Region('Europa', games_data, 'eu_sales')"
   ]
  },
  {
   "cell_type": "markdown",
   "metadata": {},
   "source": [
    "#### Plataformas"
   ]
  },
  {
   "cell_type": "code",
   "execution_count": 38,
   "metadata": {},
   "outputs": [
    {
     "name": "stdout",
     "output_type": "stream",
     "text": [
      "Principais Plataformas no Japão: \n",
      "   platform  jp_sales     share\n",
      "0       DS    175.57  0.135328\n",
      "1       PS    139.82  0.107772\n",
      "2      PS2    139.20  0.107294\n",
      "3     SNES    116.55  0.089836\n",
      "4      3DS    100.67  0.077595\n",
      "---------------------------------------\n",
      "Principais Plataformas na América do Norte: \n",
      "   platform  na_sales     share\n",
      "0     X360    602.47  0.136852\n",
      "1      PS2    583.84  0.132620\n",
      "2      Wii    496.90  0.112872\n",
      "3      PS3    393.49  0.089382\n",
      "4       DS    382.40  0.086863\n",
      "---------------------------------------\n",
      "Principais Plataformas na Europa: \n",
      "   platform  eu_sales     share\n",
      "0      PS2    339.29  0.139932\n",
      "1      PS3    330.29  0.136221\n",
      "2     X360    270.76  0.111669\n",
      "3      Wii    262.21  0.108143\n",
      "4       PS    213.61  0.088099\n"
     ]
    }
   ],
   "source": [
    "# Cinco plataformas principais de cada região\n",
    "print('Principais Plataformas no Japão: \\n', jp_profile.main_platforms)\n",
    "print('---------------------------------------')\n",
    "print('Principais Plataformas na América do Norte: \\n', na_profile.main_platforms)\n",
    "print('---------------------------------------')\n",
    "print('Principais Plataformas na Europa: \\n', eu_profile.main_platforms)"
   ]
  },
  {
   "cell_type": "markdown",
   "metadata": {},
   "source": [
    "[Descreva as variações das quotas de mercado de região para região] <br><br>\n",
    "A região japonesa prefere as plataformas produzidas na própria região, tendo em vista que os 5 primeiros lugares são de fabricantes japonesas. Outra caracteristica da região é que todas as plataformas presentes no top5 são mais antigas, por exemplo o SNES só aparece nessa região e o DS é a plataforma mais popular.<br><br>\n",
    "A região da América do norte tem uma predominância de Xbox 360 e PS2, foram as plataformas mais populares no período em que o mercado teve as maiores vendas, mas o mercado não é dominado por nenhum fabricante. <br><br>\n",
    "A região europeia tem uma predominância das plataformas da playstation, sendo que as 3 primeiras gerações aparecem no top5, com o PS2 e o PS3 em primeiro e segundo respectivamente. O Xbox 360 e o Nintendo Wii aparecem bem também, a região tem uma preferência por plataformas mais atuais em relação ao Japão e a América do Norte, porém as últimas gerações não apareceram, por estarem no meio do ciclo de vida médio e também pelas vendas no mercado de jogos ter caído."
   ]
  },
  {
   "cell_type": "markdown",
   "metadata": {},
   "source": [
    "#### Gêneros"
   ]
  },
  {
   "cell_type": "code",
   "execution_count": 39,
   "metadata": {},
   "outputs": [
    {
     "name": "stdout",
     "output_type": "stream",
     "text": [
      "Principais Gêneros no Japão: \n",
      "           genre  jp_sales     share\n",
      "0  Role-Playing    355.41  0.273947\n",
      "1        Action    161.43  0.124429\n",
      "2        Sports    135.54  0.104473\n",
      "3      Platform    130.83  0.100842\n",
      "4          Misc    108.11  0.083330\n",
      "---------------------------------------\n",
      "Principais Gêneros na América do Norte: \n",
      "       genre  na_sales     share\n",
      "0    Action    879.01  0.199668\n",
      "1    Sports    684.43  0.155469\n",
      "2   Shooter    592.24  0.134528\n",
      "3  Platform    445.50  0.101196\n",
      "4      Misc    407.27  0.092512\n",
      "---------------------------------------\n",
      "Principais Gêneros na Europa: \n",
      "      genre  eu_sales     share\n",
      "0   Action    519.13  0.214103\n",
      "1   Sports    376.79  0.155398\n",
      "2  Shooter    317.34  0.130880\n",
      "3   Racing    236.51  0.097543\n",
      "4     Misc    212.74  0.087740\n"
     ]
    }
   ],
   "source": [
    "# Cinco principais gêneros de cada região\n",
    "print('Principais Gêneros no Japão: \\n', jp_profile.main_genres)\n",
    "print('---------------------------------------')\n",
    "print('Principais Gêneros na América do Norte: \\n', na_profile.main_genres)\n",
    "print('---------------------------------------')\n",
    "print('Principais Gêneros na Europa: \\n', eu_profile.main_genres)"
   ]
  },
  {
   "cell_type": "markdown",
   "metadata": {},
   "source": [
    "[Explique a diferença]<br>\n",
    "A região japonesa tem o gosto mais diferente, com o gênero Role-playing estando em primeiro lugar e com quase 30% do mercado, e também ser a única região onde esse gênero aparece.<br>\n",
    "As regiões da Europa e da América do Norte tem gosto mais similares, com a ordem dos gêneros idênticas, com exceção da 4 posição que são gêneros diferentes.<br>\n",
    "Independente da região os gêneros de Ação e Esportes performam bem.<br>\n",
    "O gênero de corrida aparece apenas na Europa<br>\n",
    "Jogos de plataforma conseguem ter bom sucesso tanto no Japão quanto na América do Norte, com 10% do mercado em cada região."
   ]
  },
  {
   "cell_type": "markdown",
   "metadata": {},
   "source": [
    "#### Classificações ESRB"
   ]
  },
  {
   "cell_type": "code",
   "execution_count": 40,
   "metadata": {
    "scrolled": true
   },
   "outputs": [
    {
     "name": "stdout",
     "output_type": "stream",
     "text": [
      "rating\n",
      "RP      841.96\n",
      "E       198.11\n",
      "T       151.40\n",
      "M        64.24\n",
      "E10+     40.20\n",
      "K-A       1.46\n",
      "Name: jp_sales, dtype: float64\n",
      "-----------------------------------\n",
      "rating\n",
      "E       1292.99\n",
      "RP      1242.46\n",
      "T        759.75\n",
      "M        748.48\n",
      "E10+     353.32\n",
      "K-A        2.56\n",
      "EC         1.53\n",
      "AO         1.26\n",
      "Name: na_sales, dtype: float64\n",
      "-----------------------------------\n",
      "rating\n",
      "E       710.25\n",
      "RP      613.91\n",
      "M       483.97\n",
      "T       427.03\n",
      "E10+    188.52\n",
      "AO        0.61\n",
      "K-A       0.27\n",
      "EC        0.11\n",
      "Name: eu_sales, dtype: float64\n"
     ]
    }
   ],
   "source": [
    "# Verificar como as classificações ESRB afetam as vendas em cada região\n",
    "jp_market = jp_profile.market\n",
    "jp_market = jp_market.groupby('rating')['jp_sales'].sum().sort_values(ascending=False)\n",
    "print(jp_market)\n",
    "print('-----------------------------------')\n",
    "na_market = na_profile.market\n",
    "na_market = na_market.groupby('rating')['na_sales'].sum().sort_values(ascending=False)\n",
    "print(na_market)\n",
    "print('-----------------------------------')\n",
    "\n",
    "eu_market = eu_profile.market\n",
    "eu_market = eu_market.groupby('rating')['eu_sales'].sum().sort_values(ascending=False)\n",
    "print(eu_market)"
   ]
  },
  {
   "cell_type": "markdown",
   "metadata": {},
   "source": [
    "Jogos com classificação livre são os jogos mais populares em todas as regiões, porém no mercado japonês existem muitos jogos sem classificação, mais que todos os jogos classificados somados, tornando díficil avaliar como a classificação afeta essa região especificamente.<br>\n",
    "Nas regiões da Europa e América do Norte, os jogos com classificação para adolescente e maduro estão em segundo e terceiro lugares, mas invertem suas posições, sendo que na Europa os maduros são preferidos e na América do Norte os adolescente, mas a diferença entre essas classificações é pequena, após elas vem a classificação para acima de 10 anos e depois classificações com nichos específicos. Isso mostra que os jogos nichados para faixas etárias muito específicas performam pior que jogos mais abrangentes."
   ]
  },
  {
   "cell_type": "markdown",
   "metadata": {},
   "source": [
    "## Testes de Hipóteses\n",
    "\n",
    "Hipóteses a ser testadas:<br>\n",
    "— As classificações médias dos usuários das plataformas Xbox One e PC são as mesmas.<br>\n",
    "— As classificações médias de usuários para os gêneros Action (ação) e Sports (esportes) são diferentes. <br>\n",
    "Defina o valor do limiar *alfa** você mesmo.<br>\n",
    "Explique:<br>\n",
    "— Como você formula as hipóteses alternativas e nulas.<br>\n",
    "— Quais critérios você usou para testar as hipóteses, e por quê<br>\n",
    "\n"
   ]
  },
  {
   "cell_type": "markdown",
   "metadata": {},
   "source": [
    "### Hipótese 1\n",
    "Hipótese nula = As classificações médias dos usuários das plataformas Xbox One e PC são as mesmas <br>\n",
    "Hipótese alternativa = As classificações médias dos usuários das plataformas Xbox One e PC são diferentes"
   ]
  },
  {
   "cell_type": "code",
   "execution_count": 41,
   "metadata": {},
   "outputs": [],
   "source": [
    "# Filtrar as notas de Xbox One e de PC\n",
    "games_rated = games_data[~games_data['user_score'].isna()]\n",
    "xone_ratings = games_rated[games_rated['platform'] == 'XOne']['user_score']\n",
    "pc_ratings = games_rated[games_rated['platform'] == 'PC']['user_score']"
   ]
  },
  {
   "cell_type": "code",
   "execution_count": 42,
   "metadata": {},
   "outputs": [
    {
     "name": "stdout",
     "output_type": "stream",
     "text": [
      "valor-p:  0.07549452472407711\n",
      "Não rejeitamos a hipótese nula de Levene\n"
     ]
    }
   ],
   "source": [
    "#Limite de 5% para aceitar a hipótese nula, para cima ou para baixo\n",
    "alpha = 0.05\n",
    "\n",
    "#Teste Levene para suposição de igualdade das variâncias\n",
    "users_ratings_l_test = st.levene(xone_ratings, pc_ratings, center='mean')\n",
    "\n",
    "print('valor-p: ', users_ratings_l_test.pvalue) # extraindo o valor-p\n",
    "\n",
    "if users_ratings_l_test.pvalue < alpha: # comparando o valor-p com o limiar\n",
    "    print(\"Rejeitamos a hipótese nula de Levene\")\n",
    "else:\n",
    "    print(\"Não rejeitamos a hipótese nula de Levene\") \n"
   ]
  },
  {
   "cell_type": "code",
   "execution_count": 43,
   "metadata": {},
   "outputs": [
    {
     "name": "stdout",
     "output_type": "stream",
     "text": [
      "valor-p:  1.3896435533548819e-05\n",
      "Rejeitamos a hipótese nula\n"
     ]
    }
   ],
   "source": [
    "#Realizando Teste T com equal_var=True\n",
    "user_ratings_t_test = st.ttest_ind(xone_ratings, pc_ratings, equal_var=True)\n",
    "\n",
    "\n",
    "print('valor-p: ', user_ratings_t_test.pvalue) # extraindo o valor-p\n",
    "\n",
    "if user_ratings_t_test.pvalue < alpha: # comparando o valor-p com o limiar\n",
    "    print(\"Rejeitamos a hipótese nula\")\n",
    "else:\n",
    "    print(\"Não podemos rejeitar a hipótese nula\")"
   ]
  },
  {
   "cell_type": "code",
   "execution_count": 44,
   "metadata": {
    "scrolled": true
   },
   "outputs": [
    {
     "data": {
      "image/png": "[encoded data removed]",
      "text/plain": [
       "<Figure size 936x288 with 1 Axes>"
      ]
     },
     "metadata": {
      "needs_background": "light"
     },
     "output_type": "display_data"
    },
    {
     "data": {
      "image/png": "[encoded data removed]",
      "text/plain": [
       "<Figure size 936x288 with 1 Axes>"
      ]
     },
     "metadata": {
      "needs_background": "light"
     },
     "output_type": "display_data"
    }
   ],
   "source": [
    "xone_sorted = xone_ratings.value_counts().reset_index().sort_values(by='index')\n",
    "pc_sorted = pc_ratings.value_counts().reset_index().sort_values(by='index')\n",
    "\n",
    "plt.subplots(figsize=(13,4))\n",
    "plt.title('Gráfico de distribuição das Notas de Usuário do PC')\n",
    "plt.xlabel('Nota')\n",
    "plt.ylabel('Quantidade de avaliações')\n",
    "plt.plot(pc_sorted['index'], pc_sorted['user_score'], color='blue', \n",
    "            label='Notas do PC')\n",
    "plt.yticks([])\n",
    "plt.legend()\n",
    "plt.show()\n",
    "plt.subplots(figsize=(13,4))\n",
    "plt.title('Gráfico de distribuição das Notas de Usuário do XBox One')\n",
    "plt.xlabel('Nota')\n",
    "plt.ylabel('Quantidade de avaliações')\n",
    "plt.yticks([])\n",
    "plt.plot(xone_sorted['index'], xone_sorted['user_score'], color='green', \n",
    "            label='Notas do Xbox One')\n",
    "\n",
    "\n",
    "plt.legend()\n",
    "\n",
    "plt.show()"
   ]
  },
  {
   "cell_type": "markdown",
   "metadata": {},
   "source": [
    "Os jogos de PC tem uma avaliação melhor dos usuários que os jogos de Xbox One. A hipótese partiu do príncipio que as plataformas tem a mesma avaliação. Ambas plataformas são do mesmo fabricante, mas ao analisar a média das notas com um alpha de 5% para cima ou para baixo vimos que não é possível afirmar que elas tem as mesmas classificações pelos usuários."
   ]
  },
  {
   "cell_type": "markdown",
   "metadata": {},
   "source": [
    "### Hipótese 2\n",
    "As classificações médias de usuários para os gêneros Action (ação) e Sports (esportes) são diferentes.<br>\n",
    "Hipótese nula: As classificações médias de usuários para os gêneros Action e Sports são iguais.<br>\n",
    "Hipótese alternativa: As classificações médias de usuários para os gêneros Action (ação) e Sports (esportes) são diferentes."
   ]
  },
  {
   "cell_type": "code",
   "execution_count": 45,
   "metadata": {},
   "outputs": [],
   "source": [
    "action_ratings = games_rated[games_rated['genre'] == 'Action']['user_score']\n",
    "sports_ratings = games_rated[games_rated['genre'] == 'Sports']['user_score']"
   ]
  },
  {
   "cell_type": "code",
   "execution_count": 46,
   "metadata": {},
   "outputs": [
    {
     "name": "stdout",
     "output_type": "stream",
     "text": [
      "valor-p:  5.355232768512743e-06\n",
      "Rejeitamos a hipótese nula de Levene\n"
     ]
    }
   ],
   "source": [
    "#Limite de 5% para aceitar a hipótese nula, para cima ou para baixo\n",
    "alpha = 0.05\n",
    "\n",
    "#Teste Levene para suposição de igualdade das variâncias\n",
    "users_genre_ratings_l_test = st.levene(action_ratings, sports_ratings, center='mean')\n",
    "\n",
    "print('valor-p: ', users_genre_ratings_l_test.pvalue) # extraindo o valor-p\n",
    "\n",
    "if users_genre_ratings_l_test.pvalue < alpha: # comparando o valor-p com o limiar\n",
    "    print(\"Rejeitamos a hipótese nula de Levene\")\n",
    "else:\n",
    "    print(\"Não rejeitamos a hipótese nula de Levene\") "
   ]
  },
  {
   "cell_type": "code",
   "execution_count": 47,
   "metadata": {},
   "outputs": [
    {
     "name": "stdout",
     "output_type": "stream",
     "text": [
      "valor-p:  4.935072360183565e-06\n",
      "Rejeitamos a hipótese nula\n"
     ]
    }
   ],
   "source": [
    "#Realizando Teste T com equal_var=True\n",
    "users_genre_ratings_t_test = st.ttest_ind(xone_ratings, pc_ratings, equal_var=False)\n",
    "\n",
    "\n",
    "print('valor-p: ', users_genre_ratings_t_test.pvalue) # extraindo o valor-p\n",
    "\n",
    "if users_genre_ratings_t_test.pvalue < alpha: # comparando o valor-p com o limiar\n",
    "    print(\"Rejeitamos a hipótese nula\")\n",
    "else:\n",
    "    print(\"Não podemos rejeitar a hipótese nula\")"
   ]
  },
  {
   "cell_type": "code",
   "execution_count": 48,
   "metadata": {
    "scrolled": true
   },
   "outputs": [
    {
     "data": {
      "image/png": "[encoded data removed]",
      "text/plain": [
       "<Figure size 936x288 with 1 Axes>"
      ]
     },
     "metadata": {
      "needs_background": "light"
     },
     "output_type": "display_data"
    },
    {
     "data": {
      "image/png": "[encoded data removed]",
      "text/plain": [
       "<Figure size 936x288 with 1 Axes>"
      ]
     },
     "metadata": {
      "needs_background": "light"
     },
     "output_type": "display_data"
    }
   ],
   "source": [
    "action_sorted = action_ratings.value_counts().reset_index().sort_values(by='index')\n",
    "sports_sorted = sports_ratings.value_counts().reset_index().sort_values(by='index')\n",
    "\n",
    "plt.subplots(figsize=(13,4))\n",
    "plt.title('Gráfico de distribuição das Notas de Usuário do Gênero Ação')\n",
    "plt.xlabel('Nota')\n",
    "plt.ylabel('Quantidade de avaliações')\n",
    "plt.plot(action_sorted['index'], action_sorted['user_score'], color='red', \n",
    "            label='Notas de Ação')\n",
    "#plt.yticks([])\n",
    "plt.legend()\n",
    "plt.show()\n",
    "plt.subplots(figsize=(13,4))\n",
    "plt.title('Gráfico de distribuição das Notas de Usuário do Gênero Sports')\n",
    "plt.xlabel('Nota')\n",
    "plt.ylabel('Quantidade de avaliações')\n",
    "#plt.yticks([])\n",
    "plt.plot(sports_sorted['index'], sports_sorted['user_score'], color='green', \n",
    "            label='Notas de Sports')\n",
    "\n",
    "\n",
    "plt.legend()\n",
    "\n",
    "plt.show()"
   ]
  },
  {
   "cell_type": "markdown",
   "metadata": {},
   "source": [
    "Os jogos de Ação tem uma avaliação melhor dos usuários que os jogos de Esportes. A hipótese partiu do príncipio que os gêneros tem uma avaliação diferente. São os gêneros mais populares, sendo Ação o mais popular, mas ao fazer o Teste T com um alpha de 5% para cima ou para baixo vimos que é possível afirmar que elas tem classificações diferentes pelos usuários."
   ]
  },
  {
   "cell_type": "markdown",
   "metadata": {},
   "source": [
    "## Conclusão"
   ]
  },
  {
   "cell_type": "markdown",
   "metadata": {},
   "source": [
    "Analisando os dados e projetando o melhor lançamento para 2017, o jogo com mais probabilidade de lucro deve ser desenvolvido para a plataforma PS4, do gênero Ação, com rating ESRB 'E' e com projeção de boa recepção nos mercados japonês, norte americano e europeu. Desenvolver um jogo para Xbox One, ou de Esporte, ou com classificação 'T' ou 'M' também seria um bom investimento. O mercado desacelerou nos últimos anos, mas essas plataformas, gêneros e classificações ainda tem expectativa de um bom retorno para o desenvolvedor."
   ]
  }
 ],
 "metadata": {
  "kernelspec": {
   "display_name": "Python 3 (ipykernel)",
   "language": "python",
   "name": "python3"
  },
  "language_info": {
   "codemirror_mode": {
    "name": "ipython",
    "version": 3
   },
   "file_extension": ".py",
   "mimetype": "text/x-python",
   "name": "python",
   "nbconvert_exporter": "python",
   "pygments_lexer": "ipython3",
   "version": "3.9.5"
  },
  "toc": {
   "base_numbering": 1,
   "nav_menu": {},
   "number_sections": true,
   "sideBar": true,
   "skip_h1_title": true,
   "title_cell": "Table of Contents",
   "title_sidebar": "Contents",
   "toc_cell": false,
   "toc_position": {
    "height": "calc(100% - 180px)",
    "left": "10px",
    "top": "150px",
    "width": "245px"
   },
   "toc_section_display": true,
   "toc_window_display": true
  }
 },
 "nbformat": 4,
 "nbformat_minor": 2
}

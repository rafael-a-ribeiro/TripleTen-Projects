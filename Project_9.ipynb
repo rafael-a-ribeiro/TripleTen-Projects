{
 "cells": [
  {
   "cell_type": "markdown",
   "metadata": {},
   "source": [
    "# Visão geral do projeto<br>\n",
    "Você trabalha na empresa de mineração OilyGiant. Sua tarefa é encontrar os melhores lugares para o desenvolvimento de novos poços de petróleo.<br>\n",
    "Para concluir essa tarefa, você vai precisar executar as seguintes etapas:<br>\n",
    "•\tLer os arquivos com parâmetros coletados de poços de petróleo na região selecionada: a quantidade de petróleo e o volume de reservas;<br>\n",
    "•\tConstruir um modelo para predizer o volume de reservas em novos poços;<br>\n",
    "•\tEscolher os poços de petróleo que têm os maiores valores estimados;<br>\n",
    "•\tEscolher a região com o maior lucro total para os poços de petróleo selecionados.<br>\n",
    "Você tem dados sobre amostras de petróleo de três regiões. Os parâmetros de cada poço de petróleo na região já são conhecidos. Construa um modelo que te ajudará a escolher a região com a margem de lucro mais alta. Utilize a técnica de Bootstrapping para analisar lucro potencial e riscos.\n"
   ]
  },
  {
   "cell_type": "markdown",
   "metadata": {},
   "source": [
    "# Descrição de dados\n",
    "Os dados de exploração geológica para as três regiões estão armazenados em arquivos:<br>\n",
    "•\tgeo_data_0.csv. baixe o conjunto de dados<br>\n",
    "•\tgeo_data_1.csv. baixe o conjunto de dados<br>\n",
    "•\tgeo_data_2.csv. baixe o conjunto de dados<br>\n",
    "•\tid — identificador unívoco de poço de petróleo<br>\n",
    "•\tf0, f1, f2 — três características de pontos (seu significado específico não é importante, mas as próprias características são significativas)<br>\n",
    "•\tproduct — volume de reservas no poço de petróleo (milhares de barris).\n"
   ]
  },
  {
   "cell_type": "markdown",
   "metadata": {},
   "source": [
    "# Condições:\n",
    "•\tApenas regressão linear pode ser usada para o treinamento do modelo (o resto não são previsíveis o suficiente).<br>\n",
    "•\tAo explorar a região, um estudo de 500 pontos é realizado e os melhores 200 pontos são selecionados para calcular o lucro.<br>\n",
    "•\tO orçamento para o desenvolvimento de 200 poços de petróleo é 100 milhões de dólares.<br>\n",
    "•\tUm barril de petróleo bruto traz 4.5 dólares de receita. A receita de uma unidade de produto é 4.500 dólares (o volume de reservas está em milhares de barris).<br>\n",
    "•\tDepois de ter avaliado os riscos, mantenha apenas as regiões com o risco de perdas inferior a 2.5%. Entre aquelas que se enquadram no critério, você precisa selecionar a região com o lucro médio mais alto.<br>\n",
    "Os dados são sintéticos e não incluem nenhum detalhe de contratos ou características de poços.\n"
   ]
  },
  {
   "cell_type": "code",
   "execution_count": 1,
   "metadata": {},
   "outputs": [],
   "source": [
    "import pandas as pd\n",
    "from sklearn.model_selection import train_test_split\n",
    "from sklearn.linear_model import LinearRegression\n",
    "from sklearn.metrics import mean_squared_error\n",
    "import numpy as np\n",
    "import matplotlib.pyplot as plt\n",
    "from matplotlib.ticker import FormatStrFormatter\n",
    "from matplotlib.ticker import StrMethodFormatter"
   ]
  },
  {
   "cell_type": "markdown",
   "metadata": {},
   "source": [
    "## Baixe e prepare os dados. Explique o procedimento."
   ]
  },
  {
   "cell_type": "code",
   "execution_count": 2,
   "metadata": {},
   "outputs": [
    {
     "name": "stdout",
     "output_type": "stream",
     "text": [
      "<class 'pandas.core.frame.DataFrame'>\n",
      "RangeIndex: 100000 entries, 0 to 99999\n",
      "Data columns (total 5 columns):\n",
      " #   Column   Non-Null Count   Dtype  \n",
      "---  ------   --------------   -----  \n",
      " 0   id       100000 non-null  object \n",
      " 1   f0       100000 non-null  float64\n",
      " 2   f1       100000 non-null  float64\n",
      " 3   f2       100000 non-null  float64\n",
      " 4   product  100000 non-null  float64\n",
      "dtypes: float64(4), object(1)\n",
      "memory usage: 3.8+ MB\n",
      "None\n"
     ]
    }
   ],
   "source": [
    "data_region_0 = pd.read_csv('/datasets/geo_data_0.csv')\n",
    "\n",
    "print(data_region_0.info())"
   ]
  },
  {
   "cell_type": "code",
   "execution_count": 3,
   "metadata": {},
   "outputs": [
    {
     "name": "stdout",
     "output_type": "stream",
     "text": [
      "<class 'pandas.core.frame.DataFrame'>\n",
      "RangeIndex: 100000 entries, 0 to 99999\n",
      "Data columns (total 5 columns):\n",
      " #   Column   Non-Null Count   Dtype  \n",
      "---  ------   --------------   -----  \n",
      " 0   id       100000 non-null  object \n",
      " 1   f0       100000 non-null  float64\n",
      " 2   f1       100000 non-null  float64\n",
      " 3   f2       100000 non-null  float64\n",
      " 4   product  100000 non-null  float64\n",
      "dtypes: float64(4), object(1)\n",
      "memory usage: 3.8+ MB\n",
      "None\n"
     ]
    }
   ],
   "source": [
    "data_region_1 = pd.read_csv('/datasets/geo_data_1.csv')\n",
    "\n",
    "print(data_region_1.info())"
   ]
  },
  {
   "cell_type": "code",
   "execution_count": 4,
   "metadata": {},
   "outputs": [
    {
     "name": "stdout",
     "output_type": "stream",
     "text": [
      "<class 'pandas.core.frame.DataFrame'>\n",
      "RangeIndex: 100000 entries, 0 to 99999\n",
      "Data columns (total 5 columns):\n",
      " #   Column   Non-Null Count   Dtype  \n",
      "---  ------   --------------   -----  \n",
      " 0   id       100000 non-null  object \n",
      " 1   f0       100000 non-null  float64\n",
      " 2   f1       100000 non-null  float64\n",
      " 3   f2       100000 non-null  float64\n",
      " 4   product  100000 non-null  float64\n",
      "dtypes: float64(4), object(1)\n",
      "memory usage: 3.8+ MB\n",
      "None\n"
     ]
    }
   ],
   "source": [
    "data_region_2 = pd.read_csv('/datasets/geo_data_2.csv')\n",
    "\n",
    "print(data_region_2.info())"
   ]
  },
  {
   "cell_type": "markdown",
   "metadata": {},
   "source": [
    "## Treine e teste o modelo para cada região"
   ]
  },
  {
   "cell_type": "code",
   "execution_count": 5,
   "metadata": {},
   "outputs": [],
   "source": [
    "def train_model_mean_rmse(data):\n",
    "    features = data.drop(['id', 'product'], axis = 1)\n",
    "    target = data['product']\n",
    "    \n",
    "    # Divida os dados em um conjunto de treinamento e um conjunto de validação em uma proporção de 75:25.\n",
    "    features_train, features_valid, target_train, target_valid = train_test_split(\n",
    "        features, target, test_size=0.25, random_state=12345)\n",
    "    \n",
    "    # Treine o modelo e faça predições para o conjunto de validação.\n",
    "    model = LinearRegression()\n",
    "    model.fit(features_train, target_train)\n",
    "    predictions_valid = model.predict(features_valid)\n",
    "    \n",
    "    mean = predictions_valid.mean()\n",
    "    rmse = mean_squared_error(target_valid, predictions_valid, squared=False)\n",
    "    \n",
    "    return model, mean, rmse, predictions_valid"
   ]
  },
  {
   "cell_type": "markdown",
   "metadata": {},
   "source": [
    "### Salve as predições e respostas corretas no conjunto de validação e Imprima o volume médio previsto de reservas e o REQM do modelo."
   ]
  },
  {
   "cell_type": "code",
   "execution_count": 6,
   "metadata": {},
   "outputs": [
    {
     "name": "stdout",
     "output_type": "stream",
     "text": [
      "Média da Região 0: 92.59256778438035\n",
      "REQM da Região 0: 37.5794217150813\n"
     ]
    }
   ],
   "source": [
    "r0_model, r0_mean, r0_rmse, r0_predictions = train_model_mean_rmse(data_region_0)\n",
    "\n",
    "print('Média da Região 0:', r0_mean)\n",
    "print('REQM da Região 0:', r0_rmse)"
   ]
  },
  {
   "cell_type": "code",
   "execution_count": 7,
   "metadata": {},
   "outputs": [
    {
     "name": "stdout",
     "output_type": "stream",
     "text": [
      "Média da Região 1: 68.728546895446\n",
      "REQM da Região 1: 0.893099286775617\n"
     ]
    }
   ],
   "source": [
    "r1_model, r1_mean, r1_rmse, r1_predictions = train_model_mean_rmse(data_region_1)\n",
    "\n",
    "print('Média da Região 1:', r1_mean)\n",
    "print('REQM da Região 1:', r1_rmse)"
   ]
  },
  {
   "cell_type": "code",
   "execution_count": 8,
   "metadata": {},
   "outputs": [
    {
     "name": "stdout",
     "output_type": "stream",
     "text": [
      "Média da Região 2: 94.96504596800489\n",
      "REQM da Região 2: 40.02970873393434\n"
     ]
    }
   ],
   "source": [
    "r2_model, r2_mean, r2_rmse, r2_predictions = train_model_mean_rmse(data_region_2)\n",
    "\n",
    "print('Média da Região 2:', r2_mean)\n",
    "print('REQM da Região 2:', r2_rmse)"
   ]
  },
  {
   "cell_type": "markdown",
   "metadata": {},
   "source": [
    "### Analise os resultados."
   ]
  },
  {
   "cell_type": "markdown",
   "metadata": {},
   "source": [
    "A média de produção da região 2 é a maior entre as 3 regiões, mas tem um desvio padrão maior, e a região 1 tem menor produção e menor desvio padrão. A região 2 pode ser a mais produtiva e a menos também, enquanto a região 0 é bem parecida com ela. A região 1 apesar de ter menor média parece ser a mais previsível. "
   ]
  },
  {
   "cell_type": "markdown",
   "metadata": {},
   "source": [
    "## Prepare-se para o cálculo de lucro"
   ]
  },
  {
   "cell_type": "markdown",
   "metadata": {},
   "source": [
    "### Armazene todos os valores necessários para os cálculos em variáveis separadas."
   ]
  },
  {
   "cell_type": "code",
   "execution_count": 9,
   "metadata": {},
   "outputs": [],
   "source": [
    "barril_revenue = 4.5\n",
    "budget = 100000000\n",
    "least_mean_revenue = 111.1"
   ]
  },
  {
   "cell_type": "markdown",
   "metadata": {},
   "source": [
    "### Dado o investimento de 100 milhões para 200 poços de petróleo, cada um precisa produzir, em média, uma quantidade de unidades equivalente a pelo menos 500 mil dólares para evitar prejuízos (isso é aproximadamente 111,1 unidades). Compare essa quantidade com o volume médio de cada região."
   ]
  },
  {
   "cell_type": "code",
   "execution_count": 10,
   "metadata": {},
   "outputs": [],
   "source": [
    "def region_viability(mean_product, barril_revenue, region):\n",
    "    # Cálculo da média de receita de uma região\n",
    "    mean_revenue = mean_product * barril_revenue\n",
    "    string = f'A média de produção da região {region} é {mean_revenue:.2f} e ela é ' \n",
    "    if mean_revenue >= least_mean_revenue:\n",
    "        string += 'lucrativa'\n",
    "    else:\n",
    "        string += 'deficitária'\n",
    "    return string "
   ]
  },
  {
   "cell_type": "code",
   "execution_count": 11,
   "metadata": {},
   "outputs": [
    {
     "data": {
      "text/plain": [
       "'A média de produção da região 0 é 416.67 e ela é lucrativa'"
      ]
     },
     "execution_count": 11,
     "metadata": {},
     "output_type": "execute_result"
    }
   ],
   "source": [
    "region_viability(r0_mean, barril_revenue, '0')"
   ]
  },
  {
   "cell_type": "code",
   "execution_count": 12,
   "metadata": {},
   "outputs": [
    {
     "data": {
      "text/plain": [
       "'A média de produção da região 1 é 309.28 e ela é lucrativa'"
      ]
     },
     "execution_count": 12,
     "metadata": {},
     "output_type": "execute_result"
    }
   ],
   "source": [
    "region_viability(r1_mean, barril_revenue, '1')"
   ]
  },
  {
   "cell_type": "code",
   "execution_count": 13,
   "metadata": {},
   "outputs": [
    {
     "data": {
      "text/plain": [
       "'A média de produção da região 2 é 427.34 e ela é lucrativa'"
      ]
     },
     "execution_count": 13,
     "metadata": {},
     "output_type": "execute_result"
    }
   ],
   "source": [
    "region_viability(r2_mean, barril_revenue, '2')"
   ]
  },
  {
   "cell_type": "markdown",
   "metadata": {},
   "source": [
    "### Forneça conclusões sobre a etapa de preparação para o cálculo de lucro."
   ]
  },
  {
   "cell_type": "markdown",
   "metadata": {},
   "source": [
    "De acordo com a média de volume da produção a região 2 tem maior média, e é promissora para ser a região onde novos poços devem ser explorados."
   ]
  },
  {
   "cell_type": "markdown",
   "metadata": {},
   "source": [
    "## Escreva uma função para calcular lucro de um conjunto de poços de petróleo selecionados e predições do modelo:"
   ]
  },
  {
   "cell_type": "code",
   "execution_count": 14,
   "metadata": {},
   "outputs": [],
   "source": [
    "# Função para calcular o lucro de uma região\n",
    "def profit_calculator(predictions, barril_revenue, budget, amount=0):\n",
    "    if(amount==0):\n",
    "        amount = len(predictions)\n",
    "    # Escolha os 200 poços com os valores mais altos previstos\n",
    "    top_wells = sorted(predictions, reverse=True)[0:amount]\n",
    "    top_wells = pd.Series(top_wells)\n",
    "    \n",
    "    # Sumarize o volume alvo de reservas de acordo com essas predições. \n",
    "    # Armazene as predições para os 200 poços para cada uma das 3 regiões.\n",
    "    total_volume = top_wells.sum()\n",
    "    \n",
    "    # Calcular o lucro potencial (*1000 pq a unidade está em milhares de barris)\n",
    "    potential_profit = total_volume * barril_revenue * 1000 - budget\n",
    "    \n",
    "    return potential_profit\n"
   ]
  },
  {
   "cell_type": "markdown",
   "metadata": {},
   "source": [
    "### Calcule o lucro potencial dos 200 melhores poços por região"
   ]
  },
  {
   "cell_type": "code",
   "execution_count": 15,
   "metadata": {},
   "outputs": [
    {
     "name": "stdout",
     "output_type": "stream",
     "text": [
      "Lucro potencial para a região 0: 39,960,488.77\n"
     ]
    }
   ],
   "source": [
    "# Calcular o lucro potencial para a região 0\n",
    "potential_profit_0 = profit_calculator(r0_predictions, barril_revenue, budget, 200)\n",
    "print(f\"Lucro potencial para a região 0: {potential_profit_0:,.2f}\", )"
   ]
  },
  {
   "cell_type": "code",
   "execution_count": 16,
   "metadata": {},
   "outputs": [
    {
     "name": "stdout",
     "output_type": "stream",
     "text": [
      "Lucro potencial para a região 1: 24,857,120.52\n"
     ]
    }
   ],
   "source": [
    "# Calcular o lucro potencial para a região 1\n",
    "potential_profit_1 = profit_calculator(r1_predictions, barril_revenue, budget, 200)\n",
    "print(f\"Lucro potencial para a região 1: {potential_profit_1:,.2f}\", )"
   ]
  },
  {
   "cell_type": "code",
   "execution_count": 17,
   "metadata": {},
   "outputs": [
    {
     "name": "stdout",
     "output_type": "stream",
     "text": [
      "Lucro potencial para a região 2: 33,217,543.96\n"
     ]
    }
   ],
   "source": [
    "# Calcular o lucro potencial para a região 2\n",
    "potential_profit_2 = profit_calculator(r2_predictions, barril_revenue, budget, 200)\n",
    "print(f\"Lucro potencial para a região 2: {potential_profit_2:,.2f}\", )"
   ]
  },
  {
   "cell_type": "markdown",
   "metadata": {},
   "source": [
    "### Apresente suas conclusões: sugira uma região para o desenvolvimento de poços de petróleo e justifique sua escolha."
   ]
  },
  {
   "cell_type": "markdown",
   "metadata": {},
   "source": [
    "De acordo com o potencial de lucro, a região 0 é mais promissora para desenvolvimento de poços de petróleo, e também tem um desvio padrão menor do que da região 2 que é a segunda com maior lucro potencial."
   ]
  },
  {
   "cell_type": "markdown",
   "metadata": {},
   "source": [
    "## Calcule riscos e lucro para cada região"
   ]
  },
  {
   "cell_type": "code",
   "execution_count": 18,
   "metadata": {},
   "outputs": [],
   "source": [
    "state = np.random.RandomState(12345)"
   ]
  },
  {
   "cell_type": "code",
   "execution_count": 19,
   "metadata": {},
   "outputs": [],
   "source": [
    "# Usando as predições que você armazenou, \n",
    "# use a técnica de bootstrapping com 1.000 amostras para encontrar a distribuição de lucros.\n",
    "\n",
    "def risk_probability(predictions):\n",
    "    predictions = pd.Series(predictions)\n",
    "    profits = []\n",
    "    # Booststrapping 1000 amostras\n",
    "    for i in range(1000):\n",
    "        subsample = predictions.sample(frac=1, replace=True, random_state=state)\n",
    "        potential_profit = profit_calculator(subsample, barril_revenue, budget)\n",
    "        profits.append(potential_profit)\n",
    "    \n",
    "    \n",
    "    return profits"
   ]
  },
  {
   "cell_type": "code",
   "execution_count": 20,
   "metadata": {},
   "outputs": [],
   "source": [
    "# # Encontre lucro médio, intervalo de confiança de 95% e o risco de prejuízo. Prejuízo é um lucro negativo, \n",
    "# calcule-o como uma probabilidade e depois o expresse como uma porcentagem.\n",
    "def profit_analysis(predictions, region):\n",
    "    profits = risk_probability(predictions)\n",
    "\n",
    "    mean_profit = np.mean(profits)\n",
    "    trust_interval = np.percentile(profits, [2.5, 97.5])\n",
    "    loss_risk = np.mean(np.array(profits) < 0)\n",
    "    \n",
    "\n",
    "    print(f\"Lucro médio para a região {region}: {mean_profit:,.2f}\")\n",
    "    print(f\"Intervalo de confiança (95%) para a região {region}: {trust_interval[0]:,.2f} a {trust_interval[1]:,.2f}\", )\n",
    "    print(f\"Risco de prejuízo para a região {region}: {loss_risk}\")\n",
    "    \n",
    "    # Histograma\n",
    "    fig, ax = plt.subplots(figsize=(13,4))\n",
    "    plt.title('Gráfico de distribuição dos lucros nas amostras bootstrap')\n",
    "    plt.xlabel('Lucro')\n",
    "    plt.xticks(rotation=45, ha='right')\n",
    "    plt.ylabel('Quantidade')\n",
    "    plt.hist(profits, 50, color='green')\n",
    "    \n",
    "    ax.xaxis.set_major_formatter(FormatStrFormatter('$%.0f'))\n",
    "\n",
    "    plt.show()\n",
    "    \n",
    "    # Boxplot\n",
    "    \n",
    "    fig, ax = plt.subplots(figsize =(7, 5))\n",
    "    plt.boxplot(profits)\n",
    "    \n",
    "    ax.yaxis.set_major_formatter(FormatStrFormatter('$%.0f'))\n",
    " \n",
    "    # show plot\n",
    "    plt.show()\n",
    "    "
   ]
  },
  {
   "cell_type": "code",
   "execution_count": 21,
   "metadata": {},
   "outputs": [
    {
     "name": "stdout",
     "output_type": "stream",
     "text": [
      "Lucro médio para a região 0: 10,317,103,821.79\n",
      "Intervalo de confiança (95%) para a região 0: 10,283,108,786.69 a 10,348,496,434.29\n",
      "Risco de prejuízo para a região 0: 0.0\n"
     ]
    },
    {
     "data": {
      "image/png": "[encoded data removed]",
      "text/plain": [
       "<Figure size 936x288 with 1 Axes>"
      ]
     },
     "metadata": {
      "needs_background": "light"
     },
     "output_type": "display_data"
    },
    {
     "data": {
      "image/png": "[encoded data removed]",
      "text/plain": [
       "<Figure size 504x360 with 1 Axes>"
      ]
     },
     "metadata": {
      "needs_background": "light"
     },
     "output_type": "display_data"
    }
   ],
   "source": [
    "profit_analysis(r0_predictions, '0')"
   ]
  },
  {
   "cell_type": "code",
   "execution_count": 22,
   "metadata": {},
   "outputs": [
    {
     "name": "stdout",
     "output_type": "stream",
     "text": [
      "Lucro médio para a região 1: 7,631,976,107.83\n",
      "Intervalo de confiança (95%) para a região 1: 7,567,303,811.66 a 7,699,580,247.83\n",
      "Risco de prejuízo para a região 1: 0.0\n"
     ]
    },
    {
     "data": {
      "image/png": "[encoded data removed]",
      "text/plain": [
       "<Figure size 936x288 with 1 Axes>"
      ]
     },
     "metadata": {
      "needs_background": "light"
     },
     "output_type": "display_data"
    },
    {
     "data": {
      "image/png": "[encoded data removed]",
      "text/plain": [
       "<Figure size 504x360 with 1 Axes>"
      ]
     },
     "metadata": {
      "needs_background": "light"
     },
     "output_type": "display_data"
    }
   ],
   "source": [
    "profit_analysis(r1_predictions, '1')"
   ]
  },
  {
   "cell_type": "code",
   "execution_count": 23,
   "metadata": {},
   "outputs": [
    {
     "name": "stdout",
     "output_type": "stream",
     "text": [
      "Lucro médio para a região 2: 10,584,128,560.06\n",
      "Intervalo de confiança (95%) para a região 2: 10,556,988,938.69 a 10,611,554,584.20\n",
      "Risco de prejuízo para a região 2: 0.0\n"
     ]
    },
    {
     "data": {
      "image/png": "[encoded data removed]",
      "text/plain": [
       "<Figure size 936x288 with 1 Axes>"
      ]
     },
     "metadata": {
      "needs_background": "light"
     },
     "output_type": "display_data"
    },
    {
     "data": {
      "image/png": "[encoded data removed]",
      "text/plain": [
       "<Figure size 504x360 with 1 Axes>"
      ]
     },
     "metadata": {
      "needs_background": "light"
     },
     "output_type": "display_data"
    }
   ],
   "source": [
    "profit_analysis(r2_predictions, '2')"
   ]
  },
  {
   "cell_type": "markdown",
   "metadata": {},
   "source": [
    "### Apresente suas conclusões: sugira uma região para o desenvolvimento de poços de petróleo e justifique sua escolha. A sua escolha corresponde à escolha anterior?"
   ]
  },
  {
   "cell_type": "markdown",
   "metadata": {},
   "source": [
    "A melhor região para o desenvolvimento de poços petróleo é a região 2, com média de lucro e intervalo de confiança com mais lucro que as outra regiões. Ao contrário do que havia sido apontado na outra seção que havia sugerido a região 0. Nos gráficos podemos ver a distribuição das amostras bootstrap e a região 0 possui mais outliers, conforme boxplot, e mesmo eles não têm os lucros previstos na região "
   ]
  }
 ],
 "metadata": {
  "kernelspec": {
   "display_name": "Python 3 (ipykernel)",
   "language": "python",
   "name": "python3"
  },
  "language_info": {
   "codemirror_mode": {
    "name": "ipython",
    "version": 3
   },
   "file_extension": ".py",
   "mimetype": "text/x-python",
   "name": "python",
   "nbconvert_exporter": "python",
   "pygments_lexer": "ipython3",
   "version": "3.9.5"
  },
  "toc": {
   "base_numbering": 1,
   "nav_menu": {},
   "number_sections": true,
   "sideBar": true,
   "skip_h1_title": true,
   "title_cell": "Table of Contents",
   "title_sidebar": "Contents",
   "toc_cell": false,
   "toc_position": {
    "height": "calc(100% - 180px)",
    "left": "10px",
    "top": "150px",
    "width": "164.988px"
   },
   "toc_section_display": true,
   "toc_window_display": true
  }
 },
 "nbformat": 4,
 "nbformat_minor": 2
}

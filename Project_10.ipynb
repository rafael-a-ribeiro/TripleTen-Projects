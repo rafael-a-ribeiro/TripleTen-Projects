{
 "cells": [
  {
   "cell_type": "markdown",
   "metadata": {},
   "source": [
    "## Prepare os Dados"
   ]
  },
  {
   "cell_type": "markdown",
   "metadata": {},
   "source": [
    "### Abra os arquivos e estude os dados."
   ]
  },
  {
   "cell_type": "code",
   "execution_count": 1,
   "metadata": {},
   "outputs": [],
   "source": [
    "import pandas as pd\n",
    "from sklearn.metrics import mean_absolute_error\n",
    "from matplotlib import pyplot as plt\n",
    "from sklearn.impute import SimpleImputer\n",
    "import numpy as np\n",
    "from sklearn.linear_model import LinearRegression\n",
    "from sklearn.model_selection import train_test_split\n",
    "from sklearn.metrics import mean_squared_error\n",
    "from sklearn.metrics import f1_score\n",
    "from sklearn.model_selection import TimeSeriesSplit\n",
    "from sklearn.ensemble import RandomForestRegressor"
   ]
  },
  {
   "cell_type": "code",
   "execution_count": 2,
   "metadata": {},
   "outputs": [],
   "source": [
    "df_gold_recovery_train = pd.read_csv('/datasets/gold_recovery_train.csv')\n",
    "df_gold_recovery_test = pd.read_csv('/datasets/gold_recovery_test.csv')\n",
    "df_gold_recovery_full = pd.read_csv('/datasets/gold_recovery_full.csv')"
   ]
  },
  {
   "cell_type": "code",
   "execution_count": 3,
   "metadata": {
    "scrolled": true
   },
   "outputs": [
    {
     "name": "stdout",
     "output_type": "stream",
     "text": [
      "<class 'pandas.core.frame.DataFrame'>\n",
      "RangeIndex: 16860 entries, 0 to 16859\n",
      "Data columns (total 87 columns):\n",
      " #   Column                                              Non-Null Count  Dtype  \n",
      "---  ------                                              --------------  -----  \n",
      " 0   date                                                16860 non-null  object \n",
      " 1   final.output.concentrate_ag                         16788 non-null  float64\n",
      " 2   final.output.concentrate_pb                         16788 non-null  float64\n",
      " 3   final.output.concentrate_sol                        16490 non-null  float64\n",
      " 4   final.output.concentrate_au                         16789 non-null  float64\n",
      " 5   final.output.recovery                               15339 non-null  float64\n",
      " 6   final.output.tail_ag                                16794 non-null  float64\n",
      " 7   final.output.tail_pb                                16677 non-null  float64\n",
      " 8   final.output.tail_sol                               16715 non-null  float64\n",
      " 9   final.output.tail_au                                16794 non-null  float64\n",
      " 10  primary_cleaner.input.sulfate                       15553 non-null  float64\n",
      " 11  primary_cleaner.input.depressant                    15598 non-null  float64\n",
      " 12  primary_cleaner.input.feed_size                     16860 non-null  float64\n",
      " 13  primary_cleaner.input.xanthate                      15875 non-null  float64\n",
      " 14  primary_cleaner.output.concentrate_ag               16778 non-null  float64\n",
      " 15  primary_cleaner.output.concentrate_pb               16502 non-null  float64\n",
      " 16  primary_cleaner.output.concentrate_sol              16224 non-null  float64\n",
      " 17  primary_cleaner.output.concentrate_au               16778 non-null  float64\n",
      " 18  primary_cleaner.output.tail_ag                      16777 non-null  float64\n",
      " 19  primary_cleaner.output.tail_pb                      16761 non-null  float64\n",
      " 20  primary_cleaner.output.tail_sol                     16579 non-null  float64\n",
      " 21  primary_cleaner.output.tail_au                      16777 non-null  float64\n",
      " 22  primary_cleaner.state.floatbank8_a_air              16820 non-null  float64\n",
      " 23  primary_cleaner.state.floatbank8_a_level            16827 non-null  float64\n",
      " 24  primary_cleaner.state.floatbank8_b_air              16820 non-null  float64\n",
      " 25  primary_cleaner.state.floatbank8_b_level            16833 non-null  float64\n",
      " 26  primary_cleaner.state.floatbank8_c_air              16822 non-null  float64\n",
      " 27  primary_cleaner.state.floatbank8_c_level            16833 non-null  float64\n",
      " 28  primary_cleaner.state.floatbank8_d_air              16821 non-null  float64\n",
      " 29  primary_cleaner.state.floatbank8_d_level            16833 non-null  float64\n",
      " 30  rougher.calculation.sulfate_to_au_concentrate       16833 non-null  float64\n",
      " 31  rougher.calculation.floatbank10_sulfate_to_au_feed  16833 non-null  float64\n",
      " 32  rougher.calculation.floatbank11_sulfate_to_au_feed  16833 non-null  float64\n",
      " 33  rougher.calculation.au_pb_ratio                     15618 non-null  float64\n",
      " 34  rougher.input.feed_ag                               16778 non-null  float64\n",
      " 35  rougher.input.feed_pb                               16632 non-null  float64\n",
      " 36  rougher.input.feed_rate                             16347 non-null  float64\n",
      " 37  rougher.input.feed_size                             16443 non-null  float64\n",
      " 38  rougher.input.feed_sol                              16568 non-null  float64\n",
      " 39  rougher.input.feed_au                               16777 non-null  float64\n",
      " 40  rougher.input.floatbank10_sulfate                   15816 non-null  float64\n",
      " 41  rougher.input.floatbank10_xanthate                  16514 non-null  float64\n",
      " 42  rougher.input.floatbank11_sulfate                   16237 non-null  float64\n",
      " 43  rougher.input.floatbank11_xanthate                  14956 non-null  float64\n",
      " 44  rougher.output.concentrate_ag                       16778 non-null  float64\n",
      " 45  rougher.output.concentrate_pb                       16778 non-null  float64\n",
      " 46  rougher.output.concentrate_sol                      16698 non-null  float64\n",
      " 47  rougher.output.concentrate_au                       16778 non-null  float64\n",
      " 48  rougher.output.recovery                             14287 non-null  float64\n",
      " 49  rougher.output.tail_ag                              14610 non-null  float64\n",
      " 50  rougher.output.tail_pb                              16778 non-null  float64\n",
      " 51  rougher.output.tail_sol                             14611 non-null  float64\n",
      " 52  rougher.output.tail_au                              14611 non-null  float64\n",
      " 53  rougher.state.floatbank10_a_air                     16807 non-null  float64\n",
      " 54  rougher.state.floatbank10_a_level                   16807 non-null  float64\n",
      " 55  rougher.state.floatbank10_b_air                     16807 non-null  float64\n",
      " 56  rougher.state.floatbank10_b_level                   16807 non-null  float64\n",
      " 57  rougher.state.floatbank10_c_air                     16807 non-null  float64\n",
      " 58  rougher.state.floatbank10_c_level                   16814 non-null  float64\n",
      " 59  rougher.state.floatbank10_d_air                     16802 non-null  float64\n",
      " 60  rougher.state.floatbank10_d_level                   16809 non-null  float64\n",
      " 61  rougher.state.floatbank10_e_air                     16257 non-null  float64\n",
      " 62  rougher.state.floatbank10_e_level                   16809 non-null  float64\n",
      " 63  rougher.state.floatbank10_f_air                     16802 non-null  float64\n",
      " 64  rougher.state.floatbank10_f_level                   16802 non-null  float64\n",
      " 65  secondary_cleaner.output.tail_ag                    16776 non-null  float64\n",
      " 66  secondary_cleaner.output.tail_pb                    16764 non-null  float64\n",
      " 67  secondary_cleaner.output.tail_sol                   14874 non-null  float64\n",
      " 68  secondary_cleaner.output.tail_au                    16778 non-null  float64\n",
      " 69  secondary_cleaner.state.floatbank2_a_air            16497 non-null  float64\n",
      " 70  secondary_cleaner.state.floatbank2_a_level          16751 non-null  float64\n",
      " 71  secondary_cleaner.state.floatbank2_b_air            16705 non-null  float64\n",
      " 72  secondary_cleaner.state.floatbank2_b_level          16748 non-null  float64\n",
      " 73  secondary_cleaner.state.floatbank3_a_air            16763 non-null  float64\n",
      " 74  secondary_cleaner.state.floatbank3_a_level          16747 non-null  float64\n",
      " 75  secondary_cleaner.state.floatbank3_b_air            16752 non-null  float64\n",
      " 76  secondary_cleaner.state.floatbank3_b_level          16750 non-null  float64\n",
      " 77  secondary_cleaner.state.floatbank4_a_air            16731 non-null  float64\n",
      " 78  secondary_cleaner.state.floatbank4_a_level          16747 non-null  float64\n",
      " 79  secondary_cleaner.state.floatbank4_b_air            16768 non-null  float64\n",
      " 80  secondary_cleaner.state.floatbank4_b_level          16767 non-null  float64\n",
      " 81  secondary_cleaner.state.floatbank5_a_air            16775 non-null  float64\n",
      " 82  secondary_cleaner.state.floatbank5_a_level          16775 non-null  float64\n",
      " 83  secondary_cleaner.state.floatbank5_b_air            16775 non-null  float64\n",
      " 84  secondary_cleaner.state.floatbank5_b_level          16776 non-null  float64\n",
      " 85  secondary_cleaner.state.floatbank6_a_air            16757 non-null  float64\n",
      " 86  secondary_cleaner.state.floatbank6_a_level          16775 non-null  float64\n",
      "dtypes: float64(86), object(1)\n",
      "memory usage: 11.2+ MB\n"
     ]
    }
   ],
   "source": [
    "df_gold_recovery_train.info()"
   ]
  },
  {
   "cell_type": "code",
   "execution_count": 4,
   "metadata": {
    "scrolled": true
   },
   "outputs": [
    {
     "name": "stdout",
     "output_type": "stream",
     "text": [
      "<class 'pandas.core.frame.DataFrame'>\n",
      "RangeIndex: 5856 entries, 0 to 5855\n",
      "Data columns (total 53 columns):\n",
      " #   Column                                      Non-Null Count  Dtype  \n",
      "---  ------                                      --------------  -----  \n",
      " 0   date                                        5856 non-null   object \n",
      " 1   primary_cleaner.input.sulfate               5554 non-null   float64\n",
      " 2   primary_cleaner.input.depressant            5572 non-null   float64\n",
      " 3   primary_cleaner.input.feed_size             5856 non-null   float64\n",
      " 4   primary_cleaner.input.xanthate              5690 non-null   float64\n",
      " 5   primary_cleaner.state.floatbank8_a_air      5840 non-null   float64\n",
      " 6   primary_cleaner.state.floatbank8_a_level    5840 non-null   float64\n",
      " 7   primary_cleaner.state.floatbank8_b_air      5840 non-null   float64\n",
      " 8   primary_cleaner.state.floatbank8_b_level    5840 non-null   float64\n",
      " 9   primary_cleaner.state.floatbank8_c_air      5840 non-null   float64\n",
      " 10  primary_cleaner.state.floatbank8_c_level    5840 non-null   float64\n",
      " 11  primary_cleaner.state.floatbank8_d_air      5840 non-null   float64\n",
      " 12  primary_cleaner.state.floatbank8_d_level    5840 non-null   float64\n",
      " 13  rougher.input.feed_ag                       5840 non-null   float64\n",
      " 14  rougher.input.feed_pb                       5840 non-null   float64\n",
      " 15  rougher.input.feed_rate                     5816 non-null   float64\n",
      " 16  rougher.input.feed_size                     5834 non-null   float64\n",
      " 17  rougher.input.feed_sol                      5789 non-null   float64\n",
      " 18  rougher.input.feed_au                       5840 non-null   float64\n",
      " 19  rougher.input.floatbank10_sulfate           5599 non-null   float64\n",
      " 20  rougher.input.floatbank10_xanthate          5733 non-null   float64\n",
      " 21  rougher.input.floatbank11_sulfate           5801 non-null   float64\n",
      " 22  rougher.input.floatbank11_xanthate          5503 non-null   float64\n",
      " 23  rougher.state.floatbank10_a_air             5839 non-null   float64\n",
      " 24  rougher.state.floatbank10_a_level           5840 non-null   float64\n",
      " 25  rougher.state.floatbank10_b_air             5839 non-null   float64\n",
      " 26  rougher.state.floatbank10_b_level           5840 non-null   float64\n",
      " 27  rougher.state.floatbank10_c_air             5839 non-null   float64\n",
      " 28  rougher.state.floatbank10_c_level           5840 non-null   float64\n",
      " 29  rougher.state.floatbank10_d_air             5839 non-null   float64\n",
      " 30  rougher.state.floatbank10_d_level           5840 non-null   float64\n",
      " 31  rougher.state.floatbank10_e_air             5839 non-null   float64\n",
      " 32  rougher.state.floatbank10_e_level           5840 non-null   float64\n",
      " 33  rougher.state.floatbank10_f_air             5839 non-null   float64\n",
      " 34  rougher.state.floatbank10_f_level           5840 non-null   float64\n",
      " 35  secondary_cleaner.state.floatbank2_a_air    5836 non-null   float64\n",
      " 36  secondary_cleaner.state.floatbank2_a_level  5840 non-null   float64\n",
      " 37  secondary_cleaner.state.floatbank2_b_air    5833 non-null   float64\n",
      " 38  secondary_cleaner.state.floatbank2_b_level  5840 non-null   float64\n",
      " 39  secondary_cleaner.state.floatbank3_a_air    5822 non-null   float64\n",
      " 40  secondary_cleaner.state.floatbank3_a_level  5840 non-null   float64\n",
      " 41  secondary_cleaner.state.floatbank3_b_air    5840 non-null   float64\n",
      " 42  secondary_cleaner.state.floatbank3_b_level  5840 non-null   float64\n",
      " 43  secondary_cleaner.state.floatbank4_a_air    5840 non-null   float64\n",
      " 44  secondary_cleaner.state.floatbank4_a_level  5840 non-null   float64\n",
      " 45  secondary_cleaner.state.floatbank4_b_air    5840 non-null   float64\n",
      " 46  secondary_cleaner.state.floatbank4_b_level  5840 non-null   float64\n",
      " 47  secondary_cleaner.state.floatbank5_a_air    5840 non-null   float64\n",
      " 48  secondary_cleaner.state.floatbank5_a_level  5840 non-null   float64\n",
      " 49  secondary_cleaner.state.floatbank5_b_air    5840 non-null   float64\n",
      " 50  secondary_cleaner.state.floatbank5_b_level  5840 non-null   float64\n",
      " 51  secondary_cleaner.state.floatbank6_a_air    5840 non-null   float64\n",
      " 52  secondary_cleaner.state.floatbank6_a_level  5840 non-null   float64\n",
      "dtypes: float64(52), object(1)\n",
      "memory usage: 2.4+ MB\n"
     ]
    }
   ],
   "source": [
    "df_gold_recovery_test.info()"
   ]
  },
  {
   "cell_type": "code",
   "execution_count": 5,
   "metadata": {
    "scrolled": true
   },
   "outputs": [
    {
     "name": "stdout",
     "output_type": "stream",
     "text": [
      "<class 'pandas.core.frame.DataFrame'>\n",
      "RangeIndex: 22716 entries, 0 to 22715\n",
      "Data columns (total 87 columns):\n",
      " #   Column                                              Non-Null Count  Dtype  \n",
      "---  ------                                              --------------  -----  \n",
      " 0   date                                                22716 non-null  object \n",
      " 1   final.output.concentrate_ag                         22627 non-null  float64\n",
      " 2   final.output.concentrate_pb                         22629 non-null  float64\n",
      " 3   final.output.concentrate_sol                        22331 non-null  float64\n",
      " 4   final.output.concentrate_au                         22630 non-null  float64\n",
      " 5   final.output.recovery                               20753 non-null  float64\n",
      " 6   final.output.tail_ag                                22633 non-null  float64\n",
      " 7   final.output.tail_pb                                22516 non-null  float64\n",
      " 8   final.output.tail_sol                               22445 non-null  float64\n",
      " 9   final.output.tail_au                                22635 non-null  float64\n",
      " 10  primary_cleaner.input.sulfate                       21107 non-null  float64\n",
      " 11  primary_cleaner.input.depressant                    21170 non-null  float64\n",
      " 12  primary_cleaner.input.feed_size                     22716 non-null  float64\n",
      " 13  primary_cleaner.input.xanthate                      21565 non-null  float64\n",
      " 14  primary_cleaner.output.concentrate_ag               22618 non-null  float64\n",
      " 15  primary_cleaner.output.concentrate_pb               22268 non-null  float64\n",
      " 16  primary_cleaner.output.concentrate_sol              21918 non-null  float64\n",
      " 17  primary_cleaner.output.concentrate_au               22618 non-null  float64\n",
      " 18  primary_cleaner.output.tail_ag                      22614 non-null  float64\n",
      " 19  primary_cleaner.output.tail_pb                      22594 non-null  float64\n",
      " 20  primary_cleaner.output.tail_sol                     22365 non-null  float64\n",
      " 21  primary_cleaner.output.tail_au                      22617 non-null  float64\n",
      " 22  primary_cleaner.state.floatbank8_a_air              22660 non-null  float64\n",
      " 23  primary_cleaner.state.floatbank8_a_level            22667 non-null  float64\n",
      " 24  primary_cleaner.state.floatbank8_b_air              22660 non-null  float64\n",
      " 25  primary_cleaner.state.floatbank8_b_level            22673 non-null  float64\n",
      " 26  primary_cleaner.state.floatbank8_c_air              22662 non-null  float64\n",
      " 27  primary_cleaner.state.floatbank8_c_level            22673 non-null  float64\n",
      " 28  primary_cleaner.state.floatbank8_d_air              22661 non-null  float64\n",
      " 29  primary_cleaner.state.floatbank8_d_level            22673 non-null  float64\n",
      " 30  rougher.calculation.sulfate_to_au_concentrate       22672 non-null  float64\n",
      " 31  rougher.calculation.floatbank10_sulfate_to_au_feed  22672 non-null  float64\n",
      " 32  rougher.calculation.floatbank11_sulfate_to_au_feed  22672 non-null  float64\n",
      " 33  rougher.calculation.au_pb_ratio                     21089 non-null  float64\n",
      " 34  rougher.input.feed_ag                               22618 non-null  float64\n",
      " 35  rougher.input.feed_pb                               22472 non-null  float64\n",
      " 36  rougher.input.feed_rate                             22163 non-null  float64\n",
      " 37  rougher.input.feed_size                             22277 non-null  float64\n",
      " 38  rougher.input.feed_sol                              22357 non-null  float64\n",
      " 39  rougher.input.feed_au                               22617 non-null  float64\n",
      " 40  rougher.input.floatbank10_sulfate                   21415 non-null  float64\n",
      " 41  rougher.input.floatbank10_xanthate                  22247 non-null  float64\n",
      " 42  rougher.input.floatbank11_sulfate                   22038 non-null  float64\n",
      " 43  rougher.input.floatbank11_xanthate                  20459 non-null  float64\n",
      " 44  rougher.output.concentrate_ag                       22618 non-null  float64\n",
      " 45  rougher.output.concentrate_pb                       22618 non-null  float64\n",
      " 46  rougher.output.concentrate_sol                      22526 non-null  float64\n",
      " 47  rougher.output.concentrate_au                       22618 non-null  float64\n",
      " 48  rougher.output.recovery                             19597 non-null  float64\n",
      " 49  rougher.output.tail_ag                              19979 non-null  float64\n",
      " 50  rougher.output.tail_pb                              22618 non-null  float64\n",
      " 51  rougher.output.tail_sol                             19980 non-null  float64\n",
      " 52  rougher.output.tail_au                              19980 non-null  float64\n",
      " 53  rougher.state.floatbank10_a_air                     22646 non-null  float64\n",
      " 54  rougher.state.floatbank10_a_level                   22647 non-null  float64\n",
      " 55  rougher.state.floatbank10_b_air                     22646 non-null  float64\n",
      " 56  rougher.state.floatbank10_b_level                   22647 non-null  float64\n",
      " 57  rougher.state.floatbank10_c_air                     22646 non-null  float64\n",
      " 58  rougher.state.floatbank10_c_level                   22654 non-null  float64\n",
      " 59  rougher.state.floatbank10_d_air                     22641 non-null  float64\n",
      " 60  rougher.state.floatbank10_d_level                   22649 non-null  float64\n",
      " 61  rougher.state.floatbank10_e_air                     22096 non-null  float64\n",
      " 62  rougher.state.floatbank10_e_level                   22649 non-null  float64\n",
      " 63  rougher.state.floatbank10_f_air                     22641 non-null  float64\n",
      " 64  rougher.state.floatbank10_f_level                   22642 non-null  float64\n",
      " 65  secondary_cleaner.output.tail_ag                    22616 non-null  float64\n",
      " 66  secondary_cleaner.output.tail_pb                    22600 non-null  float64\n",
      " 67  secondary_cleaner.output.tail_sol                   20501 non-null  float64\n",
      " 68  secondary_cleaner.output.tail_au                    22618 non-null  float64\n",
      " 69  secondary_cleaner.state.floatbank2_a_air            22333 non-null  float64\n",
      " 70  secondary_cleaner.state.floatbank2_a_level          22591 non-null  float64\n",
      " 71  secondary_cleaner.state.floatbank2_b_air            22538 non-null  float64\n",
      " 72  secondary_cleaner.state.floatbank2_b_level          22588 non-null  float64\n",
      " 73  secondary_cleaner.state.floatbank3_a_air            22585 non-null  float64\n",
      " 74  secondary_cleaner.state.floatbank3_a_level          22587 non-null  float64\n",
      " 75  secondary_cleaner.state.floatbank3_b_air            22592 non-null  float64\n",
      " 76  secondary_cleaner.state.floatbank3_b_level          22590 non-null  float64\n",
      " 77  secondary_cleaner.state.floatbank4_a_air            22571 non-null  float64\n",
      " 78  secondary_cleaner.state.floatbank4_a_level          22587 non-null  float64\n",
      " 79  secondary_cleaner.state.floatbank4_b_air            22608 non-null  float64\n",
      " 80  secondary_cleaner.state.floatbank4_b_level          22607 non-null  float64\n",
      " 81  secondary_cleaner.state.floatbank5_a_air            22615 non-null  float64\n",
      " 82  secondary_cleaner.state.floatbank5_a_level          22615 non-null  float64\n",
      " 83  secondary_cleaner.state.floatbank5_b_air            22615 non-null  float64\n",
      " 84  secondary_cleaner.state.floatbank5_b_level          22616 non-null  float64\n",
      " 85  secondary_cleaner.state.floatbank6_a_air            22597 non-null  float64\n",
      " 86  secondary_cleaner.state.floatbank6_a_level          22615 non-null  float64\n",
      "dtypes: float64(86), object(1)\n",
      "memory usage: 15.1+ MB\n"
     ]
    }
   ],
   "source": [
    "df_gold_recovery_full.info()"
   ]
  },
  {
   "cell_type": "code",
   "execution_count": 6,
   "metadata": {},
   "outputs": [
    {
     "data": {
      "text/plain": [
       "0"
      ]
     },
     "execution_count": 6,
     "metadata": {},
     "output_type": "execute_result"
    }
   ],
   "source": [
    "# Como queremos saber prever os valores de rougher.output.recovery e final.output.recovery, \n",
    "# as linhas onde ambas as colunas são nulas não nos interessam.\n",
    "# as outras colunas podem ter valores nulos pois podem não fazer parte de algum tipo de processo.\n",
    "\n",
    "df_gold_recovery_train = df_gold_recovery_train.dropna(subset=['rougher.output.recovery', 'final.output.recovery'])\n",
    "df_gold_recovery_train['final.output.recovery'].isna().sum()"
   ]
  },
  {
   "cell_type": "markdown",
   "metadata": {},
   "source": [
    "### Verifique se a quantidade retirada foi calculada corretamente. Usando o conjunto de treinamento, calcule a quantidade retirada para a característica rougher.output.recovery. Encontre o EAM entre seus cálculos e os valores das características. Forneça resultados."
   ]
  },
  {
   "cell_type": "code",
   "execution_count": 7,
   "metadata": {},
   "outputs": [
    {
     "name": "stdout",
     "output_type": "stream",
     "text": [
      "0\n",
      "-------------------\n",
      "0\n",
      "-------------------\n",
      "0\n"
     ]
    }
   ],
   "source": [
    "df_gold_recovery_train['rougher.output.concentrate_au'].fillna(df_gold_recovery_train['rougher.output.concentrate_au'].median(), inplace=True)\n",
    "df_gold_recovery_train['final.output.concentrate_au'].fillna(df_gold_recovery_train['final.output.concentrate_au'].median(), inplace=True)\n",
    "df_gold_recovery_train['rougher.output.tail_au'].fillna(df_gold_recovery_train['rougher.output.tail_au'].median(), inplace=True)\n",
    "\n",
    "print(df_gold_recovery_train['rougher.output.concentrate_au'].isna().sum())\n",
    "print('-------------------')\n",
    "print(df_gold_recovery_train['final.output.concentrate_au'].isna().sum())\n",
    "print('-------------------')\n",
    "print(df_gold_recovery_train['rougher.output.tail_au'].isna().sum())"
   ]
  },
  {
   "cell_type": "code",
   "execution_count": 8,
   "metadata": {},
   "outputs": [
    {
     "name": "stderr",
     "output_type": "stream",
     "text": [
      "/tmp/ipykernel_43/1074618453.py:6: SettingWithCopyWarning: \n",
      "A value is trying to be set on a copy of a slice from a DataFrame.\n",
      "Try using .loc[row_indexer,col_indexer] = value instead\n",
      "\n",
      "See the caveats in the documentation: https://pandas.pydata.org/pandas-docs/stable/user_guide/indexing.html#returning-a-view-versus-a-copy\n",
      "  df_t_sum['sum'] = df_t_sum[r_cols].sum(axis=1)\n"
     ]
    },
    {
     "data": {
      "text/plain": [
       "12.65469814908878"
      ]
     },
     "execution_count": 8,
     "metadata": {},
     "output_type": "execute_result"
    }
   ],
   "source": [
    "# Calcular o erro médio do calculo com a coluna rougher.output.recovery\n",
    "\n",
    "r_cols = [col for col in df_gold_recovery_train.columns if 'rougher.output' in col]\n",
    "df_t_sum = df_gold_recovery_train[r_cols]\n",
    "r_cols.remove('rougher.output.recovery')\n",
    "df_t_sum['sum'] = df_t_sum[r_cols].sum(axis=1)\n",
    "df_t_sum[['rougher.output.recovery', 'sum']]\n",
    "mean_absolute_error(df_t_sum['sum'], df_t_sum['rougher.output.recovery'])"
   ]
  },
  {
   "cell_type": "markdown",
   "metadata": {},
   "source": [
    "Ao usar a soma das características e comparar com a coluna 'rougher.output.recovery' temos um erro médio de 12.65%."
   ]
  },
  {
   "cell_type": "markdown",
   "metadata": {},
   "source": [
    "### Analise as características não disponíveis no conjunto de teste. Quais são esses parâmetros? Qual é o tipo deles?"
   ]
  },
  {
   "cell_type": "code",
   "execution_count": 9,
   "metadata": {
    "scrolled": true
   },
   "outputs": [
    {
     "data": {
      "text/plain": [
       "{'final.output.concentrate_ag',\n",
       " 'final.output.concentrate_au',\n",
       " 'final.output.concentrate_pb',\n",
       " 'final.output.concentrate_sol',\n",
       " 'final.output.recovery',\n",
       " 'final.output.tail_ag',\n",
       " 'final.output.tail_au',\n",
       " 'final.output.tail_pb',\n",
       " 'final.output.tail_sol',\n",
       " 'primary_cleaner.output.concentrate_ag',\n",
       " 'primary_cleaner.output.concentrate_au',\n",
       " 'primary_cleaner.output.concentrate_pb',\n",
       " 'primary_cleaner.output.concentrate_sol',\n",
       " 'primary_cleaner.output.tail_ag',\n",
       " 'primary_cleaner.output.tail_au',\n",
       " 'primary_cleaner.output.tail_pb',\n",
       " 'primary_cleaner.output.tail_sol',\n",
       " 'rougher.calculation.au_pb_ratio',\n",
       " 'rougher.calculation.floatbank10_sulfate_to_au_feed',\n",
       " 'rougher.calculation.floatbank11_sulfate_to_au_feed',\n",
       " 'rougher.calculation.sulfate_to_au_concentrate',\n",
       " 'rougher.output.concentrate_ag',\n",
       " 'rougher.output.concentrate_au',\n",
       " 'rougher.output.concentrate_pb',\n",
       " 'rougher.output.concentrate_sol',\n",
       " 'rougher.output.recovery',\n",
       " 'rougher.output.tail_ag',\n",
       " 'rougher.output.tail_au',\n",
       " 'rougher.output.tail_pb',\n",
       " 'rougher.output.tail_sol',\n",
       " 'secondary_cleaner.output.tail_ag',\n",
       " 'secondary_cleaner.output.tail_au',\n",
       " 'secondary_cleaner.output.tail_pb',\n",
       " 'secondary_cleaner.output.tail_sol'}"
      ]
     },
     "execution_count": 9,
     "metadata": {},
     "output_type": "execute_result"
    }
   ],
   "source": [
    "# Verificando as colunas que estão no conjunto de treino, mas não estão no de teste\n",
    "set(df_gold_recovery_train.columns).difference(df_gold_recovery_test.columns)"
   ]
  },
  {
   "cell_type": "markdown",
   "metadata": {},
   "source": [
    "As colunas presentes em gold_recovery_train são colunas que possuem as saídas de cada fase, essas características podem causar data leak no modelo."
   ]
  },
  {
   "cell_type": "markdown",
   "metadata": {},
   "source": [
    "### Faça o pré-processamento de dados."
   ]
  },
  {
   "cell_type": "code",
   "execution_count": 10,
   "metadata": {},
   "outputs": [
    {
     "data": {
      "text/plain": [
       "53"
      ]
     },
     "execution_count": 10,
     "metadata": {},
     "output_type": "execute_result"
    }
   ],
   "source": [
    "# Verifica quais colunas são comuns aos conjuntos de treino e de teste\n",
    "\n",
    "l_cols = []\n",
    "\n",
    "for col in df_gold_recovery_train:\n",
    "    if col in df_gold_recovery_test:\n",
    "        l_cols.append(col)\n",
    "        \n",
    "len(l_cols)"
   ]
  },
  {
   "cell_type": "code",
   "execution_count": 11,
   "metadata": {},
   "outputs": [
    {
     "data": {
      "text/plain": [
       "120522"
      ]
     },
     "execution_count": 11,
     "metadata": {},
     "output_type": "execute_result"
    }
   ],
   "source": [
    "# Treina um imputer para não ter diferença entre o preeenchimento dos dados nulos no conjunto de treino e de teste\n",
    "\n",
    "impute = SimpleImputer(strategy='median')\n",
    "X = impute.fit_transform(df_gold_recovery_train.loc[:, l_cols[1:]])\n",
    "\n",
    "df_pp = pd.concat([df_gold_recovery_train['date'], pd.DataFrame(X)], axis=1)\n",
    "df_pp.columns = df_gold_recovery_train.loc[:, l_cols].columns\n",
    "df_pp.isna().sum().sum()"
   ]
  },
  {
   "cell_type": "code",
   "execution_count": 12,
   "metadata": {},
   "outputs": [
    {
     "data": {
      "text/plain": [
       "0"
      ]
     },
     "execution_count": 12,
     "metadata": {},
     "output_type": "execute_result"
    }
   ],
   "source": [
    "# Preenche os dados no conjunto de teste\n",
    "\n",
    "X = impute.transform(df_gold_recovery_test.iloc[:, 1:])\n",
    "\n",
    "df_test_pp = pd.concat([df_gold_recovery_test['date'], pd.DataFrame(X)], axis=1)\n",
    "df_test_pp.columns = df_gold_recovery_test.loc[:, l_cols].columns\n",
    "df_test_pp.isna().sum().sum()"
   ]
  },
  {
   "cell_type": "markdown",
   "metadata": {},
   "source": [
    "## Analise os dados"
   ]
  },
  {
   "cell_type": "markdown",
   "metadata": {},
   "source": [
    "### Observe como a concentração de metais (Au, Ag, Pb) muda dependendo do estágio de purificação."
   ]
  },
  {
   "cell_type": "code",
   "execution_count": 13,
   "metadata": {},
   "outputs": [],
   "source": [
    "# Estágios Feed = Inicial, Rougher = Flotação, primary_cleaner = Purificação Primária, \n",
    "# secondary_cleaner = purificação secundária, final = característica finais\n",
    "\n",
    "def build_metal_concentration_boxplot(df, metal):\n",
    "    metals = {'au':'Ouro', 'ag':'Prata', 'pb':'Chumbo'}\n",
    "    cols = ['rougher.input.feed_', 'rougher.output.concentrate_',\n",
    "              'primary_cleaner.output.concentrate_', 'final.output.concentrate_']\n",
    "    cols = [col + metal for col in cols]\n",
    "    fig, ax = plt.subplots(figsize =(7, 5))\n",
    "    plt.boxplot(df[cols])\n",
    "    ticks, labels = plt.xticks()\n",
    "    m = metals.get(metal)\n",
    "    str = 'Concentração de ' + m\n",
    "    plt.title(str)\n",
    "    plt.xticks(ticks, labels=['Inicial', 'Flotação', 'Primeira Purificação', 'Final'])\n",
    " \n",
    "    # show plot\n",
    "    plt.show()\n",
    "\n"
   ]
  },
  {
   "cell_type": "code",
   "execution_count": 14,
   "metadata": {},
   "outputs": [],
   "source": [
    "# Preencher os valores nulos com a mediana\n",
    "df_gold_recovery_train = df_gold_recovery_train.fillna(df_gold_recovery_train.median())"
   ]
  },
  {
   "cell_type": "code",
   "execution_count": 15,
   "metadata": {},
   "outputs": [],
   "source": [
    "def remove_outliers(df, col):\n",
    "    Q1 = df[col].quantile(0.25)\n",
    "    Q3 = df[col].quantile(0.75)\n",
    "    IQR = Q3 - Q1\n",
    "    lower_bound = Q1 - 1.5 * IQR\n",
    "    upper_bound = Q3 + 1.5 * IQR\n",
    "    df = df[(df[col] >= lower_bound) & (df[col] <= upper_bound)]\n",
    "    return df"
   ]
  },
  {
   "cell_type": "markdown",
   "metadata": {},
   "source": [
    "#### Ouro"
   ]
  },
  {
   "cell_type": "code",
   "execution_count": 16,
   "metadata": {},
   "outputs": [
    {
     "data": {
      "image/png": "[encoded data removed]",
      "text/plain": [
       "<Figure size 504x360 with 1 Axes>"
      ]
     },
     "metadata": {
      "needs_background": "light"
     },
     "output_type": "display_data"
    }
   ],
   "source": [
    "# Concentração de Ouro\n",
    "build_metal_concentration_boxplot(df_gold_recovery_train, 'au')"
   ]
  },
  {
   "cell_type": "markdown",
   "metadata": {},
   "source": [
    "A presença de outliers de Ouro vai aumentando conforme avançamos nas fases de purificação, especialmente outliers inferiores.<br><br>\n",
    "Removendo os outliers da fase inicial verificaremos se eles estão influenciando na produção de outliers das outras fases"
   ]
  },
  {
   "cell_type": "code",
   "execution_count": 17,
   "metadata": {},
   "outputs": [],
   "source": [
    "df_gold_recovery_train_no_outlier = remove_outliers(df_gold_recovery_train, 'rougher.input.feed_au')"
   ]
  },
  {
   "cell_type": "code",
   "execution_count": 18,
   "metadata": {},
   "outputs": [
    {
     "data": {
      "image/png": "[encoded data removed]",
      "text/plain": [
       "<Figure size 504x360 with 1 Axes>"
      ]
     },
     "metadata": {
      "needs_background": "light"
     },
     "output_type": "display_data"
    }
   ],
   "source": [
    "build_metal_concentration_boxplot(df_gold_recovery_train_no_outlier, 'au')"
   ]
  },
  {
   "cell_type": "markdown",
   "metadata": {},
   "source": [
    "Ao remover os outliers da fase inicial verificamos que não há impacto na presença de outliers em outras fase, portanto deixaremos os outliers visto que não interfere nos resultados e teremos mais dados para trabalhar."
   ]
  },
  {
   "cell_type": "markdown",
   "metadata": {},
   "source": [
    "#### Prata"
   ]
  },
  {
   "cell_type": "code",
   "execution_count": 19,
   "metadata": {
    "scrolled": true
   },
   "outputs": [
    {
     "data": {
      "image/png": "[encoded data removed]",
      "text/plain": [
       "<Figure size 504x360 with 1 Axes>"
      ]
     },
     "metadata": {
      "needs_background": "light"
     },
     "output_type": "display_data"
    }
   ],
   "source": [
    "# Concentração de Prata\n",
    "build_metal_concentration_boxplot(df_gold_recovery_train, 'ag')"
   ]
  },
  {
   "cell_type": "markdown",
   "metadata": {},
   "source": [
    "A presença de outliers de Prata está mais distribuída que na amostra de Ouro, com leve predominância nos outliers inferiores, com exceção da última fase que possui mais outliers superiores.<br><br>\n",
    "Removendo os outliers da fase inicial verificaremos se eles estão influenciando na produção de outliers das outras fases"
   ]
  },
  {
   "cell_type": "code",
   "execution_count": 20,
   "metadata": {},
   "outputs": [],
   "source": [
    "df_gold_recovery_train_no_outlier = remove_outliers(df_gold_recovery_train, 'rougher.input.feed_ag')"
   ]
  },
  {
   "cell_type": "code",
   "execution_count": 21,
   "metadata": {
    "scrolled": true
   },
   "outputs": [
    {
     "data": {
      "image/png": "[encoded data removed]",
      "text/plain": [
       "<Figure size 504x360 with 1 Axes>"
      ]
     },
     "metadata": {
      "needs_background": "light"
     },
     "output_type": "display_data"
    }
   ],
   "source": [
    "build_metal_concentration_boxplot(df_gold_recovery_train_no_outlier, 'ag')"
   ]
  },
  {
   "cell_type": "markdown",
   "metadata": {},
   "source": [
    "Ao remover os outliers da fase inicial verificamos que não há impacto na presença de outliers em outras fase, portanto deixaremos os outliers visto que não interfere nos resultados e teremos mais dados para trabalhar."
   ]
  },
  {
   "cell_type": "markdown",
   "metadata": {},
   "source": [
    "#### Chumbo"
   ]
  },
  {
   "cell_type": "code",
   "execution_count": 22,
   "metadata": {},
   "outputs": [
    {
     "data": {
      "image/png": "[encoded data removed]",
      "text/plain": [
       "<Figure size 504x360 with 1 Axes>"
      ]
     },
     "metadata": {
      "needs_background": "light"
     },
     "output_type": "display_data"
    }
   ],
   "source": [
    "# Concentração de Chumbo\n",
    "build_metal_concentration_boxplot(df_gold_recovery_train, 'pb')"
   ]
  },
  {
   "cell_type": "markdown",
   "metadata": {},
   "source": [
    "A presença de outliers de Chumbo está mais distribuída que na amostra de Ouro, com predominância dos outliers inferiores, em todas as fases.<br><br>\n",
    "Removendo os outliers da fase inicial verificaremos se eles estão influenciando na produção de outliers das outras fases"
   ]
  },
  {
   "cell_type": "code",
   "execution_count": 23,
   "metadata": {},
   "outputs": [],
   "source": [
    "df_gold_recovery_train_no_outlier = remove_outliers(df_gold_recovery_train, 'rougher.input.feed_pb')"
   ]
  },
  {
   "cell_type": "code",
   "execution_count": 24,
   "metadata": {},
   "outputs": [
    {
     "data": {
      "image/png": "[encoded data removed]",
      "text/plain": [
       "<Figure size 504x360 with 1 Axes>"
      ]
     },
     "metadata": {
      "needs_background": "light"
     },
     "output_type": "display_data"
    }
   ],
   "source": [
    "build_metal_concentration_boxplot(df_gold_recovery_train_no_outlier, 'pb')"
   ]
  },
  {
   "cell_type": "markdown",
   "metadata": {},
   "source": [
    "Ao remover os outliers da fase inicial verificamos que não há impacto na presença de outliers em outras fase, portanto deixaremos os outliers visto que não interfere nos resultados e teremos mais dados para trabalhar."
   ]
  },
  {
   "cell_type": "markdown",
   "metadata": {},
   "source": [
    "### Compare as distribuições de tamanho de partícula de minério no conjunto de treinamento e no conjunto de teste. Se as distribuições variarem significativamente, a avaliação do modelo estará incorreta."
   ]
  },
  {
   "cell_type": "code",
   "execution_count": 25,
   "metadata": {},
   "outputs": [
    {
     "data": {
      "image/png": "[encoded data removed]",
      "text/plain": [
       "<Figure size 936x288 with 1 Axes>"
      ]
     },
     "metadata": {
      "needs_background": "light"
     },
     "output_type": "display_data"
    }
   ],
   "source": [
    "plt.figure(figsize=(13,4))\n",
    "plt.hist(df_gold_recovery_test['rougher.input.feed_size'], 100, color='green')\n",
    "plt.show()"
   ]
  },
  {
   "cell_type": "code",
   "execution_count": 26,
   "metadata": {},
   "outputs": [
    {
     "data": {
      "image/png": "[encoded data removed]",
      "text/plain": [
       "<Figure size 936x288 with 1 Axes>"
      ]
     },
     "metadata": {
      "needs_background": "light"
     },
     "output_type": "display_data"
    }
   ],
   "source": [
    "plt.figure(figsize=(13,4))\n",
    "plt.hist(df_gold_recovery_train['rougher.input.feed_size'], 100, color='green')\n",
    "plt.show()"
   ]
  },
  {
   "cell_type": "markdown",
   "metadata": {},
   "source": [
    "A distribuição nos dois conjuntos não varia significativamente portanto a avaliação do modelo não parece estar incorreta"
   ]
  },
  {
   "cell_type": "markdown",
   "metadata": {},
   "source": [
    "### Considere as concentrações totais de todas as substâncias em diferentes estágios: minério bruto, concentrado bruto e concentrado final. Você percebe algum valor anormal na distribuição total? Se você fizer isso, vale a pena remover esses valores de ambas as amostras? Descreva os resultados e elimine as anomalias."
   ]
  },
  {
   "cell_type": "code",
   "execution_count": 27,
   "metadata": {},
   "outputs": [],
   "source": [
    "def build_substance_concentration_distribution(df):\n",
    "    \n",
    "    # Utilizaremos as colunas que têm os valores de minério bruto, concentrado bruto e concentrado final\n",
    "    cols = ['rougher.input.feed_', 'rougher.output.concentrate_', 'final.output.concentrate_']\n",
    "    \n",
    "    # Dicionário para utilizar os metais presentes e poder concatenar para formar os nomes das colunas\n",
    "    substances = {'Ouro':'au', 'Prata':'ag', 'Chumbo':'pb'}\n",
    "    \n",
    "    # Ciclo para percorrer todas as colunas \n",
    "    for substance, symbol in substances.items():\n",
    "        newcols = []\n",
    "        for col in cols:\n",
    "            newcols.append(col+symbol)\n",
    "        \n",
    "        # Plotando o gráfico\n",
    "        fig, ax = plt.subplots(figsize =(7, 5))\n",
    "        plt.title(f'Concentração de {substance}')\n",
    "        plt.boxplot(df[newcols])\n",
    "        ticks, labels = plt.xticks()\n",
    "        plt.xticks(ticks, labels=['Minério Bruto', 'Concentrado Bruto', 'Concentrado Final'])\n",
    "\n",
    "        plt.show()"
   ]
  },
  {
   "cell_type": "code",
   "execution_count": 28,
   "metadata": {},
   "outputs": [
    {
     "data": {
      "image/png": "[encoded data removed]",
      "text/plain": [
       "<Figure size 504x360 with 1 Axes>"
      ]
     },
     "metadata": {
      "needs_background": "light"
     },
     "output_type": "display_data"
    },
    {
     "data": {
      "image/png": "[encoded data removed]",
      "text/plain": [
       "<Figure size 504x360 with 1 Axes>"
      ]
     },
     "metadata": {
      "needs_background": "light"
     },
     "output_type": "display_data"
    },
    {
     "data": {
      "image/png": "[encoded data removed]",
      "text/plain": [
       "<Figure size 504x360 with 1 Axes>"
      ]
     },
     "metadata": {
      "needs_background": "light"
     },
     "output_type": "display_data"
    }
   ],
   "source": [
    "build_substance_concentration_distribution(df_gold_recovery_train)"
   ]
  },
  {
   "cell_type": "code",
   "execution_count": 30,
   "metadata": {},
   "outputs": [],
   "source": [
    "# Preencher os valores nulos do Dataframe Completo com a mediana\n",
    "newcols = ['rougher.input.feed_', 'rougher.output.concentrate_', 'final.output.concentrate_']\n",
    "metals = ['au', 'ag', 'pb']\n",
    "\n",
    "for col in newcols:\n",
    "    for metal in metals:\n",
    "        df_gold_recovery_full[col+metal].fillna(df_gold_recovery_full[col+metal].median(), inplace=True)"
   ]
  },
  {
   "cell_type": "code",
   "execution_count": 31,
   "metadata": {},
   "outputs": [
    {
     "data": {
      "image/png": "[encoded data removed]",
      "text/plain": [
       "<Figure size 504x360 with 1 Axes>"
      ]
     },
     "metadata": {
      "needs_background": "light"
     },
     "output_type": "display_data"
    },
    {
     "data": {
      "image/png": "[encoded data removed]",
      "text/plain": [
       "<Figure size 504x360 with 1 Axes>"
      ]
     },
     "metadata": {
      "needs_background": "light"
     },
     "output_type": "display_data"
    },
    {
     "data": {
      "image/png": "[encoded data removed]",
      "text/plain": [
       "<Figure size 504x360 with 1 Axes>"
      ]
     },
     "metadata": {
      "needs_background": "light"
     },
     "output_type": "display_data"
    }
   ],
   "source": [
    "build_substance_concentration_distribution(df_gold_recovery_full)"
   ]
  },
  {
   "cell_type": "markdown",
   "metadata": {},
   "source": [
    "Considerando o exposto no item 2.1, não removeremos as anomalias. Mas cabe notar que o Ouro e o Chumbo tem a tendência de possuir mais outliers inferiores e a prata mais outliers superiores."
   ]
  },
  {
   "cell_type": "markdown",
   "metadata": {},
   "source": [
    "## Construir modelo"
   ]
  },
  {
   "cell_type": "markdown",
   "metadata": {},
   "source": [
    "### Escreva uma função para calcular o valor final sMAPE."
   ]
  },
  {
   "cell_type": "markdown",
   "metadata": {},
   "source": [
    "### Treine modelos diferentes. Avalie-os usando validação cruzada. Escolha o melhor modelo e teste-o usando a amostra de teste. Forneça resultados.\n",
    "Use estas fórmulas para métricas de avaliação:<br>\n",
    "<img src=\"sMAPE_formula.png\">\n",
    "<br>\n",
    "<img src=\"sMAP_final.png\">\n"
   ]
  },
  {
   "cell_type": "markdown",
   "metadata": {},
   "source": [
    "#### Preparação dos dados para construção dos modelos"
   ]
  },
  {
   "cell_type": "code",
   "execution_count": 32,
   "metadata": {},
   "outputs": [],
   "source": [
    "# Features do treinamento para prever o 'final.output.recovery'\n",
    "columns_final_features = df_gold_recovery_test.columns.drop('date')\n",
    "\n",
    "# Feature do treinamento para prever o 'rougher.output.recovery'\n",
    "columns_rougher_features = [col for col in df_gold_recovery_train.columns if 'rougher.input' in col]"
   ]
  },
  {
   "cell_type": "code",
   "execution_count": 61,
   "metadata": {},
   "outputs": [],
   "source": [
    "def sMAPE(predictions, target):\n",
    "    predictions = pd.Series(predictions)\n",
    "    n = len(predictions)\n",
    "    summatory=0\n",
    "    for i in range(0, n):\n",
    "        summatory += (abs(target.iloc[i]-predictions.iloc[i]))/((abs(target.iloc[i]+predictions.iloc[i]))/2)\n",
    "    value = (1/n)*summatory\n",
    "    \n",
    "    return value"
   ]
  },
  {
   "cell_type": "code",
   "execution_count": 34,
   "metadata": {},
   "outputs": [],
   "source": [
    "def final_sMAP(rougher_sMAPE, final_sMAPE):\n",
    "    return (0.25*rougher_sMAPE)+(0.75*final_sMAPE)"
   ]
  },
  {
   "cell_type": "code",
   "execution_count": 35,
   "metadata": {},
   "outputs": [],
   "source": [
    "# Construir um Dataframe com o target do dataframe df_gold_recovery_test utilizando o df full\n",
    "\n",
    "df_merged = pd.merge(df_gold_recovery_full, df_gold_recovery_test, left_on='date', right_on='date', how='inner')\n",
    "df_gold_recovery_test_with_target = df_gold_recovery_full[df_gold_recovery_full['date'].isin(df_merged['date'])]\n",
    "\n",
    "test_new_index = list(columns_final_features)\n",
    "test_new_index.append('rougher.output.recovery')\n",
    "test_new_index.append('final.output.recovery')\n",
    "\n",
    "df_gold_recovery_test_with_target = df_gold_recovery_test_with_target[test_new_index]\n",
    "df_gold_recovery_test_with_target.index = df_gold_recovery_test.index"
   ]
  },
  {
   "cell_type": "code",
   "execution_count": 36,
   "metadata": {},
   "outputs": [
    {
     "data": {
      "text/plain": [
       "0"
      ]
     },
     "execution_count": 36,
     "metadata": {},
     "output_type": "execute_result"
    }
   ],
   "source": [
    "# Preencher os valores nulos do target 'rougher.output.recovery' de df_gold_recovery_test\n",
    "x = df_gold_recovery_test_with_target['rougher.output.recovery']\n",
    "df_gold_recovery_test_with_target['rougher.output.recovery'] = x.fillna(x.median())\n",
    "df_gold_recovery_test_with_target['rougher.output.recovery'].isna().sum()"
   ]
  },
  {
   "cell_type": "code",
   "execution_count": 37,
   "metadata": {},
   "outputs": [],
   "source": [
    "# Excluir as linhas sem o target 'final.output.recovery'\n",
    "df_gold_recovery_test_with_target.dropna(subset=['final.output.recovery'], inplace=True)"
   ]
  },
  {
   "cell_type": "code",
   "execution_count": 38,
   "metadata": {},
   "outputs": [
    {
     "name": "stderr",
     "output_type": "stream",
     "text": [
      "/opt/conda/lib/python3.9/site-packages/pandas/core/frame.py:3191: SettingWithCopyWarning: \n",
      "A value is trying to be set on a copy of a slice from a DataFrame.\n",
      "Try using .loc[row_indexer,col_indexer] = value instead\n",
      "\n",
      "See the caveats in the documentation: https://pandas.pydata.org/pandas-docs/stable/user_guide/indexing.html#returning-a-view-versus-a-copy\n",
      "  self[k1] = value[k2]\n"
     ]
    }
   ],
   "source": [
    "# conjunto de teste preenchido e agora com target\n",
    "df_test_pp_with_target = df_test_pp.iloc[df_gold_recovery_test_with_target.index]\n",
    "df_test_pp_with_target[['rougher.output.recovery', 'final.output.recovery']] = df_gold_recovery_test_with_target[['rougher.output.recovery', 'final.output.recovery']]"
   ]
  },
  {
   "cell_type": "markdown",
   "metadata": {},
   "source": [
    "#### Funções para Validação Cruzada"
   ]
  },
  {
   "cell_type": "code",
   "execution_count": 39,
   "metadata": {},
   "outputs": [],
   "source": [
    "#Função para fazer validação cruzada com série temporal\n",
    "def sMAPE_cross_validation_time(df, features, target):\n",
    "    tscv = TimeSeriesSplit()\n",
    "    sMAPEs = []\n",
    "    models = []\n",
    "    \n",
    "    for train_indexes, valid_indexes in tscv.split(df):\n",
    "        features_train = features.iloc[train_indexes] \n",
    "        features_valid = features.iloc[valid_indexes]\n",
    "        target_train = target.iloc[train_indexes]\n",
    "        target_valid = target.iloc[valid_indexes]\n",
    "\n",
    "        \n",
    "        model = LinearRegression()\n",
    "        model.fit(features_train, target_train)\n",
    "        predictions_valid = model.predict(features_valid)\n",
    "        \n",
    "        sMAPEs.append(sMAPE(predictions_valid, target_valid))\n",
    "        models.append(model)\n",
    "    \n",
    "    return models, sMAPEs\n",
    "        "
   ]
  },
  {
   "cell_type": "code",
   "execution_count": 54,
   "metadata": {},
   "outputs": [],
   "source": [
    "def sMAPE_cross_validation_time_random_forest(df, features, target):\n",
    "    tscv = TimeSeriesSplit()\n",
    "    sMAPEs = []\n",
    "    models = []\n",
    "    \n",
    "    # Criar validação cruzada baseada no tempo\n",
    "    for train_indexes, valid_indexes in tscv.split(df):\n",
    "        features_train = features.iloc[train_indexes] \n",
    "        features_valid = features.iloc[valid_indexes]\n",
    "        target_train = target.iloc[train_indexes]\n",
    "        target_valid = target.iloc[valid_indexes]\n",
    "            \n",
    "            # Criar modelos de Random Forest com hiperparameter tuning para cada conjunto de tempo\n",
    "        for i in range(1, 9, 2):\n",
    "            best_sMAPE = 100\n",
    "            best_model = None\n",
    "                \n",
    "            rf_model = RandomForestRegressor(max_depth=i, random_state=12345)\n",
    "            rf_model.fit(features_train, target_train)\n",
    "            predictions_valid = rf_model.predict(features_valid)\n",
    "                \n",
    "            value = sMAPE(predictions_valid, target_valid)\n",
    "            if value < best_sMAPE:\n",
    "                best_sMAPE = value\n",
    "                best_model = rf_model\n",
    "            \n",
    "        sMAPEs.append(best_sMAPE)\n",
    "        models.append(best_model)\n",
    "            \n",
    "    return models, sMAPEs"
   ]
  },
  {
   "cell_type": "code",
   "execution_count": 41,
   "metadata": {},
   "outputs": [],
   "source": [
    "def final_sMAP_calc(df, features, target, rougher_features, rougher_target, function='Linear'):\n",
    "    final_sMAPs = []\n",
    "    \n",
    "    if function == 'Linear':\n",
    "        final_models, sMAPEs = sMAPE_cross_validation_time(df, features, target)\n",
    "        rougher_models, rougher_sMAPEs = sMAPE_cross_validation_time(df, rougher_features, rougher_target)\n",
    "\n",
    "        for rougher, final in zip(rougher_sMAPEs, sMAPEs):\n",
    "            final_sMAPs.append(final_sMAP(rougher, final))\n",
    "        \n",
    "    elif function == 'RandomForest':\n",
    "        final_models, sMAPEs = sMAPE_cross_validation_time_random_forest(df, features, target)\n",
    "        rougher_models, rougher_sMAPEs = sMAPE_cross_validation_time_random_forest(df, \n",
    "                                                                                   rougher_features, rougher_target)\n",
    "\n",
    "        for rougher, final in zip(rougher_sMAPEs, sMAPEs):\n",
    "            final_sMAPs.append(final_sMAP(rougher, final))\n",
    "    else:\n",
    "        return print('Função não aplicável')\n",
    "    \n",
    "    return final_sMAPs\n",
    "        "
   ]
  },
  {
   "cell_type": "code",
   "execution_count": 71,
   "metadata": {},
   "outputs": [],
   "source": [
    "def print_results(results):\n",
    "    for i in range(len(results)):\n",
    "        print(f'O grupo {i+1} tem sMAPE de {results[i]:.2%}')\n",
    "    results_mean = sum(results)/len(results)\n",
    "    print(f'A média dos sMAPEs é de {results_mean:.2%}')"
   ]
  },
  {
   "cell_type": "markdown",
   "metadata": {},
   "source": [
    "#### Conjunto de Treinamento"
   ]
  },
  {
   "cell_type": "code",
   "execution_count": 43,
   "metadata": {},
   "outputs": [],
   "source": [
    "# Características e alvo de final\n",
    "features = df_gold_recovery_train[columns_final_features]\n",
    "target = df_gold_recovery_train['final.output.recovery']"
   ]
  },
  {
   "cell_type": "code",
   "execution_count": 44,
   "metadata": {},
   "outputs": [],
   "source": [
    "# Características e alvo do minério bruto\n",
    "rougher_features = df_gold_recovery_train[columns_rougher_features]\n",
    "rougher_target = df_gold_recovery_train['rougher.output.recovery']"
   ]
  },
  {
   "cell_type": "markdown",
   "metadata": {},
   "source": [
    "##### Regressão Linear"
   ]
  },
  {
   "cell_type": "code",
   "execution_count": 62,
   "metadata": {},
   "outputs": [
    {
     "name": "stdout",
     "output_type": "stream",
     "text": [
      "[0.13795447086345633, 0.12909953741248084, 0.13479007851478633, 0.15618972472832363, 0.13966274285946137]\n"
     ]
    }
   ],
   "source": [
    "train_sMAPs = final_sMAP_calc(df_gold_recovery_train, features, target, rougher_features, rougher_target)\n",
    "print(train_sMAPs)"
   ]
  },
  {
   "cell_type": "code",
   "execution_count": 72,
   "metadata": {},
   "outputs": [
    {
     "name": "stdout",
     "output_type": "stream",
     "text": [
      "O grupo 1 tem sMAPE de 13.80%\n",
      "O grupo 2 tem sMAPE de 12.91%\n",
      "O grupo 3 tem sMAPE de 13.48%\n",
      "O grupo 4 tem sMAPE de 15.62%\n",
      "O grupo 5 tem sMAPE de 13.97%\n",
      "A média dos sMAPEs é de 13.95%\n"
     ]
    }
   ],
   "source": [
    "print_results(train_sMAPs)"
   ]
  },
  {
   "cell_type": "markdown",
   "metadata": {},
   "source": [
    "##### Floresta Aleatória"
   ]
  },
  {
   "cell_type": "code",
   "execution_count": 64,
   "metadata": {},
   "outputs": [
    {
     "name": "stdout",
     "output_type": "stream",
     "text": [
      "[0.12168446391648098, 0.12848727567826254, 0.13642565520334532, 0.15364004006563378, 0.10810969064876566]\n"
     ]
    }
   ],
   "source": [
    "rf_train_sMAPs = final_sMAP_calc(df_gold_recovery_train, features, target, rougher_features, rougher_target, function='RandomForest')\n",
    "print(rf_train_sMAPs)"
   ]
  },
  {
   "cell_type": "code",
   "execution_count": 73,
   "metadata": {},
   "outputs": [
    {
     "name": "stdout",
     "output_type": "stream",
     "text": [
      "O grupo 1 tem sMAPE de 12.17%\n",
      "O grupo 2 tem sMAPE de 12.85%\n",
      "O grupo 3 tem sMAPE de 13.64%\n",
      "O grupo 4 tem sMAPE de 15.36%\n",
      "O grupo 5 tem sMAPE de 10.81%\n",
      "A média dos sMAPEs é de 12.97%\n"
     ]
    }
   ],
   "source": [
    "print_results(rf_train_sMAPs)"
   ]
  },
  {
   "cell_type": "markdown",
   "metadata": {},
   "source": [
    "#### Conjunto de Teste"
   ]
  },
  {
   "cell_type": "code",
   "execution_count": 66,
   "metadata": {},
   "outputs": [],
   "source": [
    "# Características dos dados de df_gold_recovery_test\n",
    "df_test_features = df_test_pp_with_target[columns_final_features]\n",
    "df_test_rougher_features = df_test_pp_with_target[columns_rougher_features]\n",
    "\n",
    "# Alvos dos dados de df_gold_recovery_test\n",
    "df_test_target = df_test_pp_with_target['final.output.recovery']\n",
    "df_test_rougher_target = df_test_pp_with_target['rougher.output.recovery']"
   ]
  },
  {
   "cell_type": "markdown",
   "metadata": {},
   "source": [
    "##### Regressão Linear"
   ]
  },
  {
   "cell_type": "code",
   "execution_count": 67,
   "metadata": {},
   "outputs": [
    {
     "name": "stdout",
     "output_type": "stream",
     "text": [
      "[0.3552201822723791, 0.09906167497263058, 0.17548133924904744, 0.12446471993337735, 0.13861361956574306]\n"
     ]
    }
   ],
   "source": [
    "test_sMAPs = final_sMAP_calc(df_test_pp_with_target, df_test_features, df_test_target, \n",
    "                             df_test_rougher_features, df_test_rougher_target)\n",
    "print(test_sMAPs)"
   ]
  },
  {
   "cell_type": "code",
   "execution_count": 74,
   "metadata": {},
   "outputs": [
    {
     "name": "stdout",
     "output_type": "stream",
     "text": [
      "O grupo 1 tem sMAPE de 35.52%\n",
      "O grupo 2 tem sMAPE de 9.91%\n",
      "O grupo 3 tem sMAPE de 17.55%\n",
      "O grupo 4 tem sMAPE de 12.45%\n",
      "O grupo 5 tem sMAPE de 13.86%\n",
      "A média dos sMAPEs é de 17.86%\n"
     ]
    }
   ],
   "source": [
    "print_results(test_sMAPs)"
   ]
  },
  {
   "cell_type": "markdown",
   "metadata": {},
   "source": [
    "##### Floresta Aleatória"
   ]
  },
  {
   "cell_type": "code",
   "execution_count": 69,
   "metadata": {},
   "outputs": [
    {
     "name": "stdout",
     "output_type": "stream",
     "text": [
      "[0.20346537116326913, 0.0844455507504496, 0.13828694860792123, 0.10262466013413352, 0.14328844019888054]\n"
     ]
    }
   ],
   "source": [
    "rf_test_sMAPs = final_sMAP_calc(df_test_pp_with_target, df_test_features, df_test_target, \n",
    "                             df_test_rougher_features, df_test_rougher_target, function='RandomForest')\n",
    "print(rf_test_sMAPs)"
   ]
  },
  {
   "cell_type": "code",
   "execution_count": 75,
   "metadata": {},
   "outputs": [
    {
     "name": "stdout",
     "output_type": "stream",
     "text": [
      "O grupo 1 tem sMAPE de 20.35%\n",
      "O grupo 2 tem sMAPE de 8.44%\n",
      "O grupo 3 tem sMAPE de 13.83%\n",
      "O grupo 4 tem sMAPE de 10.26%\n",
      "O grupo 5 tem sMAPE de 14.33%\n",
      "A média dos sMAPEs é de 13.44%\n"
     ]
    }
   ],
   "source": [
    "print_results(rf_test_sMAPs)"
   ]
  },
  {
   "cell_type": "markdown",
   "metadata": {},
   "source": [
    "Os modelos de Regressão linear se mostraram piores que o de Floresta aleatória em ambos conjuntos, que por sua vez tem um erro médio percentual absoluto próximo de 13%, devido a quantidade de outliers, o modelo se comporta satisfatoriamente."
   ]
  }
 ],
 "metadata": {
  "kernelspec": {
   "display_name": "Python 3 (ipykernel)",
   "language": "python",
   "name": "python3"
  },
  "language_info": {
   "codemirror_mode": {
    "name": "ipython",
    "version": 3
   },
   "file_extension": ".py",
   "mimetype": "text/x-python",
   "name": "python",
   "nbconvert_exporter": "python",
   "pygments_lexer": "ipython3",
   "version": "3.9.5"
  },
  "toc": {
   "base_numbering": 1,
   "nav_menu": {},
   "number_sections": true,
   "sideBar": true,
   "skip_h1_title": true,
   "title_cell": "Table of Contents",
   "title_sidebar": "Contents",
   "toc_cell": false,
   "toc_position": {
    "height": "calc(100% - 180px)",
    "left": "10px",
    "top": "150px",
    "width": "165px"
   },
   "toc_section_display": true,
   "toc_window_display": true
  }
 },
 "nbformat": 4,
 "nbformat_minor": 2
}

{
 "cells": [
  {
   "cell_type": "markdown",
   "metadata": {},
   "source": [
    "# Criando Modelos Para Definir o Plano de Telefone"
   ]
  },
  {
   "cell_type": "markdown",
   "metadata": {},
   "source": [
    "## Importando Dados"
   ]
  },
  {
   "cell_type": "code",
   "execution_count": 1,
   "metadata": {},
   "outputs": [],
   "source": [
    "import pandas as pd\n",
    "from sklearn.linear_model import LogisticRegression\n",
    "from sklearn.model_selection import train_test_split\n",
    "from sklearn.ensemble import RandomForestClassifier\n",
    "from sklearn.tree import DecisionTreeClassifier\n",
    "from sklearn.metrics import accuracy_score"
   ]
  },
  {
   "cell_type": "code",
   "execution_count": 2,
   "metadata": {},
   "outputs": [],
   "source": [
    "users_behavior = pd.read_csv('/datasets/users_behavior_upd.csv')"
   ]
  },
  {
   "cell_type": "code",
   "execution_count": 3,
   "metadata": {},
   "outputs": [
    {
     "name": "stdout",
     "output_type": "stream",
     "text": [
      "<class 'pandas.core.frame.DataFrame'>\n",
      "RangeIndex: 3214 entries, 0 to 3213\n",
      "Data columns (total 5 columns):\n",
      " #   Column       Non-Null Count  Dtype  \n",
      "---  ------       --------------  -----  \n",
      " 0   calls        3214 non-null   float64\n",
      " 1   minutes      3214 non-null   float64\n",
      " 2   messages     3214 non-null   float64\n",
      " 3   mb_used      3214 non-null   float64\n",
      " 4   is_ultimate  3214 non-null   int64  \n",
      "dtypes: float64(4), int64(1)\n",
      "memory usage: 125.7 KB\n"
     ]
    }
   ],
   "source": [
    "users_behavior.info()"
   ]
  },
  {
   "cell_type": "code",
   "execution_count": 4,
   "metadata": {
    "scrolled": true
   },
   "outputs": [
    {
     "data": {
      "text/html": [
       "<div>\n",
       "<style scoped>\n",
       "    .dataframe tbody tr th:only-of-type {\n",
       "        vertical-align: middle;\n",
       "    }\n",
       "\n",
       "    .dataframe tbody tr th {\n",
       "        vertical-align: top;\n",
       "    }\n",
       "\n",
       "    .dataframe thead th {\n",
       "        text-align: right;\n",
       "    }\n",
       "</style>\n",
       "<table border=\"1\" class=\"dataframe\">\n",
       "  <thead>\n",
       "    <tr style=\"text-align: right;\">\n",
       "      <th></th>\n",
       "      <th>calls</th>\n",
       "      <th>minutes</th>\n",
       "      <th>messages</th>\n",
       "      <th>mb_used</th>\n",
       "      <th>is_ultimate</th>\n",
       "    </tr>\n",
       "  </thead>\n",
       "  <tbody>\n",
       "    <tr>\n",
       "      <th>0</th>\n",
       "      <td>40.0</td>\n",
       "      <td>311.90</td>\n",
       "      <td>83.0</td>\n",
       "      <td>19915.42</td>\n",
       "      <td>0</td>\n",
       "    </tr>\n",
       "    <tr>\n",
       "      <th>1</th>\n",
       "      <td>85.0</td>\n",
       "      <td>516.75</td>\n",
       "      <td>56.0</td>\n",
       "      <td>22696.96</td>\n",
       "      <td>0</td>\n",
       "    </tr>\n",
       "    <tr>\n",
       "      <th>2</th>\n",
       "      <td>77.0</td>\n",
       "      <td>467.66</td>\n",
       "      <td>86.0</td>\n",
       "      <td>21060.45</td>\n",
       "      <td>0</td>\n",
       "    </tr>\n",
       "    <tr>\n",
       "      <th>3</th>\n",
       "      <td>106.0</td>\n",
       "      <td>745.53</td>\n",
       "      <td>81.0</td>\n",
       "      <td>8437.39</td>\n",
       "      <td>1</td>\n",
       "    </tr>\n",
       "    <tr>\n",
       "      <th>4</th>\n",
       "      <td>66.0</td>\n",
       "      <td>418.74</td>\n",
       "      <td>1.0</td>\n",
       "      <td>14502.75</td>\n",
       "      <td>0</td>\n",
       "    </tr>\n",
       "  </tbody>\n",
       "</table>\n",
       "</div>"
      ],
      "text/plain": [
       "   calls  minutes  messages   mb_used  is_ultimate\n",
       "0   40.0   311.90      83.0  19915.42            0\n",
       "1   85.0   516.75      56.0  22696.96            0\n",
       "2   77.0   467.66      86.0  21060.45            0\n",
       "3  106.0   745.53      81.0   8437.39            1\n",
       "4   66.0   418.74       1.0  14502.75            0"
      ]
     },
     "execution_count": 4,
     "metadata": {},
     "output_type": "execute_result"
    }
   ],
   "source": [
    "users_behavior.head()"
   ]
  },
  {
   "cell_type": "markdown",
   "metadata": {},
   "source": [
    "### Separando os conjuntos de treino, validação e teste"
   ]
  },
  {
   "cell_type": "code",
   "execution_count": 5,
   "metadata": {},
   "outputs": [],
   "source": [
    "# Dividindo as características e o alvo\n",
    "features = users_behavior.drop(['is_ultimate'], axis=1)\n",
    "target = users_behavior['is_ultimate']"
   ]
  },
  {
   "cell_type": "code",
   "execution_count": 6,
   "metadata": {},
   "outputs": [],
   "source": [
    "# Separando o grupo de teste\n",
    "x, features_test, y, target_test = train_test_split(features, target, test_size=0.2, random_state=12345)"
   ]
  },
  {
   "cell_type": "code",
   "execution_count": 7,
   "metadata": {},
   "outputs": [],
   "source": [
    "# Separando o grupo de treinamento e o de validação\n",
    "features_train, features_valid, target_train, target_valid = train_test_split(x, y, test_size=0.25, random_state=12345)"
   ]
  },
  {
   "cell_type": "markdown",
   "metadata": {},
   "source": [
    "## Criando Modelos"
   ]
  },
  {
   "cell_type": "markdown",
   "metadata": {},
   "source": [
    "### Árvore de Decisão"
   ]
  },
  {
   "cell_type": "code",
   "execution_count": 8,
   "metadata": {},
   "outputs": [
    {
     "name": "stdout",
     "output_type": "stream",
     "text": [
      "Melhor Acurácia: 0.776049766718507\n",
      "Melhor profundidade: 7\n"
     ]
    }
   ],
   "source": [
    "decision_tree_best_model = None\n",
    "decision_tree_best_score = 0\n",
    "decision_tree_best_depth = 0\n",
    "\n",
    "for depth in range(1, 21):\n",
    "    decision_tree_model = DecisionTreeClassifier(random_state=54321, max_depth=depth)\n",
    "    decision_tree_model.fit(features_train, target_train)\n",
    "    decision_tree_score = decision_tree_model.score(features_valid, target_valid)\n",
    "    if decision_tree_score > decision_tree_best_score:\n",
    "        decision_tree_best_model = decision_tree_model\n",
    "        decision_tree_best_score = decision_tree_score\n",
    "        decision_tree_best_depth = depth\n",
    "\n",
    "print('Melhor Acurácia:', decision_tree_best_score)\n",
    "print('Melhor profundidade:', decision_tree_best_depth)"
   ]
  },
  {
   "cell_type": "code",
   "execution_count": 30,
   "metadata": {},
   "outputs": [
    {
     "name": "stdout",
     "output_type": "stream",
     "text": [
      "Acurácia do modelo de árvore de decisão no conjunto de validação: 0.7900466562986003\n"
     ]
    }
   ],
   "source": [
    "# Acurácia no Conjunto de teste\n",
    "print(\"Acurácia do modelo de árvore de decisão no conjunto de validação:\", decision_tree_best_model.score(features_test, target_test))"
   ]
  },
  {
   "cell_type": "markdown",
   "metadata": {},
   "source": [
    "### Floresta Aleatória"
   ]
  },
  {
   "cell_type": "code",
   "execution_count": 10,
   "metadata": {},
   "outputs": [
    {
     "name": "stdout",
     "output_type": "stream",
     "text": [
      "A acurácia do melhor modelo no conjunto de validação (n_estimators = 20): 0.7931570762052877\n"
     ]
    }
   ],
   "source": [
    "random_forest_best_score = 0\n",
    "random_forest_best_est = 0\n",
    "random_forest_best_model = None\n",
    "for est in range(1, 21): # escolha o intervalo para o hiperparâmetro\n",
    "    random_forest_model = RandomForestClassifier(random_state=54321, n_estimators=est)\n",
    "    random_forest_model.fit(features_train, target_train)\n",
    "    random_forest_score = random_forest_model.score(features_valid, target_valid) # cálculo da acurácia do conjunto de validação\n",
    "    if random_forest_score > random_forest_best_score:\n",
    "        random_forest_best_score = random_forest_score\n",
    "        random_forest_best_est = est\n",
    "        random_forest_best_model = random_forest_model\n",
    "\n",
    "print(f\"A acurácia do melhor modelo no conjunto de validação (n_estimators = {random_forest_best_est}): {random_forest_best_score}\")"
   ]
  },
  {
   "cell_type": "code",
   "execution_count": 29,
   "metadata": {},
   "outputs": [
    {
     "name": "stdout",
     "output_type": "stream",
     "text": [
      "Acurácia do modelo de floresta aleatória no conjunto de validação: 0.7900466562986003\n"
     ]
    }
   ],
   "source": [
    "# Acurácia no Conjunto de teste\n",
    "print(\"Acurácia do modelo de floresta aleatória no conjunto de validação:\", random_forest_best_model.score(features_test, target_test))"
   ]
  },
  {
   "cell_type": "markdown",
   "metadata": {},
   "source": [
    "### Regressão Logística"
   ]
  },
  {
   "cell_type": "code",
   "execution_count": 17,
   "metadata": {},
   "outputs": [],
   "source": [
    "def logistic_regression_fitting(solver):    \n",
    "    logistic_regression_model = LogisticRegression(random_state=54321, solver=solver)\n",
    "    logistic_regression_model.fit(features_train, target_train)\n",
    "    logistic_regression_score_train = logistic_regression_model.score(features_train, target_train) # calculo da acurácia no conjunto de treinamento\n",
    "    logistic_regression_score_valid = logistic_regression_model.score(features_valid, target_valid) # calculo da acurácia no conjunto de validação\n",
    "\n",
    "    return logistic_regression_model, logistic_regression_score_train, logistic_regression_score_valid"
   ]
  },
  {
   "cell_type": "code",
   "execution_count": 24,
   "metadata": {},
   "outputs": [
    {
     "name": "stdout",
     "output_type": "stream",
     "text": [
      "Acurácia do modelo de regressão logística no conjunto de treinamento: 0.703838174273859\n",
      "Acurácia do modelo de regressão logística no conjunto de validação: 0.6967340590979783\n"
     ]
    }
   ],
   "source": [
    "best_logistic_regression_model = None\n",
    "\n",
    "# Usando o solver 'liblinear'\n",
    "best_logistic_regression_model, lr_score_train_liblinear, lr_score_valid_liblinear = logistic_regression_fitting('liblinear')\n",
    "print(\"Acurácia do modelo de regressão logística no conjunto de treinamento:\", lr_score_train_liblinear)\n",
    "print(\"Acurácia do modelo de regressão logística no conjunto de validação:\", lr_score_valid_liblinear)"
   ]
  },
  {
   "cell_type": "code",
   "execution_count": 25,
   "metadata": {},
   "outputs": [
    {
     "name": "stdout",
     "output_type": "stream",
     "text": [
      "Acurácia do modelo de regressão logística no conjunto de treinamento: 0.7510373443983402\n",
      "Acurácia do modelo de regressão logística no conjunto de validação: 0.7262830482115086\n"
     ]
    }
   ],
   "source": [
    "# Usando o solver 'lbfgs'\n",
    "lr_model, lr_score_train_lbfgs, lr_score_valid_lbfgs = logistic_regression_fitting('lbfgs')\n",
    "print(\"Acurácia do modelo de regressão logística no conjunto de treinamento:\", lr_score_train_lbfgs)\n",
    "print(\"Acurácia do modelo de regressão logística no conjunto de validação:\", lr_score_valid_lbfgs)"
   ]
  },
  {
   "cell_type": "code",
   "execution_count": 27,
   "metadata": {
    "scrolled": true
   },
   "outputs": [
    {
     "name": "stdout",
     "output_type": "stream",
     "text": [
      "Acurácia do modelo de regressão logística no conjunto de teste: 0.7589424572317263\n"
     ]
    }
   ],
   "source": [
    "# Escolha do melhor modelo\n",
    "if lr_score_valid_lbfgs > lr_score_valid_liblinear:\n",
    "    best_logistic_regression_model = lr_model\n",
    "\n",
    "\n",
    "# Acurácia no Conjunto de teste\n",
    "print(\"Acurácia do modelo de regressão logística no conjunto de teste:\", best_logistic_regression_model.score(features_test, target_test))"
   ]
  },
  {
   "cell_type": "markdown",
   "metadata": {},
   "source": [
    "## Conclusão"
   ]
  },
  {
   "cell_type": "markdown",
   "metadata": {},
   "source": [
    "Para o conjunto de dados apresentados, onde o modelo deve sugerir o melhor plano (Smart ou Ultra) conforme as características apresentadas (chamadas, minutos usados, quantidade de mensagens e consumo de internet), dividimos os dados na proporção 3:1:1, sendo 60% para o conjunto de treinamento, 20% para o conjunto de validação e 20% para o conjunto de teste, pois não possuimos um conjunto de teste separado.<br>\n",
    "O problema é um problema de classificação, ou plano Smart ou plano Ultra, sendo assim utilizamos 3 algoritmos de aprendizado para definir qual seria o acurado, lembrando que o limite para a acurácia é de 0.75. <br>\n",
    "O modelo da Árvore de Decisão atingiu uma acurácia de 0.776 no conjunto de validação e 0.79 no conjunto de Teste.<br>\n",
    "O modelo de Floresta Aleatória atingiu uma acurácia de 0.793 no conjunto de validação e 0.79 no conjunto de Teste.<br>\n",
    "O modelo de Regressão Logística atingiu uma acurácia de 0.726 no conjunto de validação e 0.759 no conjunto de Teste.<br>\n",
    "Portanto, podemos descartar o modelo de Regressão Logística para o nosso caso devido a baixa acurácia no conjunto de validação. Entre o modelo de Árvore de Decisão e Floresta Aleatória há pouca diferença entre as acurácias com vantagem para o metodo de Floresta Aleatória, mas o modelo de Árvore de Decisão é mais rápido."
   ]
  }
 ],
 "metadata": {
  "kernelspec": {
   "display_name": "Python 3 (ipykernel)",
   "language": "python",
   "name": "python3"
  },
  "language_info": {
   "codemirror_mode": {
    "name": "ipython",
    "version": 3
   },
   "file_extension": ".py",
   "mimetype": "text/x-python",
   "name": "python",
   "nbconvert_exporter": "python",
   "pygments_lexer": "ipython3",
   "version": "3.9.5"
  },
  "toc": {
   "base_numbering": 1,
   "nav_menu": {},
   "number_sections": true,
   "sideBar": true,
   "skip_h1_title": true,
   "title_cell": "Table of Contents",
   "title_sidebar": "Contents",
   "toc_cell": false,
   "toc_position": {},
   "toc_section_display": true,
   "toc_window_display": true
  }
 },
 "nbformat": 4,
 "nbformat_minor": 2
}

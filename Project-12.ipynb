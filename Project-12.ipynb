{
 "cells": [
  {
   "cell_type": "markdown",
   "metadata": {},
   "source": [
    "O serviço de vendas de carros usados Rusty Bargain está desenvolvendo um aplicativo para atrair novos clientes. Nesse aplicativo, você pode descobrir rapidamente o valor de mercado do seu carro. Você tem acesso a dados históricos: especificações técnicas, versões de acabamento e preços. Você precisa construir o modelo para determinar o valor. \n",
    "\n",
    "Rusty Bargain está interessado em:\n",
    "\n",
    "- a qualidade da predição;\n",
    "- a velocidade da predição;\n",
    "- o tempo necessário para o treinamento"
   ]
  },
  {
   "cell_type": "markdown",
   "metadata": {},
   "source": [
    "## Preparação de Dados"
   ]
  },
  {
   "cell_type": "code",
   "execution_count": 1,
   "metadata": {},
   "outputs": [
    {
     "name": "stdout",
     "output_type": "stream",
     "text": [
      "Requirement already satisfied: scikit-learn in /home/jovyan/.local/lib/python3.9/site-packages (1.4.1.post1)\n",
      "Requirement already satisfied: numpy<2.0,>=1.19.5 in /opt/conda/lib/python3.9/site-packages (from scikit-learn) (1.21.1)\n",
      "Requirement already satisfied: scipy>=1.6.0 in /opt/conda/lib/python3.9/site-packages (from scikit-learn) (1.8.0)\n",
      "Requirement already satisfied: joblib>=1.2.0 in /home/jovyan/.local/lib/python3.9/site-packages (from scikit-learn) (1.3.2)\n",
      "Requirement already satisfied: threadpoolctl>=2.0.0 in /opt/conda/lib/python3.9/site-packages (from scikit-learn) (3.1.0)\n",
      "Note: you may need to restart the kernel to use updated packages.\n"
     ]
    }
   ],
   "source": [
    "pip install scikit-learn --upgrade --user"
   ]
  },
  {
   "cell_type": "code",
   "execution_count": 2,
   "metadata": {},
   "outputs": [],
   "source": [
    "# Pacotes para tratar os dados\n",
    "import pandas as pd\n",
    "import numpy as np\n",
    "\n",
    "# Pacotes para Preparar os dados para treinamento\n",
    "from sklearn.preprocessing import OneHotEncoder\n",
    "from sklearn.model_selection import train_test_split\n",
    "from sklearn.model_selection import GridSearchCV\n",
    "from sklearn.model_selection import cross_val_score\n",
    "\n",
    "# Pacotes para treinamento de modelos\n",
    "from catboost import CatBoostRegressor\n",
    "import lightgbm as lgb\n",
    "import xgboost as xgb\n",
    "from sklearn.linear_model import LinearRegression\n",
    "from sklearn.ensemble import RandomForestRegressor\n",
    "\n",
    "# Pacotes para métricas\n",
    "from sklearn.metrics import mean_squared_error\n",
    "import time\n",
    "\n",
    "# Pacotes auxiliares\n",
    "import math"
   ]
  },
  {
   "cell_type": "code",
   "execution_count": 3,
   "metadata": {},
   "outputs": [
    {
     "name": "stdout",
     "output_type": "stream",
     "text": [
      "<class 'pandas.core.frame.DataFrame'>\n",
      "RangeIndex: 354369 entries, 0 to 354368\n",
      "Data columns (total 16 columns):\n",
      " #   Column             Non-Null Count   Dtype \n",
      "---  ------             --------------   ----- \n",
      " 0   DateCrawled        354369 non-null  object\n",
      " 1   Price              354369 non-null  int64 \n",
      " 2   VehicleType        316879 non-null  object\n",
      " 3   RegistrationYear   354369 non-null  int64 \n",
      " 4   Gearbox            334536 non-null  object\n",
      " 5   Power              354369 non-null  int64 \n",
      " 6   Model              334664 non-null  object\n",
      " 7   Mileage            354369 non-null  int64 \n",
      " 8   RegistrationMonth  354369 non-null  int64 \n",
      " 9   FuelType           321474 non-null  object\n",
      " 10  Brand              354369 non-null  object\n",
      " 11  NotRepaired        283215 non-null  object\n",
      " 12  DateCreated        354369 non-null  object\n",
      " 13  NumberOfPictures   354369 non-null  int64 \n",
      " 14  PostalCode         354369 non-null  int64 \n",
      " 15  LastSeen           354369 non-null  object\n",
      "dtypes: int64(7), object(9)\n",
      "memory usage: 43.3+ MB\n"
     ]
    }
   ],
   "source": [
    "df = pd.read_csv('/datasets/car_data.csv')\n",
    "df.info()"
   ]
  },
  {
   "cell_type": "code",
   "execution_count": 4,
   "metadata": {},
   "outputs": [
    {
     "data": {
      "text/html": [
       "<div>\n",
       "<style scoped>\n",
       "    .dataframe tbody tr th:only-of-type {\n",
       "        vertical-align: middle;\n",
       "    }\n",
       "\n",
       "    .dataframe tbody tr th {\n",
       "        vertical-align: top;\n",
       "    }\n",
       "\n",
       "    .dataframe thead th {\n",
       "        text-align: right;\n",
       "    }\n",
       "</style>\n",
       "<table border=\"1\" class=\"dataframe\">\n",
       "  <thead>\n",
       "    <tr style=\"text-align: right;\">\n",
       "      <th></th>\n",
       "      <th>DateCrawled</th>\n",
       "      <th>Price</th>\n",
       "      <th>VehicleType</th>\n",
       "      <th>RegistrationYear</th>\n",
       "      <th>Gearbox</th>\n",
       "      <th>Power</th>\n",
       "      <th>Model</th>\n",
       "      <th>Mileage</th>\n",
       "      <th>RegistrationMonth</th>\n",
       "      <th>FuelType</th>\n",
       "      <th>Brand</th>\n",
       "      <th>NotRepaired</th>\n",
       "      <th>DateCreated</th>\n",
       "      <th>NumberOfPictures</th>\n",
       "      <th>PostalCode</th>\n",
       "      <th>LastSeen</th>\n",
       "    </tr>\n",
       "  </thead>\n",
       "  <tbody>\n",
       "    <tr>\n",
       "      <th>0</th>\n",
       "      <td>24/03/2016 11:52</td>\n",
       "      <td>480</td>\n",
       "      <td>NaN</td>\n",
       "      <td>1993</td>\n",
       "      <td>manual</td>\n",
       "      <td>0</td>\n",
       "      <td>golf</td>\n",
       "      <td>150000</td>\n",
       "      <td>0</td>\n",
       "      <td>petrol</td>\n",
       "      <td>volkswagen</td>\n",
       "      <td>NaN</td>\n",
       "      <td>24/03/2016 00:00</td>\n",
       "      <td>0</td>\n",
       "      <td>70435</td>\n",
       "      <td>07/04/2016 03:16</td>\n",
       "    </tr>\n",
       "    <tr>\n",
       "      <th>1</th>\n",
       "      <td>24/03/2016 10:58</td>\n",
       "      <td>18300</td>\n",
       "      <td>coupe</td>\n",
       "      <td>2011</td>\n",
       "      <td>manual</td>\n",
       "      <td>190</td>\n",
       "      <td>NaN</td>\n",
       "      <td>125000</td>\n",
       "      <td>5</td>\n",
       "      <td>gasoline</td>\n",
       "      <td>audi</td>\n",
       "      <td>yes</td>\n",
       "      <td>24/03/2016 00:00</td>\n",
       "      <td>0</td>\n",
       "      <td>66954</td>\n",
       "      <td>07/04/2016 01:46</td>\n",
       "    </tr>\n",
       "    <tr>\n",
       "      <th>2</th>\n",
       "      <td>14/03/2016 12:52</td>\n",
       "      <td>9800</td>\n",
       "      <td>suv</td>\n",
       "      <td>2004</td>\n",
       "      <td>auto</td>\n",
       "      <td>163</td>\n",
       "      <td>grand</td>\n",
       "      <td>125000</td>\n",
       "      <td>8</td>\n",
       "      <td>gasoline</td>\n",
       "      <td>jeep</td>\n",
       "      <td>NaN</td>\n",
       "      <td>14/03/2016 00:00</td>\n",
       "      <td>0</td>\n",
       "      <td>90480</td>\n",
       "      <td>05/04/2016 12:47</td>\n",
       "    </tr>\n",
       "    <tr>\n",
       "      <th>3</th>\n",
       "      <td>17/03/2016 16:54</td>\n",
       "      <td>1500</td>\n",
       "      <td>small</td>\n",
       "      <td>2001</td>\n",
       "      <td>manual</td>\n",
       "      <td>75</td>\n",
       "      <td>golf</td>\n",
       "      <td>150000</td>\n",
       "      <td>6</td>\n",
       "      <td>petrol</td>\n",
       "      <td>volkswagen</td>\n",
       "      <td>no</td>\n",
       "      <td>17/03/2016 00:00</td>\n",
       "      <td>0</td>\n",
       "      <td>91074</td>\n",
       "      <td>17/03/2016 17:40</td>\n",
       "    </tr>\n",
       "    <tr>\n",
       "      <th>4</th>\n",
       "      <td>31/03/2016 17:25</td>\n",
       "      <td>3600</td>\n",
       "      <td>small</td>\n",
       "      <td>2008</td>\n",
       "      <td>manual</td>\n",
       "      <td>69</td>\n",
       "      <td>fabia</td>\n",
       "      <td>90000</td>\n",
       "      <td>7</td>\n",
       "      <td>gasoline</td>\n",
       "      <td>skoda</td>\n",
       "      <td>no</td>\n",
       "      <td>31/03/2016 00:00</td>\n",
       "      <td>0</td>\n",
       "      <td>60437</td>\n",
       "      <td>06/04/2016 10:17</td>\n",
       "    </tr>\n",
       "  </tbody>\n",
       "</table>\n",
       "</div>"
      ],
      "text/plain": [
       "        DateCrawled  Price VehicleType  RegistrationYear Gearbox  Power  \\\n",
       "0  24/03/2016 11:52    480         NaN              1993  manual      0   \n",
       "1  24/03/2016 10:58  18300       coupe              2011  manual    190   \n",
       "2  14/03/2016 12:52   9800         suv              2004    auto    163   \n",
       "3  17/03/2016 16:54   1500       small              2001  manual     75   \n",
       "4  31/03/2016 17:25   3600       small              2008  manual     69   \n",
       "\n",
       "   Model  Mileage  RegistrationMonth  FuelType       Brand NotRepaired  \\\n",
       "0   golf   150000                  0    petrol  volkswagen         NaN   \n",
       "1    NaN   125000                  5  gasoline        audi         yes   \n",
       "2  grand   125000                  8  gasoline        jeep         NaN   \n",
       "3   golf   150000                  6    petrol  volkswagen          no   \n",
       "4  fabia    90000                  7  gasoline       skoda          no   \n",
       "\n",
       "        DateCreated  NumberOfPictures  PostalCode          LastSeen  \n",
       "0  24/03/2016 00:00                 0       70435  07/04/2016 03:16  \n",
       "1  24/03/2016 00:00                 0       66954  07/04/2016 01:46  \n",
       "2  14/03/2016 00:00                 0       90480  05/04/2016 12:47  \n",
       "3  17/03/2016 00:00                 0       91074  17/03/2016 17:40  \n",
       "4  31/03/2016 00:00                 0       60437  06/04/2016 10:17  "
      ]
     },
     "execution_count": 4,
     "metadata": {},
     "output_type": "execute_result"
    }
   ],
   "source": [
    "df.head()"
   ]
  },
  {
   "cell_type": "code",
   "execution_count": 5,
   "metadata": {
    "scrolled": true
   },
   "outputs": [
    {
     "data": {
      "text/html": [
       "<div>\n",
       "<style scoped>\n",
       "    .dataframe tbody tr th:only-of-type {\n",
       "        vertical-align: middle;\n",
       "    }\n",
       "\n",
       "    .dataframe tbody tr th {\n",
       "        vertical-align: top;\n",
       "    }\n",
       "\n",
       "    .dataframe thead th {\n",
       "        text-align: right;\n",
       "    }\n",
       "</style>\n",
       "<table border=\"1\" class=\"dataframe\">\n",
       "  <thead>\n",
       "    <tr style=\"text-align: right;\">\n",
       "      <th></th>\n",
       "      <th>Price</th>\n",
       "      <th>RegistrationYear</th>\n",
       "      <th>Power</th>\n",
       "      <th>Mileage</th>\n",
       "      <th>RegistrationMonth</th>\n",
       "      <th>NumberOfPictures</th>\n",
       "      <th>PostalCode</th>\n",
       "    </tr>\n",
       "  </thead>\n",
       "  <tbody>\n",
       "    <tr>\n",
       "      <th>count</th>\n",
       "      <td>354369.000000</td>\n",
       "      <td>354369.000000</td>\n",
       "      <td>354369.000000</td>\n",
       "      <td>354369.000000</td>\n",
       "      <td>354369.000000</td>\n",
       "      <td>354369.0</td>\n",
       "      <td>354369.000000</td>\n",
       "    </tr>\n",
       "    <tr>\n",
       "      <th>mean</th>\n",
       "      <td>4416.656776</td>\n",
       "      <td>2004.234448</td>\n",
       "      <td>110.094337</td>\n",
       "      <td>128211.172535</td>\n",
       "      <td>5.714645</td>\n",
       "      <td>0.0</td>\n",
       "      <td>50508.689087</td>\n",
       "    </tr>\n",
       "    <tr>\n",
       "      <th>std</th>\n",
       "      <td>4514.158514</td>\n",
       "      <td>90.227958</td>\n",
       "      <td>189.850405</td>\n",
       "      <td>37905.341530</td>\n",
       "      <td>3.726421</td>\n",
       "      <td>0.0</td>\n",
       "      <td>25783.096248</td>\n",
       "    </tr>\n",
       "    <tr>\n",
       "      <th>min</th>\n",
       "      <td>0.000000</td>\n",
       "      <td>1000.000000</td>\n",
       "      <td>0.000000</td>\n",
       "      <td>5000.000000</td>\n",
       "      <td>0.000000</td>\n",
       "      <td>0.0</td>\n",
       "      <td>1067.000000</td>\n",
       "    </tr>\n",
       "    <tr>\n",
       "      <th>25%</th>\n",
       "      <td>1050.000000</td>\n",
       "      <td>1999.000000</td>\n",
       "      <td>69.000000</td>\n",
       "      <td>125000.000000</td>\n",
       "      <td>3.000000</td>\n",
       "      <td>0.0</td>\n",
       "      <td>30165.000000</td>\n",
       "    </tr>\n",
       "    <tr>\n",
       "      <th>50%</th>\n",
       "      <td>2700.000000</td>\n",
       "      <td>2003.000000</td>\n",
       "      <td>105.000000</td>\n",
       "      <td>150000.000000</td>\n",
       "      <td>6.000000</td>\n",
       "      <td>0.0</td>\n",
       "      <td>49413.000000</td>\n",
       "    </tr>\n",
       "    <tr>\n",
       "      <th>75%</th>\n",
       "      <td>6400.000000</td>\n",
       "      <td>2008.000000</td>\n",
       "      <td>143.000000</td>\n",
       "      <td>150000.000000</td>\n",
       "      <td>9.000000</td>\n",
       "      <td>0.0</td>\n",
       "      <td>71083.000000</td>\n",
       "    </tr>\n",
       "    <tr>\n",
       "      <th>max</th>\n",
       "      <td>20000.000000</td>\n",
       "      <td>9999.000000</td>\n",
       "      <td>20000.000000</td>\n",
       "      <td>150000.000000</td>\n",
       "      <td>12.000000</td>\n",
       "      <td>0.0</td>\n",
       "      <td>99998.000000</td>\n",
       "    </tr>\n",
       "  </tbody>\n",
       "</table>\n",
       "</div>"
      ],
      "text/plain": [
       "               Price  RegistrationYear          Power        Mileage  \\\n",
       "count  354369.000000     354369.000000  354369.000000  354369.000000   \n",
       "mean     4416.656776       2004.234448     110.094337  128211.172535   \n",
       "std      4514.158514         90.227958     189.850405   37905.341530   \n",
       "min         0.000000       1000.000000       0.000000    5000.000000   \n",
       "25%      1050.000000       1999.000000      69.000000  125000.000000   \n",
       "50%      2700.000000       2003.000000     105.000000  150000.000000   \n",
       "75%      6400.000000       2008.000000     143.000000  150000.000000   \n",
       "max     20000.000000       9999.000000   20000.000000  150000.000000   \n",
       "\n",
       "       RegistrationMonth  NumberOfPictures     PostalCode  \n",
       "count      354369.000000          354369.0  354369.000000  \n",
       "mean            5.714645               0.0   50508.689087  \n",
       "std             3.726421               0.0   25783.096248  \n",
       "min             0.000000               0.0    1067.000000  \n",
       "25%             3.000000               0.0   30165.000000  \n",
       "50%             6.000000               0.0   49413.000000  \n",
       "75%             9.000000               0.0   71083.000000  \n",
       "max            12.000000               0.0   99998.000000  "
      ]
     },
     "execution_count": 5,
     "metadata": {},
     "output_type": "execute_result"
    }
   ],
   "source": [
    "df.describe()"
   ]
  },
  {
   "cell_type": "markdown",
   "metadata": {},
   "source": [
    "Analisando a descrição dos dados temos as seguintes conclusões:<br>\n",
    "1) Existem preços com valor 0. Essas linhas deverão ser desconsideradas. <br>\n",
    "2) Existem Automóveis que foram registrados no mínimo no ano 1000 e no máximo no ano 9999, o que não é possível visto que estamos em 2024 e o carro foi inventado em 1885. <br>\n",
    "3) Veículos que possuem power com valor 0 também não existem. <br>\n",
    "4) Registro que aconteceram no mês 0 também devem ser desconsiderados. <br>\n",
    "5) A coluna NumberOfPictures é composta inteiramente por valores 0, portanto será desconsiderada."
   ]
  },
  {
   "cell_type": "code",
   "execution_count": 6,
   "metadata": {},
   "outputs": [
    {
     "name": "stdout",
     "output_type": "stream",
     "text": [
      "<class 'pandas.core.frame.DataFrame'>\n",
      "Int64Index: 287100 entries, 1 to 354368\n",
      "Data columns (total 15 columns):\n",
      " #   Column             Non-Null Count   Dtype \n",
      "---  ------             --------------   ----- \n",
      " 0   DateCrawled        287100 non-null  object\n",
      " 1   Price              287100 non-null  int64 \n",
      " 2   VehicleType        271249 non-null  object\n",
      " 3   RegistrationYear   287100 non-null  int64 \n",
      " 4   Gearbox            282887 non-null  object\n",
      " 5   Power              287100 non-null  int64 \n",
      " 6   Model              277112 non-null  object\n",
      " 7   Mileage            287100 non-null  int64 \n",
      " 8   RegistrationMonth  287100 non-null  int64 \n",
      " 9   FuelType           272434 non-null  object\n",
      " 10  Brand              287100 non-null  object\n",
      " 11  NotRepaired        249904 non-null  object\n",
      " 12  DateCreated        287100 non-null  object\n",
      " 13  PostalCode         287100 non-null  int64 \n",
      " 14  LastSeen           287100 non-null  object\n",
      "dtypes: int64(6), object(9)\n",
      "memory usage: 35.0+ MB\n"
     ]
    }
   ],
   "source": [
    "# Aplicando as mudanças mencionadas\n",
    "df = df[df['Price'] != 0] # 1 observação\n",
    "df = df[(df['RegistrationYear'] > 1884) & (df['RegistrationYear'] < 2025)] # 2 observação\n",
    "df = df[df['Power'] != 0] # 3 observação\n",
    "df = df[df['RegistrationMonth'] != 0] # 4 observação\n",
    "df = df.drop('NumberOfPictures', axis=1) # 5 observação\n",
    "df.info()"
   ]
  },
  {
   "cell_type": "code",
   "execution_count": 7,
   "metadata": {},
   "outputs": [
    {
     "data": {
      "text/plain": [
       "253"
      ]
     },
     "execution_count": 7,
     "metadata": {},
     "output_type": "execute_result"
    }
   ],
   "source": [
    "# Verificando a existência de valores duplicados\n",
    "df.duplicated().sum()"
   ]
  },
  {
   "cell_type": "code",
   "execution_count": 8,
   "metadata": {},
   "outputs": [
    {
     "name": "stdout",
     "output_type": "stream",
     "text": [
      "<class 'pandas.core.frame.DataFrame'>\n",
      "Int64Index: 286847 entries, 1 to 354368\n",
      "Data columns (total 15 columns):\n",
      " #   Column             Non-Null Count   Dtype \n",
      "---  ------             --------------   ----- \n",
      " 0   DateCrawled        286847 non-null  object\n",
      " 1   Price              286847 non-null  int64 \n",
      " 2   VehicleType        270999 non-null  object\n",
      " 3   RegistrationYear   286847 non-null  int64 \n",
      " 4   Gearbox            282634 non-null  object\n",
      " 5   Power              286847 non-null  int64 \n",
      " 6   Model              276860 non-null  object\n",
      " 7   Mileage            286847 non-null  int64 \n",
      " 8   RegistrationMonth  286847 non-null  int64 \n",
      " 9   FuelType           272182 non-null  object\n",
      " 10  Brand              286847 non-null  object\n",
      " 11  NotRepaired        249656 non-null  object\n",
      " 12  DateCreated        286847 non-null  object\n",
      " 13  PostalCode         286847 non-null  int64 \n",
      " 14  LastSeen           286847 non-null  object\n",
      "dtypes: int64(6), object(9)\n",
      "memory usage: 35.0+ MB\n"
     ]
    }
   ],
   "source": [
    "# Excluir\n",
    "df.drop_duplicates(inplace=True)\n",
    "df.info()"
   ]
  },
  {
   "cell_type": "code",
   "execution_count": 9,
   "metadata": {},
   "outputs": [],
   "source": [
    "# Preencher NotRepaired que estão nulos com unknown\n",
    "df['NotRepaired'].fillna('unknown', inplace=True)"
   ]
  },
  {
   "cell_type": "code",
   "execution_count": 10,
   "metadata": {},
   "outputs": [
    {
     "name": "stdout",
     "output_type": "stream",
     "text": [
      "<class 'pandas.core.frame.DataFrame'>\n",
      "Int64Index: 253566 entries, 2 to 354368\n",
      "Data columns (total 15 columns):\n",
      " #   Column             Non-Null Count   Dtype \n",
      "---  ------             --------------   ----- \n",
      " 0   DateCrawled        253566 non-null  object\n",
      " 1   Price              253566 non-null  int64 \n",
      " 2   VehicleType        253566 non-null  object\n",
      " 3   RegistrationYear   253566 non-null  int64 \n",
      " 4   Gearbox            253566 non-null  object\n",
      " 5   Power              253566 non-null  int64 \n",
      " 6   Model              253566 non-null  object\n",
      " 7   Mileage            253566 non-null  int64 \n",
      " 8   RegistrationMonth  253566 non-null  int64 \n",
      " 9   FuelType           253566 non-null  object\n",
      " 10  Brand              253566 non-null  object\n",
      " 11  NotRepaired        253566 non-null  object\n",
      " 12  DateCreated        253566 non-null  object\n",
      " 13  PostalCode         253566 non-null  int64 \n",
      " 14  LastSeen           253566 non-null  object\n",
      "dtypes: int64(6), object(9)\n",
      "memory usage: 31.0+ MB\n"
     ]
    }
   ],
   "source": [
    "# Remover os outros valores nulos\n",
    "df.dropna(inplace=True)\n",
    "df.info()"
   ]
  },
  {
   "cell_type": "markdown",
   "metadata": {},
   "source": [
    "## Treinamento do modelo"
   ]
  },
  {
   "cell_type": "code",
   "execution_count": 11,
   "metadata": {},
   "outputs": [],
   "source": [
    "metrics = {\n",
    "    'training_time(s)': [],\n",
    "    'prediction_time(s)': [],\n",
    "    'RMSE':[],\n",
    "    'tuning_time(s)': []\n",
    "}"
   ]
  },
  {
   "cell_type": "code",
   "execution_count": 12,
   "metadata": {},
   "outputs": [],
   "source": [
    "# Conjunto das colunas numéricas\n",
    "numerical_features = df.describe().columns.drop('Price')\n",
    "\n",
    "# Conjunto das colunas categóricas\n",
    "categoric_features = df.columns.difference(numerical_features).drop('Price')\n",
    "\n",
    "# Removendo as colunas de datas que não agregam a predição do preço\n",
    "categoric_features = categoric_features.drop(['DateCrawled', 'DateCreated', 'LastSeen'])"
   ]
  },
  {
   "cell_type": "code",
   "execution_count": 13,
   "metadata": {},
   "outputs": [],
   "source": [
    "# Copiando o Dataframe em duas instâncias, um para trabalhar nos modelos que \n",
    "# requerem preprocessamento na características categóricas e outro no CatBoost e LightGBM\n",
    "\n",
    "# Para GBM\n",
    "df_gbm = df.copy()\n",
    "df_gbm = df_gbm.drop(['DateCrawled', 'DateCreated', 'LastSeen'], axis=1)\n",
    "# Atribuindo catacterísticas e alvo\n",
    "X_gbm = df_gbm.drop(['Price'], axis=1)\n",
    "y_gbm = df_gbm['Price']\n",
    "\n",
    "X_gbm_train, X_gbm_test, y_gbm_train, y_gbm_test = train_test_split(X_gbm, y_gbm, test_size = 0.25, random_state=12345)\n",
    "\n",
    "# Para Encoding\n",
    "df_enc = df.copy()\n",
    "df_enc = df_enc.drop(['DateCrawled', 'DateCreated', 'LastSeen'], axis=1)"
   ]
  },
  {
   "cell_type": "code",
   "execution_count": 14,
   "metadata": {},
   "outputs": [],
   "source": [
    "def hyper_tuning(model, params, X_train, y_train, cat_features=[]):\n",
    "    grid = GridSearchCV(estimator=model, param_grid=params, cv=2, n_jobs=-1, verbose=0, scoring='neg_root_mean_squared_error')\n",
    "    if len(cat_features) == 0:\n",
    "        start_time = time.time()\n",
    "        grid.fit(X_train, y_train)\n",
    "        tuning_time = time.time() - start_time\n",
    "    else:\n",
    "        start_time = time.time()\n",
    "        grid.fit(X_gbm_train, y_gbm_train, cat_features=list(cat_features))\n",
    "        tuning_time = time.time() - start_time\n",
    "        \n",
    "    return tuning_time, grid.best_params_\n"
   ]
  },
  {
   "cell_type": "markdown",
   "metadata": {},
   "source": [
    "### One Hot Encoding"
   ]
  },
  {
   "cell_type": "code",
   "execution_count": 15,
   "metadata": {},
   "outputs": [
    {
     "name": "stdout",
     "output_type": "stream",
     "text": [
      "<class 'pandas.core.frame.DataFrame'>\n",
      "Int64Index: 253566 entries, 2 to 354368\n",
      "Columns: 314 entries, Price to VehicleType_wagon\n",
      "dtypes: float64(308), int64(6)\n",
      "memory usage: 609.4 MB\n"
     ]
    }
   ],
   "source": [
    "ohe = OneHotEncoder(sparse_output=False, handle_unknown='ignore').set_output(transform='pandas')\n",
    "ohe_transform = ohe.fit_transform(df_enc[categoric_features])\n",
    "df_enc = pd.concat([df_enc, ohe_transform], axis=1).drop(columns=categoric_features)\n",
    "df_enc.info()"
   ]
  },
  {
   "cell_type": "code",
   "execution_count": 16,
   "metadata": {},
   "outputs": [],
   "source": [
    "# Após o OHE podemos definir nossas características\n",
    "X_enc = df_enc.drop(['Price'], axis=1)\n",
    "y_enc = df_enc['Price']\n",
    "\n",
    "X_enc_train, X_enc_test, y_enc_train, y_enc_test = train_test_split(X_enc, y_enc, test_size = 0.25, random_state=12345)"
   ]
  },
  {
   "cell_type": "markdown",
   "metadata": {},
   "source": [
    "### LinearRegression"
   ]
  },
  {
   "cell_type": "code",
   "execution_count": 17,
   "metadata": {},
   "outputs": [],
   "source": [
    "lr_model = LinearRegression()\n",
    "start_time = time.time()\n",
    "lr_model.fit(X_enc_train, y_enc_train)\n",
    "training_time = time.time() - start_time\n",
    "metrics['training_time(s)'].append(training_time)\n",
    "metrics['tuning_time(s)'].append('N/A')"
   ]
  },
  {
   "cell_type": "code",
   "execution_count": 18,
   "metadata": {},
   "outputs": [],
   "source": [
    "start_time = time.time()\n",
    "lr_predictions = lr_model.predict(X_enc_test)\n",
    "prediction_time = time.time() - start_time\n",
    "metrics['prediction_time(s)'].append(prediction_time)"
   ]
  },
  {
   "cell_type": "code",
   "execution_count": 19,
   "metadata": {},
   "outputs": [
    {
     "name": "stdout",
     "output_type": "stream",
     "text": [
      "REQM: 2656.54\n"
     ]
    }
   ],
   "source": [
    "lr_rmse = math.sqrt(mean_squared_error(y_enc_test, lr_predictions))\n",
    "metrics['RMSE'].append(lr_rmse)\n",
    "print(f'REQM: {lr_rmse:.2f}')"
   ]
  },
  {
   "cell_type": "markdown",
   "metadata": {},
   "source": [
    "### Random Forest"
   ]
  },
  {
   "cell_type": "code",
   "execution_count": 20,
   "metadata": {},
   "outputs": [
    {
     "data": {
      "text/plain": [
       "{'max_depth': 4,\n",
       " 'max_features': 'sqrt',\n",
       " 'n_estimators': 100,\n",
       " 'random_state': 12345}"
      ]
     },
     "execution_count": 20,
     "metadata": {},
     "output_type": "execute_result"
    }
   ],
   "source": [
    "# Fazer Tuning de hiperparametros\n",
    "rf_model = RandomForestRegressor()\n",
    "rf_parameters = {\n",
    "    'n_estimators': [50, 100, 150],\n",
    "    'max_depth': [2, 3, 4],\n",
    "    'max_features': ['sqrt', 'log2'],\n",
    "    'random_state': [12345]\n",
    "}\n",
    "\n",
    "tuning_time, rf_best_params = hyper_tuning(rf_model, rf_parameters, X_enc_train, y_enc_train)\n",
    "metrics['tuning_time(s)'].append(tuning_time)\n",
    "rf_best_params"
   ]
  },
  {
   "cell_type": "code",
   "execution_count": 21,
   "metadata": {},
   "outputs": [],
   "source": [
    "# Medir o tempo de treinamento apenas com os melhores parametros\n",
    "rf_model = RandomForestRegressor(\n",
    "    n_estimators = rf_best_params['n_estimators'],\n",
    "    max_depth = rf_best_params['max_depth'],\n",
    "    max_features = rf_best_params['max_features'],\n",
    "    random_state = 12345\n",
    ")\n",
    "start_time = time.time()\n",
    "rf_model.fit(X_enc_train, y_enc_train)\n",
    "training_time = time.time() - start_time\n",
    "metrics['training_time(s)'].append(training_time)"
   ]
  },
  {
   "cell_type": "code",
   "execution_count": 22,
   "metadata": {},
   "outputs": [],
   "source": [
    "start_time = time.time()\n",
    "rf_predictions = rf_model.predict(X_enc_test)\n",
    "prediction_time = time.time() - start_time\n",
    "metrics['prediction_time(s)'].append(prediction_time)"
   ]
  },
  {
   "cell_type": "code",
   "execution_count": 23,
   "metadata": {},
   "outputs": [
    {
     "name": "stdout",
     "output_type": "stream",
     "text": [
      "REQM: 3674.58\n"
     ]
    }
   ],
   "source": [
    "rf_rmse = math.sqrt(mean_squared_error(y_enc_test, rf_predictions))\n",
    "metrics['RMSE'].append(rf_rmse)\n",
    "print(f'REQM: {rf_rmse:.2f}')"
   ]
  },
  {
   "cell_type": "markdown",
   "metadata": {},
   "source": [
    "### CatBoost"
   ]
  },
  {
   "cell_type": "code",
   "execution_count": 24,
   "metadata": {},
   "outputs": [
    {
     "data": {
      "text/plain": [
       "{'depth': 6,\n",
       " 'iterations': 100,\n",
       " 'learning_rate': 0.1,\n",
       " 'random_state': 12345,\n",
       " 'verbose': 0}"
      ]
     },
     "execution_count": 24,
     "metadata": {},
     "output_type": "execute_result"
    }
   ],
   "source": [
    "# Criar modelo e parametros para hipertuning\n",
    "catboost_model = CatBoostRegressor()\n",
    "cb_parameters = {\n",
    "    'depth': [2, 4, 6],\n",
    "    'learning_rate': [0.01, 0.05, 0.1],\n",
    "    'iterations': [50, 100],\n",
    "    'random_state': [12345],\n",
    "    'verbose': [0]\n",
    "}\n",
    "\n",
    "\n",
    "tuning_time, cb_best_params = hyper_tuning(catboost_model, cb_parameters, X_gbm_train, y_gbm_train, categoric_features)\n",
    "\n",
    "metrics['tuning_time(s)'].append(tuning_time)\n",
    "\n",
    "cb_best_params"
   ]
  },
  {
   "cell_type": "code",
   "execution_count": 25,
   "metadata": {},
   "outputs": [],
   "source": [
    "# Treinar apenas com os melhores parâmetros\n",
    "catboost_model = CatBoostRegressor(\n",
    "    depth=cb_best_params['depth'],\n",
    "    learning_rate=cb_best_params['learning_rate'],\n",
    "    iterations=cb_best_params['iterations'],\n",
    "    random_state=12345,\n",
    "    verbose=0\n",
    ")\n",
    "\n",
    "start_time = time.time()\n",
    "catboost_model.fit(X_gbm_train, y_gbm_train, cat_features=list(categoric_features))\n",
    "training_time = time.time() - start_time\n",
    "metrics['training_time(s)'].append(training_time)"
   ]
  },
  {
   "cell_type": "code",
   "execution_count": 26,
   "metadata": {},
   "outputs": [],
   "source": [
    "start_time = time.time()\n",
    "catboost_predictions = catboost_model.predict(X_gbm_test)\n",
    "prediction_time = time.time() - start_time\n",
    "metrics['prediction_time(s)'].append(prediction_time)"
   ]
  },
  {
   "cell_type": "code",
   "execution_count": 27,
   "metadata": {},
   "outputs": [],
   "source": [
    "catboost_rmse = mean_squared_error(y_gbm_test, catboost_predictions) ** 0.5\n",
    "metrics['RMSE'].append(catboost_rmse)"
   ]
  },
  {
   "cell_type": "markdown",
   "metadata": {},
   "source": [
    "### LightGBM"
   ]
  },
  {
   "cell_type": "code",
   "execution_count": 28,
   "metadata": {},
   "outputs": [],
   "source": [
    "for c in categoric_features:\n",
    "    X_gbm_train[c] = X_gbm_train[c].astype('category')\n",
    "    X_gbm_test[c] = X_gbm_test[c].astype('category')"
   ]
  },
  {
   "cell_type": "code",
   "execution_count": 29,
   "metadata": {},
   "outputs": [],
   "source": [
    "lgbm_model = lgb.LGBMRegressor()"
   ]
  },
  {
   "cell_type": "code",
   "execution_count": 30,
   "metadata": {},
   "outputs": [
    {
     "data": {
      "text/plain": [
       "{'learning_rate': 0.1,\n",
       " 'max_depth': 4,\n",
       " 'metric': 'rmse',\n",
       " 'objective': 'regression',\n",
       " 'random_state': 12345}"
      ]
     },
     "execution_count": 30,
     "metadata": {},
     "output_type": "execute_result"
    }
   ],
   "source": [
    "# Descobrir os melhores parâmetros\n",
    "lgbm_params = {\n",
    "    'metric': ['rmse'],\n",
    "    'max_depth': [2, 3, 4],\n",
    "    'learning_rate': [0.05, 0.1],\n",
    "    'random_state': [12345]\n",
    "}\n",
    "\n",
    "tuning_time, lgbm_best_params = hyper_tuning(lgbm_model, lgbm_params, X_gbm_train, y_gbm_train)\n",
    "\n",
    "metrics['tuning_time(s)'].append(tuning_time)\n",
    "lgbm_best_params"
   ]
  },
  {
   "cell_type": "code",
   "execution_count": 31,
   "metadata": {
    "scrolled": true
   },
   "outputs": [],
   "source": [
    "# Treinar apenas com os melhores parâmetros\n",
    "lgbm_model = lgb.LGBMRegressor(\n",
    "    objective='regression',\n",
    "    metric='rmse',\n",
    "    max_depth=lgbm_best_params['max_depth'],\n",
    "    learning_rate=lgbm_best_params['learning_rate'],\n",
    "    random_state=12345\n",
    ")\n",
    "\n",
    "start_time = time.time()\n",
    "lgbm_model.fit(X_gbm_train, y_gbm_train)\n",
    "training_time = time.time() - start_time\n",
    "metrics['training_time(s)'].append(training_time)"
   ]
  },
  {
   "cell_type": "code",
   "execution_count": 32,
   "metadata": {},
   "outputs": [],
   "source": [
    "start_time = time.time()\n",
    "lgbm_predictions = lgbm_model.predict(X_gbm_test)\n",
    "prediction_time = time.time() - start_time\n",
    "metrics['prediction_time(s)'].append(prediction_time)"
   ]
  },
  {
   "cell_type": "code",
   "execution_count": 33,
   "metadata": {},
   "outputs": [],
   "source": [
    "lgbm_rmse = math.sqrt(mean_squared_error(y_gbm_test, lgbm_predictions))\n",
    "metrics['RMSE'].append(lgbm_rmse)"
   ]
  },
  {
   "cell_type": "markdown",
   "metadata": {},
   "source": [
    "## Análise do modelo"
   ]
  },
  {
   "cell_type": "code",
   "execution_count": 34,
   "metadata": {},
   "outputs": [
    {
     "data": {
      "text/html": [
       "<div>\n",
       "<style scoped>\n",
       "    .dataframe tbody tr th:only-of-type {\n",
       "        vertical-align: middle;\n",
       "    }\n",
       "\n",
       "    .dataframe tbody tr th {\n",
       "        vertical-align: top;\n",
       "    }\n",
       "\n",
       "    .dataframe thead th {\n",
       "        text-align: right;\n",
       "    }\n",
       "</style>\n",
       "<table border=\"1\" class=\"dataframe\">\n",
       "  <thead>\n",
       "    <tr style=\"text-align: right;\">\n",
       "      <th></th>\n",
       "      <th>training_time(s)</th>\n",
       "      <th>prediction_time(s)</th>\n",
       "      <th>RMSE</th>\n",
       "      <th>tuning_time(s)</th>\n",
       "    </tr>\n",
       "  </thead>\n",
       "  <tbody>\n",
       "    <tr>\n",
       "      <th>Linear Regression</th>\n",
       "      <td>15.155565</td>\n",
       "      <td>0.199157</td>\n",
       "      <td>2656.537980</td>\n",
       "      <td>N/A</td>\n",
       "    </tr>\n",
       "    <tr>\n",
       "      <th>Random Forest</th>\n",
       "      <td>7.504035</td>\n",
       "      <td>0.224466</td>\n",
       "      <td>3674.580766</td>\n",
       "      <td>103.31394</td>\n",
       "    </tr>\n",
       "    <tr>\n",
       "      <th>CatBoost</th>\n",
       "      <td>15.102199</td>\n",
       "      <td>0.124063</td>\n",
       "      <td>1734.250039</td>\n",
       "      <td>172.395295</td>\n",
       "    </tr>\n",
       "    <tr>\n",
       "      <th>LightGBM</th>\n",
       "      <td>2.900786</td>\n",
       "      <td>0.508779</td>\n",
       "      <td>1662.463731</td>\n",
       "      <td>24.956298</td>\n",
       "    </tr>\n",
       "  </tbody>\n",
       "</table>\n",
       "</div>"
      ],
      "text/plain": [
       "                   training_time(s)  prediction_time(s)         RMSE  \\\n",
       "Linear Regression         15.155565            0.199157  2656.537980   \n",
       "Random Forest              7.504035            0.224466  3674.580766   \n",
       "CatBoost                  15.102199            0.124063  1734.250039   \n",
       "LightGBM                   2.900786            0.508779  1662.463731   \n",
       "\n",
       "                  tuning_time(s)  \n",
       "Linear Regression            N/A  \n",
       "Random Forest          103.31394  \n",
       "CatBoost              172.395295  \n",
       "LightGBM               24.956298  "
      ]
     },
     "execution_count": 34,
     "metadata": {},
     "output_type": "execute_result"
    }
   ],
   "source": [
    "# Criando Dataframe com as métricas dos modelos testados\n",
    "index = ['Linear Regression', 'Random Forest', 'CatBoost', 'LightGBM']\n",
    "df_metrics = pd.DataFrame(metrics, index=index)\n",
    "df_metrics.head()"
   ]
  },
  {
   "cell_type": "markdown",
   "metadata": {},
   "source": [
    "Ao analisar os dados percebemos que:<br>\n",
    "1) LightGBM tem o menor tempo de treino, porém se considerarmos o tempo gasto com o tuning dos parâmetros, a Regressão Linear é mais rápida;<br>\n",
    "2) O tempo de predição mais rápido é do CatBoost e o mais lento do LightGBM, porém é uma diferença que não tem impacto no nosso caso; <br>\n",
    "3) O modelo que apresentou o menor Erro foi o LightGBM, seguido de perto pelo CatBoost e o pior modelo foi o de Floresta Aleatória; <br>"
   ]
  },
  {
   "cell_type": "markdown",
   "metadata": {},
   "source": [
    "## Conclusões"
   ]
  },
  {
   "cell_type": "markdown",
   "metadata": {},
   "source": [
    "Com base nas métricas que medimos, o melhor modelo a ser utilizado foi o LightGBM que possuio o segundo menor tempo de treino, pouco atrás da Regressão Linear, e a melhor qualidade das previsões, mesmo que tenha demorado mais tempo para fazer as previsões, esse tempo não foi considerável para alterar a decisão sobre o melhor modelo."
   ]
  },
  {
   "cell_type": "code",
   "execution_count": null,
   "metadata": {},
   "outputs": [],
   "source": []
  },
  {
   "cell_type": "markdown",
   "metadata": {},
   "source": [
    "# Checklist"
   ]
  },
  {
   "cell_type": "markdown",
   "metadata": {},
   "source": [
    "Digite 'x' para verificar. Em seguida, pressione Shift + Enter."
   ]
  },
  {
   "cell_type": "markdown",
   "metadata": {},
   "source": [
    "- [x]  O Jupyter Notebook está aberto\n",
    "- [x]  O código está livre de erros\n",
    "- [x]  As células com o código foram organizadas em ordem de execução\n",
    "- [x]  Os dados foram baixados e preparados\n",
    "- [x]  Os modelos foram treinados\n",
    "- [x]  A análise de velocidade e qualidade dos modelos foi realizada"
   ]
  },
  {
   "cell_type": "code",
   "execution_count": null,
   "metadata": {},
   "outputs": [],
   "source": []
  }
 ],
 "metadata": {
  "kernelspec": {
   "display_name": "Python 3 (ipykernel)",
   "language": "python",
   "name": "python3"
  },
  "language_info": {
   "codemirror_mode": {
    "name": "ipython",
    "version": 3
   },
   "file_extension": ".py",
   "mimetype": "text/x-python",
   "name": "python",
   "nbconvert_exporter": "python",
   "pygments_lexer": "ipython3",
   "version": "3.9.19"
  },
  "toc": {
   "base_numbering": 1,
   "nav_menu": {},
   "number_sections": true,
   "sideBar": true,
   "skip_h1_title": true,
   "title_cell": "Table of Contents",
   "title_sidebar": "Contents",
   "toc_cell": false,
   "toc_position": {
    "height": "calc(100% - 180px)",
    "left": "10px",
    "top": "150px",
    "width": "280.6px"
   },
   "toc_section_display": true,
   "toc_window_display": true
  }
 },
 "nbformat": 4,
 "nbformat_minor": 2
}
